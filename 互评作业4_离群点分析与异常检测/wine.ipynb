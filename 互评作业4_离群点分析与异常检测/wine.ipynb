{
 "cells": [
  {
   "cell_type": "markdown",
   "metadata": {},
   "source": [
    "# 数据挖掘互评作业四：离群点分析与异常检测"
   ]
  },
  {
   "cell_type": "markdown",
   "metadata": {},
   "source": [
    "## 学院：计算机学院&emsp;学号：3120191079&emsp;姓名：周泳宇"
   ]
  },
  {
   "cell_type": "markdown",
   "metadata": {},
   "source": [
    "# wine数据集"
   ]
  },
  {
   "cell_type": "markdown",
   "metadata": {},
   "source": [
    "# 一、算法介绍与引入\n",
    "\n",
    "## 使用PyOD来做离群点检测，使用的是离群得分，即每个模型都会给每个数据点打分而非直接根据一个阈值判定某个点是否为离群点。"
   ]
  },
  {
   "cell_type": "markdown",
   "metadata": {},
   "source": [
    "### 定义一个数组来保存下述所有的算法分类器"
   ]
  },
  {
   "cell_type": "code",
   "execution_count": 1,
   "metadata": {
    "collapsed": true
   },
   "outputs": [],
   "source": [
    "clfs = []"
   ]
  },
  {
   "cell_type": "markdown",
   "metadata": {},
   "source": [
    "## 1.1 Angle_Based Outlier Detection (ABOD)\n",
    "### 它考虑了每个数据点和其邻居的关系，但是不考虑邻居之间的关系。ABOD在多维度数据上表现较好，PyOD提供了两种不同版本的ABOD，Fast ABOD：使用KNN来近似，Original ABOD：以高时间复杂度来考虑所有训练数据点，这里采用Original ABOD"
   ]
  },
  {
   "cell_type": "code",
   "execution_count": 2,
   "metadata": {
    "collapsed": true
   },
   "outputs": [],
   "source": [
    "from pyod.models.abod import ABOD\n",
    "clf_ABOD = ABOD()\n",
    "clfs.append([\"ABOD\", clf_ABOD])"
   ]
  },
  {
   "cell_type": "markdown",
   "metadata": {},
   "source": [
    "## 1.2 KNN 检测器\n",
    "### 对于任意数据点，其到第k个邻居的距离可以作为其离群得分，PyOD提供三种不同的KNN检测器：Largest： 使用第k个邻居的距离来作为离群得分；Mean: 使用全部k个邻居的平均距离作为离群得分；Median:使用k个邻居的距离的中位数作为离群得分。这里采用Largest检测器。"
   ]
  },
  {
   "cell_type": "code",
   "execution_count": 3,
   "metadata": {
    "collapsed": true
   },
   "outputs": [],
   "source": [
    "from pyod.models.knn import KNN\n",
    "clf_KNN = KNN()\n",
    "clfs.append([\"KNN\", clf_KNN])"
   ]
  },
  {
   "cell_type": "markdown",
   "metadata": {},
   "source": [
    "## 1.3 Isolation Forest\n",
    "### 内部使用sklearn，此方法中，使用一个集合的树来完成数据分区。Isolation Forest提供一个离群得分来判定一个数据点在结构中有多孤立。其离群得分用来将它与正常观测数据区分开来。Isolation Forest在多维数据上表现很好"
   ]
  },
  {
   "cell_type": "code",
   "execution_count": 4,
   "metadata": {
    "collapsed": true
   },
   "outputs": [],
   "source": [
    "from pyod.models.iforest import IForest\n",
    "clf_IForest = IForest()\n",
    "clfs.append([\"IForest\", clf_IForest])"
   ]
  },
  {
   "cell_type": "markdown",
   "metadata": {},
   "source": [
    "## 1.4 Histogram-based Outiler Detection\n",
    "### 一种高效的无监督方法，它假设特征之间独立，然后通过构建直方图来计算离群得分，比多变量方法快得多，但是要损失一些精度"
   ]
  },
  {
   "cell_type": "code",
   "execution_count": 5,
   "metadata": {
    "collapsed": true
   },
   "outputs": [],
   "source": [
    "from pyod.models.hbos import HBOS\n",
    "clf_HBOS = HBOS()\n",
    "clfs.append([\"HBOS\", clf_HBOS])"
   ]
  },
  {
   "cell_type": "markdown",
   "metadata": {},
   "source": [
    "## 1.5 Local Outlier Factor(LOF)\n",
    "### LOF算法（Local Outlier Factor，局部离群因子检测方法），是一种无监督的离群检测方法，是基于密度的离群点检测方法中一个比较有代表性的算法。该算法会给数据集中的每个点计算一个离群因子LOF，通过判断LOF是否接近于1来判定是否是离群因子。若LOF远大于1，则认为是离群因子，接近于1，则是正常点"
   ]
  },
  {
   "cell_type": "code",
   "execution_count": 6,
   "metadata": {
    "collapsed": true
   },
   "outputs": [],
   "source": [
    "from pyod.models.lof import LOF\n",
    "clf_LOF = LOF()\n",
    "clfs.append([\"LOF\", clf_LOF])"
   ]
  },
  {
   "cell_type": "markdown",
   "metadata": {},
   "source": [
    "## 1.6 Clustering Based Local Outiler Factor\n",
    "### 它将数据分为小聚类簇和大聚类簇。离群得分基于数据点所属的聚类簇的大小来计算，距离计算方式为到最近大聚类簇的距离。"
   ]
  },
  {
   "cell_type": "code",
   "execution_count": 7,
   "metadata": {
    "collapsed": true
   },
   "outputs": [],
   "source": [
    "from pyod.models.cblof import CBLOF\n",
    "clf_CBLOF = CBLOF()\n",
    "clfs.append([\"CBLOF\", clf_CBLOF])"
   ]
  },
  {
   "cell_type": "markdown",
   "metadata": {},
   "source": [
    "# 二、读入所有数据集并进行离群点分析与异常检测"
   ]
  },
  {
   "cell_type": "markdown",
   "metadata": {},
   "source": [
    "## 思路如下：对于所有单个的benchmark，每次读入一个benchmark，然后进行训练集与测试集划分，并用上述6个检测算法进行训练与测试，记录在训练集与测试集上的评估指标（roc与prn），并记录下来，最后用表格进行展示（因benchmark太多，故这里不作图，只用表格展示）"
   ]
  },
  {
   "cell_type": "markdown",
   "metadata": {},
   "source": [
    "## 2.1 首先展示对单个benchmark的处理"
   ]
  },
  {
   "cell_type": "code",
   "execution_count": 8,
   "metadata": {
    "collapsed": true
   },
   "outputs": [],
   "source": [
    "import pandas as pd"
   ]
  },
  {
   "cell_type": "code",
   "execution_count": 11,
   "metadata": {
    "collapsed": true
   },
   "outputs": [],
   "source": [
    "df = pd.read_csv('./wine/benchmarks/wine_benchmark_0001.csv')"
   ]
  },
  {
   "cell_type": "code",
   "execution_count": 12,
   "metadata": {
    "scrolled": true
   },
   "outputs": [
    {
     "data": {
      "text/html": [
       "<div>\n",
       "<style scoped>\n",
       "    .dataframe tbody tr th:only-of-type {\n",
       "        vertical-align: middle;\n",
       "    }\n",
       "\n",
       "    .dataframe tbody tr th {\n",
       "        vertical-align: top;\n",
       "    }\n",
       "\n",
       "    .dataframe thead th {\n",
       "        text-align: right;\n",
       "    }\n",
       "</style>\n",
       "<table border=\"1\" class=\"dataframe\">\n",
       "  <thead>\n",
       "    <tr style=\"text-align: right;\">\n",
       "      <th></th>\n",
       "      <th>point.id</th>\n",
       "      <th>motherset</th>\n",
       "      <th>origin</th>\n",
       "      <th>original.label</th>\n",
       "      <th>diff.score</th>\n",
       "      <th>ground.truth</th>\n",
       "      <th>fixed.acidity</th>\n",
       "      <th>volatile.acidity</th>\n",
       "      <th>citric.acid</th>\n",
       "      <th>residual.sugar</th>\n",
       "      <th>chlorides</th>\n",
       "      <th>free.sulfur.dioxide</th>\n",
       "      <th>total.sulfur.dioxide</th>\n",
       "      <th>density</th>\n",
       "      <th>pH</th>\n",
       "      <th>sulphates</th>\n",
       "      <th>alcohol</th>\n",
       "    </tr>\n",
       "  </thead>\n",
       "  <tbody>\n",
       "    <tr>\n",
       "      <th>0</th>\n",
       "      <td>wine_point_3594</td>\n",
       "      <td>wine</td>\n",
       "      <td>regression</td>\n",
       "      <td>7</td>\n",
       "      <td>0.050492</td>\n",
       "      <td>nominal</td>\n",
       "      <td>-1.245962</td>\n",
       "      <td>-0.362411</td>\n",
       "      <td>-0.265853</td>\n",
       "      <td>-0.261304</td>\n",
       "      <td>-0.343495</td>\n",
       "      <td>1.209882</td>\n",
       "      <td>0.747594</td>\n",
       "      <td>-0.899276</td>\n",
       "      <td>0.817846</td>\n",
       "      <td>-0.613338</td>\n",
       "      <td>0.174560</td>\n",
       "    </tr>\n",
       "    <tr>\n",
       "      <th>1</th>\n",
       "      <td>wine_point_5089</td>\n",
       "      <td>wine</td>\n",
       "      <td>regression</td>\n",
       "      <td>5</td>\n",
       "      <td>0.082237</td>\n",
       "      <td>anomaly</td>\n",
       "      <td>0.759540</td>\n",
       "      <td>0.973867</td>\n",
       "      <td>0.215849</td>\n",
       "      <td>-0.534540</td>\n",
       "      <td>0.598458</td>\n",
       "      <td>-0.536656</td>\n",
       "      <td>0.199134</td>\n",
       "      <td>0.968217</td>\n",
       "      <td>0.071518</td>\n",
       "      <td>0.596292</td>\n",
       "      <td>-0.915394</td>\n",
       "    </tr>\n",
       "    <tr>\n",
       "      <th>2</th>\n",
       "      <td>wine_point_1912</td>\n",
       "      <td>wine</td>\n",
       "      <td>regression</td>\n",
       "      <td>6</td>\n",
       "      <td>0.290201</td>\n",
       "      <td>nominal</td>\n",
       "      <td>-0.088942</td>\n",
       "      <td>-0.969809</td>\n",
       "      <td>-0.403482</td>\n",
       "      <td>-0.870829</td>\n",
       "      <td>-0.429127</td>\n",
       "      <td>-0.592996</td>\n",
       "      <td>-0.791633</td>\n",
       "      <td>-0.699187</td>\n",
       "      <td>-1.110168</td>\n",
       "      <td>1.402712</td>\n",
       "      <td>-0.496181</td>\n",
       "    </tr>\n",
       "    <tr>\n",
       "      <th>3</th>\n",
       "      <td>wine_point_4908</td>\n",
       "      <td>wine</td>\n",
       "      <td>regression</td>\n",
       "      <td>5</td>\n",
       "      <td>0.053559</td>\n",
       "      <td>anomaly</td>\n",
       "      <td>0.219597</td>\n",
       "      <td>0.973867</td>\n",
       "      <td>0.284664</td>\n",
       "      <td>0.138039</td>\n",
       "      <td>0.427194</td>\n",
       "      <td>-0.762016</td>\n",
       "      <td>-0.243173</td>\n",
       "      <td>1.034913</td>\n",
       "      <td>0.817846</td>\n",
       "      <td>1.805921</td>\n",
       "      <td>0.006874</td>\n",
       "    </tr>\n",
       "    <tr>\n",
       "      <th>4</th>\n",
       "      <td>wine_point_2246</td>\n",
       "      <td>wine</td>\n",
       "      <td>regression</td>\n",
       "      <td>7</td>\n",
       "      <td>0.420300</td>\n",
       "      <td>nominal</td>\n",
       "      <td>0.219597</td>\n",
       "      <td>-0.180191</td>\n",
       "      <td>-0.541112</td>\n",
       "      <td>0.348220</td>\n",
       "      <td>-0.714567</td>\n",
       "      <td>-0.142276</td>\n",
       "      <td>0.446826</td>\n",
       "      <td>-0.242318</td>\n",
       "      <td>-0.363840</td>\n",
       "      <td>-1.016548</td>\n",
       "      <td>0.090717</td>\n",
       "    </tr>\n",
       "  </tbody>\n",
       "</table>\n",
       "</div>"
      ],
      "text/plain": [
       "          point.id motherset      origin  original.label  diff.score  \\\n",
       "0  wine_point_3594      wine  regression               7    0.050492   \n",
       "1  wine_point_5089      wine  regression               5    0.082237   \n",
       "2  wine_point_1912      wine  regression               6    0.290201   \n",
       "3  wine_point_4908      wine  regression               5    0.053559   \n",
       "4  wine_point_2246      wine  regression               7    0.420300   \n",
       "\n",
       "  ground.truth  fixed.acidity  volatile.acidity  citric.acid  residual.sugar  \\\n",
       "0      nominal      -1.245962         -0.362411    -0.265853       -0.261304   \n",
       "1      anomaly       0.759540          0.973867     0.215849       -0.534540   \n",
       "2      nominal      -0.088942         -0.969809    -0.403482       -0.870829   \n",
       "3      anomaly       0.219597          0.973867     0.284664        0.138039   \n",
       "4      nominal       0.219597         -0.180191    -0.541112        0.348220   \n",
       "\n",
       "   chlorides  free.sulfur.dioxide  total.sulfur.dioxide   density        pH  \\\n",
       "0  -0.343495             1.209882              0.747594 -0.899276  0.817846   \n",
       "1   0.598458            -0.536656              0.199134  0.968217  0.071518   \n",
       "2  -0.429127            -0.592996             -0.791633 -0.699187 -1.110168   \n",
       "3   0.427194            -0.762016             -0.243173  1.034913  0.817846   \n",
       "4  -0.714567            -0.142276              0.446826 -0.242318 -0.363840   \n",
       "\n",
       "   sulphates   alcohol  \n",
       "0  -0.613338  0.174560  \n",
       "1   0.596292 -0.915394  \n",
       "2   1.402712 -0.496181  \n",
       "3   1.805921  0.006874  \n",
       "4  -1.016548  0.090717  "
      ]
     },
     "execution_count": 12,
     "metadata": {},
     "output_type": "execute_result"
    }
   ],
   "source": [
    "df.head()"
   ]
  },
  {
   "cell_type": "markdown",
   "metadata": {},
   "source": [
    "### 将是否离群转换为数字标签"
   ]
  },
  {
   "cell_type": "code",
   "execution_count": 13,
   "metadata": {
    "collapsed": true
   },
   "outputs": [],
   "source": [
    "label_mapping = {\n",
    "           'nominal': 0,\n",
    "           'anomaly': 1}\n",
    "df['ground.truth'] = df['ground.truth'].map(label_mapping)"
   ]
  },
  {
   "cell_type": "code",
   "execution_count": 14,
   "metadata": {
    "scrolled": false
   },
   "outputs": [
    {
     "data": {
      "text/html": [
       "<div>\n",
       "<style scoped>\n",
       "    .dataframe tbody tr th:only-of-type {\n",
       "        vertical-align: middle;\n",
       "    }\n",
       "\n",
       "    .dataframe tbody tr th {\n",
       "        vertical-align: top;\n",
       "    }\n",
       "\n",
       "    .dataframe thead th {\n",
       "        text-align: right;\n",
       "    }\n",
       "</style>\n",
       "<table border=\"1\" class=\"dataframe\">\n",
       "  <thead>\n",
       "    <tr style=\"text-align: right;\">\n",
       "      <th></th>\n",
       "      <th>point.id</th>\n",
       "      <th>motherset</th>\n",
       "      <th>origin</th>\n",
       "      <th>original.label</th>\n",
       "      <th>diff.score</th>\n",
       "      <th>ground.truth</th>\n",
       "      <th>fixed.acidity</th>\n",
       "      <th>volatile.acidity</th>\n",
       "      <th>citric.acid</th>\n",
       "      <th>residual.sugar</th>\n",
       "      <th>chlorides</th>\n",
       "      <th>free.sulfur.dioxide</th>\n",
       "      <th>total.sulfur.dioxide</th>\n",
       "      <th>density</th>\n",
       "      <th>pH</th>\n",
       "      <th>sulphates</th>\n",
       "      <th>alcohol</th>\n",
       "    </tr>\n",
       "  </thead>\n",
       "  <tbody>\n",
       "    <tr>\n",
       "      <th>0</th>\n",
       "      <td>wine_point_3594</td>\n",
       "      <td>wine</td>\n",
       "      <td>regression</td>\n",
       "      <td>7</td>\n",
       "      <td>0.050492</td>\n",
       "      <td>0</td>\n",
       "      <td>-1.245962</td>\n",
       "      <td>-0.362411</td>\n",
       "      <td>-0.265853</td>\n",
       "      <td>-0.261304</td>\n",
       "      <td>-0.343495</td>\n",
       "      <td>1.209882</td>\n",
       "      <td>0.747594</td>\n",
       "      <td>-0.899276</td>\n",
       "      <td>0.817846</td>\n",
       "      <td>-0.613338</td>\n",
       "      <td>0.174560</td>\n",
       "    </tr>\n",
       "    <tr>\n",
       "      <th>1</th>\n",
       "      <td>wine_point_5089</td>\n",
       "      <td>wine</td>\n",
       "      <td>regression</td>\n",
       "      <td>5</td>\n",
       "      <td>0.082237</td>\n",
       "      <td>1</td>\n",
       "      <td>0.759540</td>\n",
       "      <td>0.973867</td>\n",
       "      <td>0.215849</td>\n",
       "      <td>-0.534540</td>\n",
       "      <td>0.598458</td>\n",
       "      <td>-0.536656</td>\n",
       "      <td>0.199134</td>\n",
       "      <td>0.968217</td>\n",
       "      <td>0.071518</td>\n",
       "      <td>0.596292</td>\n",
       "      <td>-0.915394</td>\n",
       "    </tr>\n",
       "    <tr>\n",
       "      <th>2</th>\n",
       "      <td>wine_point_1912</td>\n",
       "      <td>wine</td>\n",
       "      <td>regression</td>\n",
       "      <td>6</td>\n",
       "      <td>0.290201</td>\n",
       "      <td>0</td>\n",
       "      <td>-0.088942</td>\n",
       "      <td>-0.969809</td>\n",
       "      <td>-0.403482</td>\n",
       "      <td>-0.870829</td>\n",
       "      <td>-0.429127</td>\n",
       "      <td>-0.592996</td>\n",
       "      <td>-0.791633</td>\n",
       "      <td>-0.699187</td>\n",
       "      <td>-1.110168</td>\n",
       "      <td>1.402712</td>\n",
       "      <td>-0.496181</td>\n",
       "    </tr>\n",
       "    <tr>\n",
       "      <th>3</th>\n",
       "      <td>wine_point_4908</td>\n",
       "      <td>wine</td>\n",
       "      <td>regression</td>\n",
       "      <td>5</td>\n",
       "      <td>0.053559</td>\n",
       "      <td>1</td>\n",
       "      <td>0.219597</td>\n",
       "      <td>0.973867</td>\n",
       "      <td>0.284664</td>\n",
       "      <td>0.138039</td>\n",
       "      <td>0.427194</td>\n",
       "      <td>-0.762016</td>\n",
       "      <td>-0.243173</td>\n",
       "      <td>1.034913</td>\n",
       "      <td>0.817846</td>\n",
       "      <td>1.805921</td>\n",
       "      <td>0.006874</td>\n",
       "    </tr>\n",
       "    <tr>\n",
       "      <th>4</th>\n",
       "      <td>wine_point_2246</td>\n",
       "      <td>wine</td>\n",
       "      <td>regression</td>\n",
       "      <td>7</td>\n",
       "      <td>0.420300</td>\n",
       "      <td>0</td>\n",
       "      <td>0.219597</td>\n",
       "      <td>-0.180191</td>\n",
       "      <td>-0.541112</td>\n",
       "      <td>0.348220</td>\n",
       "      <td>-0.714567</td>\n",
       "      <td>-0.142276</td>\n",
       "      <td>0.446826</td>\n",
       "      <td>-0.242318</td>\n",
       "      <td>-0.363840</td>\n",
       "      <td>-1.016548</td>\n",
       "      <td>0.090717</td>\n",
       "    </tr>\n",
       "  </tbody>\n",
       "</table>\n",
       "</div>"
      ],
      "text/plain": [
       "          point.id motherset      origin  original.label  diff.score  \\\n",
       "0  wine_point_3594      wine  regression               7    0.050492   \n",
       "1  wine_point_5089      wine  regression               5    0.082237   \n",
       "2  wine_point_1912      wine  regression               6    0.290201   \n",
       "3  wine_point_4908      wine  regression               5    0.053559   \n",
       "4  wine_point_2246      wine  regression               7    0.420300   \n",
       "\n",
       "   ground.truth  fixed.acidity  volatile.acidity  citric.acid  residual.sugar  \\\n",
       "0             0      -1.245962         -0.362411    -0.265853       -0.261304   \n",
       "1             1       0.759540          0.973867     0.215849       -0.534540   \n",
       "2             0      -0.088942         -0.969809    -0.403482       -0.870829   \n",
       "3             1       0.219597          0.973867     0.284664        0.138039   \n",
       "4             0       0.219597         -0.180191    -0.541112        0.348220   \n",
       "\n",
       "   chlorides  free.sulfur.dioxide  total.sulfur.dioxide   density        pH  \\\n",
       "0  -0.343495             1.209882              0.747594 -0.899276  0.817846   \n",
       "1   0.598458            -0.536656              0.199134  0.968217  0.071518   \n",
       "2  -0.429127            -0.592996             -0.791633 -0.699187 -1.110168   \n",
       "3   0.427194            -0.762016             -0.243173  1.034913  0.817846   \n",
       "4  -0.714567            -0.142276              0.446826 -0.242318 -0.363840   \n",
       "\n",
       "   sulphates   alcohol  \n",
       "0  -0.613338  0.174560  \n",
       "1   0.596292 -0.915394  \n",
       "2   1.402712 -0.496181  \n",
       "3   1.805921  0.006874  \n",
       "4  -1.016548  0.090717  "
      ]
     },
     "execution_count": 14,
     "metadata": {},
     "output_type": "execute_result"
    }
   ],
   "source": [
    "df.head()"
   ]
  },
  {
   "cell_type": "markdown",
   "metadata": {},
   "source": [
    "### 提取训练属性与标签"
   ]
  },
  {
   "cell_type": "code",
   "execution_count": 15,
   "metadata": {
    "collapsed": true
   },
   "outputs": [],
   "source": [
    "col_n = ['fixed.acidity', 'volatile.acidity', 'citric.acid', 'residual.sugar', 'chlorides', 'free.sulfur.dioxide', \n",
    "         'total.sulfur.dioxide', 'density', 'pH', 'sulphates', 'alcohol', 'ground.truth']\n",
    "\n",
    "data = pd.DataFrame(df,columns = col_n)"
   ]
  },
  {
   "cell_type": "code",
   "execution_count": 16,
   "metadata": {
    "collapsed": true
   },
   "outputs": [],
   "source": [
    "x = data.iloc[:, :-1]\n",
    "y = data.iloc[:, -1:]"
   ]
  },
  {
   "cell_type": "markdown",
   "metadata": {},
   "source": [
    "### 划分训练集（80%）与测试集（20%）"
   ]
  },
  {
   "cell_type": "code",
   "execution_count": 17,
   "metadata": {
    "collapsed": true
   },
   "outputs": [],
   "source": [
    "from sklearn.model_selection import train_test_split\n",
    "x_train, x_test, y_train, y_test = train_test_split(x, y, test_size=0.2, random_state=0)"
   ]
  },
  {
   "cell_type": "markdown",
   "metadata": {},
   "source": [
    "### 将数据转换成np.array()并用分类器进行检测"
   ]
  },
  {
   "cell_type": "code",
   "execution_count": 18,
   "metadata": {
    "collapsed": true
   },
   "outputs": [],
   "source": [
    "import numpy as np\n",
    "\n",
    "x_train = np.array(x_train)\n",
    "x_test = np.array(x_test)\n",
    "y_train = np.array(y_train)\n",
    "y_test = np.array(y_test)"
   ]
  },
  {
   "cell_type": "code",
   "execution_count": 19,
   "metadata": {},
   "outputs": [
    {
     "data": {
      "text/plain": [
       "KNN(algorithm='auto', contamination=0.1, leaf_size=30, method='largest',\n",
       "  metric='minkowski', metric_params=None, n_jobs=1, n_neighbors=5, p=2,\n",
       "  radius=1.0)"
      ]
     },
     "execution_count": 19,
     "metadata": {},
     "output_type": "execute_result"
    }
   ],
   "source": [
    "clf_name = 'KNN'\n",
    "clf = KNN()\n",
    "clf.fit(x_train)"
   ]
  },
  {
   "cell_type": "code",
   "execution_count": 20,
   "metadata": {
    "collapsed": true
   },
   "outputs": [],
   "source": [
    "y_train_pred = clf.labels_  # binary labels (0: inliers, 1: outliers)\n",
    "y_train_scores = clf.decision_scores_  # raw outlier scores\n",
    "\n",
    "# get the prediction on the test data\n",
    "y_test_pred = clf.predict(x_test)  # outlier labels (0 or 1)\n",
    "y_test_scores = clf.decision_function(x_test)  # outlier scores"
   ]
  },
  {
   "cell_type": "markdown",
   "metadata": {},
   "source": [
    "### 用roc和prn评价准确率"
   ]
  },
  {
   "cell_type": "code",
   "execution_count": 21,
   "metadata": {
    "collapsed": true
   },
   "outputs": [],
   "source": [
    "from sklearn.metrics import roc_auc_score\n",
    "from pyod.utils.utility import precision_n_scores"
   ]
  },
  {
   "cell_type": "code",
   "execution_count": 22,
   "metadata": {
    "collapsed": true
   },
   "outputs": [],
   "source": [
    "train_roc = np.round(roc_auc_score(y_train, y_train_pred), decimals=4)\n",
    "train_prn = np.round(precision_n_scores(y_train, y_train_pred), decimals=4)\n",
    "test_roc = np.round(roc_auc_score(y_test, y_test_pred), decimals=4)\n",
    "test_prn = np.round(precision_n_scores(y_test, y_test_pred), decimals=4)"
   ]
  },
  {
   "cell_type": "code",
   "execution_count": 23,
   "metadata": {},
   "outputs": [
    {
     "name": "stdout",
     "output_type": "stream",
     "text": [
      "0.5243\n",
      "0.4714\n",
      "0.5325\n",
      "0.5303\n"
     ]
    }
   ],
   "source": [
    "print(train_roc)\n",
    "print(train_prn)\n",
    "print(test_roc)\n",
    "print(test_prn)"
   ]
  },
  {
   "cell_type": "markdown",
   "metadata": {},
   "source": [
    "## 2.2 展示用多个算法对批量数据进行检测与评价（有些benchmark的训练集或测试集只有全为异常值或全为非异常值，无法用roc_auc_score进行评价，故设为0）"
   ]
  },
  {
   "cell_type": "markdown",
   "metadata": {},
   "source": [
    "### 新建一个dict，用于保存结果"
   ]
  },
  {
   "cell_type": "code",
   "execution_count": 24,
   "metadata": {
    "collapsed": true
   },
   "outputs": [],
   "source": [
    "result = dict()"
   ]
  },
  {
   "cell_type": "code",
   "execution_count": 25,
   "metadata": {
    "scrolled": true
   },
   "outputs": [
    {
     "name": "stderr",
     "output_type": "stream",
     "text": [
      "100%|██████████████████████████████████████████████████████████████████████████████| 1210/1210 [58:27<00:00,  2.90s/it]\n"
     ]
    }
   ],
   "source": [
    "result = dict()\n",
    "import os\n",
    "import numpy as np\n",
    "from sklearn.model_selection import train_test_split\n",
    "from sklearn.metrics import roc_auc_score\n",
    "from pyod.utils.utility import precision_n_scores\n",
    "from tqdm import tqdm\n",
    "\n",
    "import warnings\n",
    "warnings.filterwarnings(\"ignore\")\n",
    "\n",
    "files = os.listdir('./wine/benchmarks')\n",
    "# files[315:330]\n",
    "for file in tqdm(files):\n",
    "#     print(file)\n",
    "    df = pd.read_csv('./wine/benchmarks/' + file)\n",
    "    \n",
    "    label_mapping = {\n",
    "           'nominal': 0,\n",
    "           'anomaly': 1}\n",
    "    df['ground.truth'] = df['ground.truth'].map(label_mapping)\n",
    "    \n",
    "    col_n = ['fixed.acidity', 'volatile.acidity', 'citric.acid', 'residual.sugar', 'chlorides', 'free.sulfur.dioxide', \n",
    "         'total.sulfur.dioxide', 'density', 'pH', 'sulphates', 'alcohol', 'ground.truth']\n",
    "    data = pd.DataFrame(df,columns = col_n)\n",
    "    \n",
    "    x = data.iloc[:, :-1]\n",
    "    y = data.iloc[:, -1:]\n",
    "    \n",
    "    x_train, x_test, y_train, y_test = train_test_split(x, y, test_size=0.2, random_state=0)\n",
    "    \n",
    "    x_train = np.array(x_train)\n",
    "    x_test = np.array(x_test)\n",
    "    y_train = np.array(y_train)\n",
    "    y_test = np.array(y_test)\n",
    "    \n",
    "    for clf_item in clfs:\n",
    "#         print(clf_item)\n",
    "        clf_name = clf_item[0]\n",
    "        clf = clf_item[1]\n",
    "        clf.fit(x_train)\n",
    "        \n",
    "        y_train_pred = clf.labels_  # binary labels (0: inliers, 1: outliers)\n",
    "        y_train_scores = clf.decision_scores_  # raw outlier scores\n",
    "\n",
    "        # get the prediction on the test data\n",
    "        y_test_pred = clf.predict(x_test)  # outlier labels (0 or 1)\n",
    "        y_test_scores = clf.decision_function(x_test)  # outlier scores\n",
    "        \n",
    "        try:\n",
    "            train_roc = np.round(roc_auc_score(y_train, y_train_pred), decimals=4)\n",
    "        except:\n",
    "            train_roc = 0.0\n",
    "#         train_roc = np.round(roc_auc_score(y_train, y_train_scores), decimals=4)\n",
    "        train_prn = np.round(precision_n_scores(y_train, y_train_pred), decimals=4)\n",
    "        try:\n",
    "            test_roc = np.round(roc_auc_score(y_test, y_test_pred), decimals=4)\n",
    "        except:\n",
    "            test_roc = 0.0\n",
    "#         test_roc = np.round(roc_auc_score(y_test, y_test_scores), decimals=4)\n",
    "        test_prn = np.round(precision_n_scores(y_test, y_test_pred), decimals=4)\n",
    "        \n",
    "        try:\n",
    "            result[file]\n",
    "            result[file][clf_name] = [train_roc, train_prn, test_roc, test_prn]\n",
    "        except:\n",
    "            result[file] = {}\n",
    "            result[file][clf_name] = [train_roc, train_prn, test_roc, test_prn]"
   ]
  },
  {
   "cell_type": "code",
   "execution_count": 26,
   "metadata": {
    "scrolled": true
   },
   "outputs": [
    {
     "name": "stderr",
     "output_type": "stream",
     "text": [
      "100%|██████████████████████████████████████████████████████████████████████████████| 1210/1210 [00:29<00:00, 41.39it/s]\n"
     ]
    }
   ],
   "source": [
    "result_df = pd.DataFrame(columns=['benchmark', 'clf_name', 'train_roc', 'train_prn', 'test_roc', 'test_prn'])\n",
    "\n",
    "for benchmark in tqdm(result):\n",
    "    for clf_name in result[benchmark]:\n",
    "        values = result[benchmark][clf_name]\n",
    "        train_roc = values[0]\n",
    "        train_prn = values[1]\n",
    "        test_roc = values[2]\n",
    "        test_prn = values[3]\n",
    "        \n",
    "        c = {\"benchmark\": benchmark, \"clf_name\": clf_name, \"train_roc\": train_roc, \n",
    "             \"train_prn\": train_prn, \"test_roc\": test_roc, \"test_prn\": test_prn}\n",
    "#         print(c)\n",
    "\n",
    "        insertRow = pd.DataFrame(c, columns=['benchmark', 'clf_name', 'train_roc', 'train_prn', 'test_roc', 'test_prn'],index = [0])\n",
    "#         print(insertRow)\n",
    "\n",
    "        result_df = result_df.append(insertRow)\n",
    "        "
   ]
  },
  {
   "cell_type": "markdown",
   "metadata": {},
   "source": [
    "## 2.3 结果如下表所示，详细结果见附件：wine_result.csv"
   ]
  },
  {
   "cell_type": "code",
   "execution_count": 27,
   "metadata": {},
   "outputs": [
    {
     "data": {
      "text/html": [
       "<div>\n",
       "<style scoped>\n",
       "    .dataframe tbody tr th:only-of-type {\n",
       "        vertical-align: middle;\n",
       "    }\n",
       "\n",
       "    .dataframe tbody tr th {\n",
       "        vertical-align: top;\n",
       "    }\n",
       "\n",
       "    .dataframe thead th {\n",
       "        text-align: right;\n",
       "    }\n",
       "</style>\n",
       "<table border=\"1\" class=\"dataframe\">\n",
       "  <thead>\n",
       "    <tr style=\"text-align: right;\">\n",
       "      <th></th>\n",
       "      <th>benchmark</th>\n",
       "      <th>clf_name</th>\n",
       "      <th>train_roc</th>\n",
       "      <th>train_prn</th>\n",
       "      <th>test_roc</th>\n",
       "      <th>test_prn</th>\n",
       "    </tr>\n",
       "  </thead>\n",
       "  <tbody>\n",
       "    <tr>\n",
       "      <th>0</th>\n",
       "      <td>wine_benchmark_0001.csv</td>\n",
       "      <td>ABOD</td>\n",
       "      <td>0.5000</td>\n",
       "      <td>0.0000</td>\n",
       "      <td>0.5000</td>\n",
       "      <td>0.0000</td>\n",
       "    </tr>\n",
       "    <tr>\n",
       "      <th>0</th>\n",
       "      <td>wine_benchmark_0001.csv</td>\n",
       "      <td>KNN</td>\n",
       "      <td>0.5243</td>\n",
       "      <td>0.4714</td>\n",
       "      <td>0.5325</td>\n",
       "      <td>0.5303</td>\n",
       "    </tr>\n",
       "    <tr>\n",
       "      <th>0</th>\n",
       "      <td>wine_benchmark_0001.csv</td>\n",
       "      <td>IForest</td>\n",
       "      <td>0.5228</td>\n",
       "      <td>0.4646</td>\n",
       "      <td>0.5195</td>\n",
       "      <td>0.4571</td>\n",
       "    </tr>\n",
       "    <tr>\n",
       "      <th>0</th>\n",
       "      <td>wine_benchmark_0001.csv</td>\n",
       "      <td>HBOS</td>\n",
       "      <td>0.5221</td>\n",
       "      <td>0.4613</td>\n",
       "      <td>0.5009</td>\n",
       "      <td>0.3662</td>\n",
       "    </tr>\n",
       "    <tr>\n",
       "      <th>0</th>\n",
       "      <td>wine_benchmark_0001.csv</td>\n",
       "      <td>LOF</td>\n",
       "      <td>0.5191</td>\n",
       "      <td>0.4478</td>\n",
       "      <td>0.5248</td>\n",
       "      <td>0.4923</td>\n",
       "    </tr>\n",
       "    <tr>\n",
       "      <th>...</th>\n",
       "      <td>...</td>\n",
       "      <td>...</td>\n",
       "      <td>...</td>\n",
       "      <td>...</td>\n",
       "      <td>...</td>\n",
       "      <td>...</td>\n",
       "    </tr>\n",
       "    <tr>\n",
       "      <th>0</th>\n",
       "      <td>wine_benchmark_1680.csv</td>\n",
       "      <td>KNN</td>\n",
       "      <td>0.5310</td>\n",
       "      <td>0.1597</td>\n",
       "      <td>0.5222</td>\n",
       "      <td>0.1304</td>\n",
       "    </tr>\n",
       "    <tr>\n",
       "      <th>0</th>\n",
       "      <td>wine_benchmark_1680.csv</td>\n",
       "      <td>IForest</td>\n",
       "      <td>0.5137</td>\n",
       "      <td>0.1278</td>\n",
       "      <td>0.5122</td>\n",
       "      <td>0.0000</td>\n",
       "    </tr>\n",
       "    <tr>\n",
       "      <th>0</th>\n",
       "      <td>wine_benchmark_1680.csv</td>\n",
       "      <td>HBOS</td>\n",
       "      <td>0.5102</td>\n",
       "      <td>0.1214</td>\n",
       "      <td>0.4979</td>\n",
       "      <td>0.0857</td>\n",
       "    </tr>\n",
       "    <tr>\n",
       "      <th>0</th>\n",
       "      <td>wine_benchmark_1680.csv</td>\n",
       "      <td>LOF</td>\n",
       "      <td>0.5275</td>\n",
       "      <td>0.1534</td>\n",
       "      <td>0.5265</td>\n",
       "      <td>0.0000</td>\n",
       "    </tr>\n",
       "    <tr>\n",
       "      <th>0</th>\n",
       "      <td>wine_benchmark_1680.csv</td>\n",
       "      <td>CBLOF</td>\n",
       "      <td>0.5223</td>\n",
       "      <td>0.1438</td>\n",
       "      <td>0.5115</td>\n",
       "      <td>0.0000</td>\n",
       "    </tr>\n",
       "  </tbody>\n",
       "</table>\n",
       "<p>7260 rows × 6 columns</p>\n",
       "</div>"
      ],
      "text/plain": [
       "                  benchmark clf_name  train_roc  train_prn  test_roc  test_prn\n",
       "0   wine_benchmark_0001.csv     ABOD     0.5000     0.0000    0.5000    0.0000\n",
       "0   wine_benchmark_0001.csv      KNN     0.5243     0.4714    0.5325    0.5303\n",
       "0   wine_benchmark_0001.csv  IForest     0.5228     0.4646    0.5195    0.4571\n",
       "0   wine_benchmark_0001.csv     HBOS     0.5221     0.4613    0.5009    0.3662\n",
       "0   wine_benchmark_0001.csv      LOF     0.5191     0.4478    0.5248    0.4923\n",
       "..                      ...      ...        ...        ...       ...       ...\n",
       "0   wine_benchmark_1680.csv      KNN     0.5310     0.1597    0.5222    0.1304\n",
       "0   wine_benchmark_1680.csv  IForest     0.5137     0.1278    0.5122    0.0000\n",
       "0   wine_benchmark_1680.csv     HBOS     0.5102     0.1214    0.4979    0.0857\n",
       "0   wine_benchmark_1680.csv      LOF     0.5275     0.1534    0.5265    0.0000\n",
       "0   wine_benchmark_1680.csv    CBLOF     0.5223     0.1438    0.5115    0.0000\n",
       "\n",
       "[7260 rows x 6 columns]"
      ]
     },
     "execution_count": 27,
     "metadata": {},
     "output_type": "execute_result"
    }
   ],
   "source": [
    "result_df"
   ]
  },
  {
   "cell_type": "code",
   "execution_count": 28,
   "metadata": {
    "collapsed": true
   },
   "outputs": [],
   "source": [
    "result_df.to_csv('./wine_result.csv', index=None)"
   ]
  },
  {
   "cell_type": "markdown",
   "metadata": {},
   "source": [
    "## 2.4 分析：可以看到针对不同的数据集，不同的算法各有优劣。因此，在实际使用过程中，需要针对具体的场景，选择合适的异常点检测算法。"
   ]
  },
  {
   "cell_type": "markdown",
   "metadata": {},
   "source": [
    "# 三、总结\n",
    "## 1.LOF类的算法适用于局部区域空间问题，对于完整区域空间，KNN和Iforest更好。\n",
    "\n",
    "## 2.KNN每次运行需要遍历所有数据，所以效率比较低，如果效率要求比较高，用聚类方法更好。\n",
    "\n",
    "## 3.传统机器学习算法中Iforest、KNN表现较好。\n",
    "\n",
    "## 4.对于不同种类的数据，没有哪一种算法是最好的，HBOS算法在某些数据集上的表现非常好，且运算速度很快。\n",
    "\n",
    "## 5.当数据特征数很多时，只有KNN表现还不错，Iforest表现也不好，因为特征选取的随机性，可能无法覆盖足够多的特征（不绝对）。\n",
    "\n",
    "## 6.ABOD综合效果最差，尽量不要用。"
   ]
  },
  {
   "cell_type": "code",
   "execution_count": null,
   "metadata": {
    "collapsed": true
   },
   "outputs": [],
   "source": []
  }
 ],
 "metadata": {
  "kernelspec": {
   "display_name": "Python [conda env:tf_env]",
   "language": "python",
   "name": "conda-env-tf_env-py"
  },
  "language_info": {
   "codemirror_mode": {
    "name": "ipython",
    "version": 3
   },
   "file_extension": ".py",
   "mimetype": "text/x-python",
   "name": "python",
   "nbconvert_exporter": "python",
   "pygments_lexer": "ipython3",
   "version": "3.6.2"
  }
 },
 "nbformat": 4,
 "nbformat_minor": 2
}

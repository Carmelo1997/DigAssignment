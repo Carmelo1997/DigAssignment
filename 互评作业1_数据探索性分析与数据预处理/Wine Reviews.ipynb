{
 "cells": [
  {
   "cell_type": "markdown",
   "metadata": {},
   "source": [
    "<h2 align = \"right\">学院：计算机学院&emsp;学号：3120191079&emsp;姓名：周泳宇</h2>"
   ]
  },
  {
   "cell_type": "markdown",
   "metadata": {},
   "source": [
    "# Wine Reviews数据集"
   ]
  },
  {
   "cell_type": "markdown",
   "metadata": {},
   "source": [
    "## 一、数据可视化和摘要"
   ]
  },
  {
   "cell_type": "code",
   "execution_count": 87,
   "metadata": {},
   "outputs": [],
   "source": [
    "import seaborn as sns\n",
    "import numpy as np\n",
    "from fancyimpute import KNN\n",
    "import pandas as pd\n",
    "from matplotlib import pyplot as plt\n",
    "from sklearn.ensemble import RandomForestRegressor\n",
    "\n",
    "#显示所有列\n",
    "pd.set_option('display.max_columns', None)\n",
    "#显示所有行\n",
    "pd.set_option('display.max_rows', None)\n",
    "#设置value的显示长度为100，默认为50\n",
    "pd.set_option('max_colwidth',200)"
   ]
  },
  {
   "cell_type": "code",
   "execution_count": 71,
   "metadata": {},
   "outputs": [],
   "source": [
    "wine_df = pd.read_csv('winemag-data-130k-v2.csv')"
   ]
  },
  {
   "cell_type": "code",
   "execution_count": 67,
   "metadata": {},
   "outputs": [],
   "source": [
    "def fiveNumber(nums):\n",
    "    # 五数概括 Minimum（最小值）、Q1、Median（中位数、）、Q3、Maximum（最大值）\n",
    "    Minimum = min(nums)\n",
    "    Maximum = max(nums)\n",
    "    Q1 = np.percentile(nums, 25)\n",
    "    Median = np.median(nums)\n",
    "    Q3 = np.percentile(nums, 75)\n",
    "\n",
    "    IQR = Q3 - Q1\n",
    "    lower_limit = Q1 - 1.5 * IQR  # 下限值\n",
    "    upper_limit = Q3 + 1.5 * IQR  # 上限值\n",
    "\n",
    "    return Minimum, Q1, Median, Q3, Maximum, lower_limit, upper_limit"
   ]
  },
  {
   "cell_type": "markdown",
   "metadata": {},
   "source": [
    "### 1.1 数据摘要"
   ]
  },
  {
   "cell_type": "markdown",
   "metadata": {},
   "source": [
    "#### 标称属性：以province、country为例（频数描述）"
   ]
  },
  {
   "cell_type": "code",
   "execution_count": 73,
   "metadata": {},
   "outputs": [
    {
     "name": "stdout",
     "output_type": "stream",
     "text": [
      "California                         36247\n",
      "Washington                          8639\n",
      "Bordeaux                            5941\n",
      "Tuscany                             5897\n",
      "Oregon                              5373\n",
      "Burgundy                            3980\n",
      "Northern Spain                      3851\n",
      "Piedmont                            3729\n",
      "Mendoza Province                    3264\n",
      "Veneto                              2716\n",
      "New York                            2688\n",
      "Alsace                              2440\n",
      "Northeastern Italy                  2138\n",
      "Loire Valley                        1856\n",
      "Sicily & Sardinia                   1797\n",
      "Champagne                           1613\n",
      "Southwest France                    1503\n",
      "Southern Italy                      1349\n",
      "South Australia                     1349\n",
      "Provence                            1346\n",
      "Douro                               1281\n",
      "Central Italy                       1233\n",
      "Catalonia                           1164\n",
      "Rhône Valley                        1081\n",
      "Beaujolais                          1044\n",
      "Mosel                               1039\n",
      "Alentejano                           937\n",
      "Colchagua Valley                     830\n",
      "Marlborough                          798\n",
      "Virginia                             777\n",
      "Tejo                                 683\n",
      "France Other                         676\n",
      "Burgenland                           672\n",
      "Maipo Valley                         659\n",
      "Languedoc-Roussillon                 613\n",
      "Port                                 601\n",
      "Casablanca Valley                    601\n",
      "Niederösterreich                     600\n",
      "Other                                536\n",
      "Lombardy                             533\n",
      "Lisboa                               506\n",
      "Central Spain                        485\n",
      "Maule Valley                         471\n",
      "Levante                              454\n",
      "Stellenbosch                         443\n",
      "Vinho Verde                          410\n",
      "Galicia                              410\n",
      "Kamptal                              409\n",
      "Central Valley                       356\n",
      "Wachau                               353\n",
      "Dão                                  343\n",
      "Kremstal                             340\n",
      "Victoria                             322\n",
      "Rheingau                             315\n",
      "Western Australia                    286\n",
      "Western Cape                         281\n",
      "Rheinhessen                          281\n",
      "Galilee                              271\n",
      "Australia Other                      245\n",
      "Curicó Valley                        239\n",
      "Leyda Valley                         230\n",
      "Cachapoal Valley                     205\n",
      "Idaho                                192\n",
      "Andalucia                            189\n",
      "Pfalz                                187\n",
      "Alentejo                             182\n",
      "Bairrada                             167\n",
      "Rapel Valley                         162\n",
      "Central Otago                        162\n",
      "British Columbia                     160\n",
      "Península de Setúbal                 152\n",
      "Hawke's Bay                          136\n",
      "Italy Other                          135\n",
      "Coastal Region                       132\n",
      "Thermenregion                        128\n",
      "Aconcagua Valley                     116\n",
      "Judean Hills                         116\n",
      "Michigan                             114\n",
      "Thracian Valley                      110\n",
      "Südsteiermark                        109\n",
      "Limarí Valley                        104\n",
      "Mosel-Saar-Ruwer                     104\n",
      "Carnuntum                            103\n",
      "Weinviertel                          100\n",
      "Martinborough                         96\n",
      "Ontario                               96\n",
      "America                               95\n",
      "Texas                                 94\n",
      "Robertson                             88\n",
      "New South Wales                       85\n",
      "Nahe                                  84\n",
      "Paarl                                 75\n",
      "England                               74\n",
      "Kakheti                               73\n",
      "Swartland                             73\n",
      "Vienna                                72\n",
      "San Antonio                           70\n",
      "Colorado                              68\n",
      "Valle de Guadalupe                    66\n",
      "Österreichischer Sekt                 66\n",
      "Wagram                                65\n",
      "Spain Other                           64\n",
      "Baden                                 62\n",
      "Peloponnese                           57\n",
      "Wagram-Donauland                      56\n",
      "Moldova                               54\n",
      "Elqui Valley                          53\n",
      "Chile                                 51\n",
      "Nemea                                 51\n",
      "Minho                                 49\n",
      "Elgin                                 48\n",
      "Santorini                             48\n",
      "Tokaj                                 47\n",
      "Tokaji                                46\n",
      "New Mexico                            45\n",
      "Estremadura                           44\n",
      "Franken                               43\n",
      "Canelones                             43\n",
      "Traisental                            43\n",
      "Bío Bío Valley                        43\n",
      "Tasmania                              42\n",
      "Leithaberg                            42\n",
      "Nelson                                41\n",
      "Simonsberg-Stellenbosch               41\n",
      "Arizona                               41\n",
      "Drama                                 40\n",
      "Südoststeiermark                      37\n",
      "Peumo                                 36\n",
      "Beira Interior                        35\n",
      "Missouri                              33\n",
      "Upper Galilee                         32\n",
      "Dealu Mare                            31\n",
      "Lontué Valley                         29\n",
      "Kumeu                                 29\n",
      "Spanish Islands                       28\n",
      "Wiener Gemischter Satz                28\n",
      "Awatere Valley                        27\n",
      "Aconcagua Costa                       27\n",
      "Crete                                 27\n",
      "Austria                               26\n",
      "Portuguese Table Wine                 26\n",
      "Mantinia                              26\n",
      "Goriska Brda                          26\n",
      "Waipara                               25\n",
      "Naoussa                               25\n",
      "Duriense                              25\n",
      "Constantia                            24\n",
      "Marchigue                             24\n",
      "Uruguay                               24\n",
      "Villány                               24\n",
      "North Carolina                        23\n",
      "Franschhoek                           23\n",
      "Setubal                               23\n",
      "Wellington                            23\n",
      "Mittelburgenland                      23\n",
      "Istria                                23\n",
      "Bucelas                               23\n",
      "Viile Timisului                       22\n",
      "Lolol Valley                          22\n",
      "Bekaa Valley                          22\n",
      "Vinho Espumante de Qualidade          22\n",
      "Württemberg                           22\n",
      "Aegean                                22\n",
      "Štajerska                             22\n",
      "Romania                               21\n",
      "Palmela                               21\n",
      "Loncomilla Valley                     20\n",
      "Steiermark                            20\n",
      "Shomron                               20\n",
      "Danube River Plains                   19\n",
      "Walker Bay                            19\n",
      "Zenata                                19\n",
      "Beiras                                18\n",
      "Pennsylvania                          18\n",
      "Serra Gaúcha                          18\n",
      "Ankara                                18\n",
      "Weinland Österreich                   18\n",
      "Pangeon                               17\n",
      "Epanomi                               17\n",
      "Turkey                                17\n",
      "Ica                                   16\n",
      "Eisenberg                             16\n",
      "Tulbagh                               16\n",
      "Thrace                                16\n",
      "Waipara Valley                        16\n",
      "Israel                                16\n",
      "Puente Alto                           15\n",
      "Ribatejano                            15\n",
      "Hemel en Aarde                        15\n",
      "Trás-os-Montes                        14\n",
      "Ukraine                               14\n",
      "Beira Atlantico                       14\n",
      "Atalanti Valley                       14\n",
      "Ribatejo                              14\n",
      "Galil                                 13\n",
      "Itata Valley                          13\n",
      "Eger                                  13\n",
      "Greece                                13\n",
      "Recas                                 13\n",
      "Peljesac                              13\n",
      "Northwestern Italy                    13\n",
      "Florina                               13\n",
      "Colchagua Costa                       13\n",
      "Neusiedlersee                         13\n",
      "Lebanon                               13\n",
      "Georgia                               13\n",
      "Madeira                               13\n",
      "Apalta                                12\n",
      "Vipavska Dolina                       12\n",
      "Canterbury                            12\n",
      "North Dalmatia                        12\n",
      "Germany                               12\n",
      "Moravia                               12\n",
      "Terras do Sado                        12\n",
      "South Island                          12\n",
      "Samson                                12\n",
      "Tikves                                12\n",
      "New Zealand                           12\n",
      "Wairarapa                             12\n",
      "Ohio                                  12\n",
      "Durbanville                           12\n",
      "Juanico                               12\n",
      "Progreso                              11\n",
      "Wairau Valley                         11\n",
      "Montevideo                            11\n",
      "Cappadocia                            10\n",
      "Gisborne                              10\n",
      "Macedonia                             10\n",
      "Waiheke Island                        10\n",
      "Vale dos Vinhedos                      9\n",
      "Bulgaria                               9\n",
      "Dealurile Munteniei                    9\n",
      "Nashik                                 9\n",
      "Primorska                              9\n",
      "Cauquenes Valley                       9\n",
      "Algarve                                9\n",
      "Overberg                               9\n",
      "Ahr                                    9\n",
      "Župa                                   8\n",
      "Bot River                              8\n",
      "Darling                                8\n",
      "New Jersey                             8\n",
      "Molina                                 8\n",
      "Cephalonia                             8\n",
      "Cederberg                              8\n",
      "Obidos                                 8\n",
      "Buin                                   8\n",
      "Alenquer                               7\n",
      "Washington-Oregon                      7\n",
      "Brazil                                 7\n",
      "Moscatel do Douro                      7\n",
      "Massachusetts                          7\n",
      "Hungary                                7\n",
      "Brda                                   7\n",
      "Murfatlar                              7\n",
      "East Coast                             7\n",
      "Moscatel de Setúbal                    7\n",
      "Slovenia                               6\n",
      "Samos                                  6\n",
      "Attica                                 6\n",
      "Illinois                               6\n",
      "Santa Cruz                             6\n",
      "Korčula                                6\n",
      "Morocco                                6\n",
      "Corinth                                6\n",
      "Moselle Luxembourgeoise                6\n",
      "Pirque                                 6\n",
      "Pinto Bandeira                         6\n",
      "South Africa                           5\n",
      "Rio Claro                              5\n",
      "Amyndeon                               5\n",
      "Elazığ                                 5\n",
      "Podunavlje                             5\n",
      "Halkidiki                              5\n",
      "Negev Hills                            5\n",
      "Mittelrhein                            5\n",
      "Vinho Espumante                        5\n",
      "Chalkidiki                             5\n",
      "Kutjevo                                5\n",
      "Vale Trentino                          5\n",
      "Tarnave                                5\n",
      "Achaia                                 5\n",
      "Atlantida                              5\n",
      "Mavrodaphne of Patras                  4\n",
      "San Clemente                           4\n",
      "Campanha                               4\n",
      "Groenekloof                            4\n",
      "Portugal                               4\n",
      "Haut-Judeé                             4\n",
      "Terras do Dão                          4\n",
      "Simonsberg-Paarl                       4\n",
      "Jerusalem Hills                        4\n",
      "Iowa                                   4\n",
      "Österreichischer Perlwein              4\n",
      "Philadelphia                           4\n",
      "Nevada                                 4\n",
      "Jonkershoek Valley                     4\n",
      "Pageon                                 4\n",
      "Ella Valley                            4\n",
      "Sopron                                 4\n",
      "Vermont                                3\n",
      "Polkadraai Hills                       3\n",
      "Kras                                   3\n",
      "Cape Peninsula                         3\n",
      "Patras                                 3\n",
      "Jidvei                                 3\n",
      "Malleco                                3\n",
      "Switzerland                            3\n",
      "Pafos                                  3\n",
      "Cyprus                                 3\n",
      "Negev                                  3\n",
      "Eilandia                               3\n",
      "Mátra                                  3\n",
      "Cahul                                  3\n",
      "Guerrouane                             3\n",
      "Sebes                                  3\n",
      "Agioritikos                            3\n",
      "Hvar                                   3\n",
      "Fruška Gora                            3\n",
      "Ismarikos                              3\n",
      "Elim                                   3\n",
      "Golan Heights                          3\n",
      "Rapsani                                3\n",
      "Korinthia                              3\n",
      "Sithonia                               3\n",
      "San Jose                               3\n",
      "Breedekloof                            3\n",
      "Maipo Valley-Colchagua Valley          3\n",
      "Black Sea Coastal                      3\n",
      "Casablanca & Leyda Valleys             3\n",
      "Vinho Licoroso                         3\n",
      "Choapa Valley                          3\n",
      "Connecticut                            3\n",
      "Curicó and Leyda Valleys               3\n",
      "Goumenissa                             3\n",
      "Távora-Varosa                          2\n",
      "Vânju Mare                             2\n",
      "Codru Region                           2\n",
      "Mount Athos                            2\n",
      "Armenia                                2\n",
      "Panciu                                 2\n",
      "Olifants River                         2\n",
      "Cape South Coast                       2\n",
      "Landwein Rhein                         2\n",
      "Sagrada Familia                        2\n",
      "Leyda Valley-Maipo Valley              2\n",
      "San Vicente                            2\n",
      "Malgas                                 2\n",
      "Devon Valley                           2\n",
      "Curicó and Maipo Valleys               2\n",
      "Letrinon                               2\n",
      "Helderberg                             2\n",
      "Thessalikos                            2\n",
      "Südburgenland                          2\n",
      "Lakonia                                2\n",
      "Waitaki Valley                         2\n",
      "Northern Cape                          2\n",
      "Mostar                                 2\n",
      "Commandaria                            2\n",
      "Requinoa                               2\n",
      "Limnos                                 2\n",
      "Szekszárd                              2\n",
      "San Antonio de las Minas Valley        2\n",
      "Retsina                                2\n",
      "Santa Catarina                         2\n",
      "Cyclades                               2\n",
      "Valais                                 2\n",
      "Amindeo                                2\n",
      "Colares                                2\n",
      "Vin de Pays de Velvendo                2\n",
      "Dan                                    2\n",
      "Canada Other                           1\n",
      "Neuchâtel                              1\n",
      "Kathikas                               1\n",
      "Central Greece                         1\n",
      "Beotia                                 1\n",
      "Vlootenburg                            1\n",
      "Gladstone                              1\n",
      "Mavrodaphne de Cephalonie              1\n",
      "Lemesos                                1\n",
      "Arcadia                                1\n",
      "Rhode Island                           1\n",
      "Croatia                                1\n",
      "Vinho da Mesa                          1\n",
      "Corinthia                              1\n",
      "Krania Olympus                         1\n",
      "Lutzville Valley                       1\n",
      "Paardeberg                             1\n",
      "Dalmatian Coast                        1\n",
      "Krk                                    1\n",
      "Markopoulo                             1\n",
      "Piekenierskloof                        1\n",
      "Pitsilia Mountains                     1\n",
      "Hrvatsko Primorje                      1\n",
      "Muscat of Kefallonian                  1\n",
      "Ticino                                 1\n",
      "Elazığ-Diyarbakir                      1\n",
      "Alenteo                                1\n",
      "Slovenska Istra                        1\n",
      "China                                  1\n",
      "Lesbos                                 1\n",
      "Monemvasia                             1\n",
      "Coelemu                                1\n",
      "Imathia                                1\n",
      "Viile Timis                            1\n",
      "Dingač                                 1\n",
      "Messinia                               1\n",
      "Urla-Thrace                            1\n",
      "Pocerina                               1\n",
      "Dealurile Hușilor                      1\n",
      "Egypt                                  1\n",
      "Hawaii                                 1\n",
      "Ceres Plateau                          1\n",
      "Thraki                                 1\n",
      "Muzla                                  1\n",
      "Serra do Sudeste                       1\n",
      "Table wine                             1\n",
      "Sterea Ellada                          1\n",
      "Casablanca-Curicó Valley               1\n",
      "Dolenjska                              1\n",
      "Breede River Valley                    1\n",
      "Cape Agulhas                           1\n",
      "Middle and South Dalmatia              1\n",
      "Kentucky                               1\n",
      "Muscat of Patras                       1\n",
      "Name: province, dtype: int64\n"
     ]
    }
   ],
   "source": [
    "province = wine_df['province']\n",
    "value_count = province.value_counts()\n",
    "print(value_count)"
   ]
  },
  {
   "cell_type": "code",
   "execution_count": 74,
   "metadata": {},
   "outputs": [
    {
     "name": "stdout",
     "output_type": "stream",
     "text": [
      "US                        54504\n",
      "France                    22093\n",
      "Italy                     19540\n",
      "Spain                      6645\n",
      "Portugal                   5691\n",
      "Chile                      4472\n",
      "Argentina                  3800\n",
      "Austria                    3345\n",
      "Australia                  2329\n",
      "Germany                    2165\n",
      "New Zealand                1419\n",
      "South Africa               1401\n",
      "Israel                      505\n",
      "Greece                      466\n",
      "Canada                      257\n",
      "Hungary                     146\n",
      "Bulgaria                    141\n",
      "Romania                     120\n",
      "Uruguay                     109\n",
      "Turkey                       90\n",
      "Slovenia                     87\n",
      "Georgia                      86\n",
      "England                      74\n",
      "Croatia                      73\n",
      "Mexico                       70\n",
      "Moldova                      59\n",
      "Brazil                       52\n",
      "Lebanon                      35\n",
      "Morocco                      28\n",
      "Peru                         16\n",
      "Ukraine                      14\n",
      "Czech Republic               12\n",
      "Serbia                       12\n",
      "Macedonia                    12\n",
      "Cyprus                       11\n",
      "India                         9\n",
      "Switzerland                   7\n",
      "Luxembourg                    6\n",
      "Armenia                       2\n",
      "Bosnia and Herzegovina        2\n",
      "Egypt                         1\n",
      "Slovakia                      1\n",
      "China                         1\n",
      "Name: country, dtype: int64\n"
     ]
    }
   ],
   "source": [
    "country = wine_df['country']\n",
    "value_count = country.value_counts()\n",
    "print(value_count)"
   ]
  },
  {
   "cell_type": "markdown",
   "metadata": {},
   "source": [
    "#### 数值型属性：price, points（统计缺失值+五数概括）"
   ]
  },
  {
   "cell_type": "code",
   "execution_count": 13,
   "metadata": {
    "scrolled": true
   },
   "outputs": [
    {
     "name": "stdout",
     "output_type": "stream",
     "text": [
      "<class 'pandas.core.frame.DataFrame'>\n",
      "RangeIndex: 129971 entries, 0 to 129970\n",
      "Data columns (total 14 columns):\n",
      " #   Column                 Non-Null Count   Dtype  \n",
      "---  ------                 --------------   -----  \n",
      " 0   Unnamed: 0             129971 non-null  int64  \n",
      " 1   country                129908 non-null  object \n",
      " 2   description            129971 non-null  object \n",
      " 3   designation            92506 non-null   object \n",
      " 4   points                 129971 non-null  int64  \n",
      " 5   price                  120975 non-null  float64\n",
      " 6   province               129908 non-null  object \n",
      " 7   region_1               108724 non-null  object \n",
      " 8   region_2               50511 non-null   object \n",
      " 9   taster_name            103727 non-null  object \n",
      " 10  taster_twitter_handle  98758 non-null   object \n",
      " 11  title                  129971 non-null  object \n",
      " 12  variety                129970 non-null  object \n",
      " 13  winery                 129971 non-null  object \n",
      "dtypes: float64(1), int64(2), object(11)\n",
      "memory usage: 13.9+ MB\n"
     ]
    }
   ],
   "source": [
    "# 统计缺失值\n",
    "# price = wine_df['price']\n",
    "# na_count = price.shape[0] - price.count()\n",
    "# print(na_count)\n",
    "\n",
    "wine_df.info()"
   ]
  },
  {
   "cell_type": "markdown",
   "metadata": {},
   "source": [
    "#### 可以看到，数据总数为129971条，在数值型数据中，points没有缺失值，price缺失了8996条数据，数据缺失原因：数据库进行数据写入时数据丢失，或者价格本身就是缺失数据，没有被统计到。"
   ]
  },
  {
   "cell_type": "code",
   "execution_count": 11,
   "metadata": {},
   "outputs": [
    {
     "data": {
      "text/html": [
       "<div>\n",
       "<style scoped>\n",
       "    .dataframe tbody tr th:only-of-type {\n",
       "        vertical-align: middle;\n",
       "    }\n",
       "\n",
       "    .dataframe tbody tr th {\n",
       "        vertical-align: top;\n",
       "    }\n",
       "\n",
       "    .dataframe thead th {\n",
       "        text-align: right;\n",
       "    }\n",
       "</style>\n",
       "<table border=\"1\" class=\"dataframe\">\n",
       "  <thead>\n",
       "    <tr style=\"text-align: right;\">\n",
       "      <th></th>\n",
       "      <th>Unnamed: 0</th>\n",
       "      <th>points</th>\n",
       "      <th>price</th>\n",
       "    </tr>\n",
       "  </thead>\n",
       "  <tbody>\n",
       "    <tr>\n",
       "      <th>count</th>\n",
       "      <td>129971.000000</td>\n",
       "      <td>129971.000000</td>\n",
       "      <td>120975.000000</td>\n",
       "    </tr>\n",
       "    <tr>\n",
       "      <th>mean</th>\n",
       "      <td>64985.000000</td>\n",
       "      <td>88.447138</td>\n",
       "      <td>35.363389</td>\n",
       "    </tr>\n",
       "    <tr>\n",
       "      <th>std</th>\n",
       "      <td>37519.540256</td>\n",
       "      <td>3.039730</td>\n",
       "      <td>41.022218</td>\n",
       "    </tr>\n",
       "    <tr>\n",
       "      <th>min</th>\n",
       "      <td>0.000000</td>\n",
       "      <td>80.000000</td>\n",
       "      <td>4.000000</td>\n",
       "    </tr>\n",
       "    <tr>\n",
       "      <th>25%</th>\n",
       "      <td>32492.500000</td>\n",
       "      <td>86.000000</td>\n",
       "      <td>17.000000</td>\n",
       "    </tr>\n",
       "    <tr>\n",
       "      <th>50%</th>\n",
       "      <td>64985.000000</td>\n",
       "      <td>88.000000</td>\n",
       "      <td>25.000000</td>\n",
       "    </tr>\n",
       "    <tr>\n",
       "      <th>75%</th>\n",
       "      <td>97477.500000</td>\n",
       "      <td>91.000000</td>\n",
       "      <td>42.000000</td>\n",
       "    </tr>\n",
       "    <tr>\n",
       "      <th>max</th>\n",
       "      <td>129970.000000</td>\n",
       "      <td>100.000000</td>\n",
       "      <td>3300.000000</td>\n",
       "    </tr>\n",
       "  </tbody>\n",
       "</table>\n",
       "</div>"
      ],
      "text/plain": [
       "          Unnamed: 0         points          price\n",
       "count  129971.000000  129971.000000  120975.000000\n",
       "mean    64985.000000      88.447138      35.363389\n",
       "std     37519.540256       3.039730      41.022218\n",
       "min         0.000000      80.000000       4.000000\n",
       "25%     32492.500000      86.000000      17.000000\n",
       "50%     64985.000000      88.000000      25.000000\n",
       "75%     97477.500000      91.000000      42.000000\n",
       "max    129970.000000     100.000000    3300.000000"
      ]
     },
     "execution_count": 11,
     "metadata": {},
     "output_type": "execute_result"
    }
   ],
   "source": [
    "# 五数概括\n",
    "wine_df.describe()"
   ]
  },
  {
   "cell_type": "markdown",
   "metadata": {},
   "source": [
    "### 1.2 数据可视化（以属性price和points为例）"
   ]
  },
  {
   "cell_type": "markdown",
   "metadata": {},
   "source": [
    "#### 直方图（数据分布）"
   ]
  },
  {
   "cell_type": "code",
   "execution_count": 17,
   "metadata": {},
   "outputs": [
    {
     "data": {
      "image/png": "[encoded data removed]",
      "text/plain": [
       "<Figure size 432x288 with 1 Axes>"
      ]
     },
     "metadata": {
      "needs_background": "light"
     },
     "output_type": "display_data"
    },
    {
     "data": {
      "image/png": "[encoded data removed]",
      "text/plain": [
       "<Figure size 432x288 with 1 Axes>"
      ]
     },
     "metadata": {
      "needs_background": "light"
     },
     "output_type": "display_data"
    }
   ],
   "source": [
    "sns.distplot(wine_df['price'])\n",
    "plt.show()\n",
    "sns.distplot(wine_df['points'])\n",
    "plt.show()"
   ]
  },
  {
   "cell_type": "markdown",
   "metadata": {},
   "source": [
    "#### 盒图（离群点）"
   ]
  },
  {
   "cell_type": "code",
   "execution_count": 26,
   "metadata": {},
   "outputs": [
    {
     "data": {
      "image/png": "[encoded data removed]",
      "text/plain": [
       "<Figure size 432x288 with 1 Axes>"
      ]
     },
     "metadata": {
      "needs_background": "light"
     },
     "output_type": "display_data"
    },
    {
     "data": {
      "image/png": "[encoded data removed]",
      "text/plain": [
       "<Figure size 432x288 with 1 Axes>"
      ]
     },
     "metadata": {
      "needs_background": "light"
     },
     "output_type": "display_data"
    }
   ],
   "source": [
    "sns.boxplot(data=wine_df['price'])\n",
    "plt.show()\n",
    "sns.boxplot(data=wine_df['points'])\n",
    "plt.show()"
   ]
  },
  {
   "cell_type": "markdown",
   "metadata": {},
   "source": [
    "## 二、数据缺失值的处理（因只有price有缺失值，这里只处理price，对于标称型数据，以country为例，通过用最高频率值的方式来进行填充）"
   ]
  },
  {
   "cell_type": "code",
   "execution_count": 82,
   "metadata": {},
   "outputs": [],
   "source": [
    "#显示所有列\n",
    "pd.set_option('display.max_columns', 100)\n",
    "#显示所有行\n",
    "pd.set_option('display.max_rows', 1000)\n",
    "#设置value的显示长度为100，默认为50\n",
    "pd.set_option('max_colwidth',1000)"
   ]
  },
  {
   "cell_type": "markdown",
   "metadata": {},
   "source": [
    "### 2.1 将缺失部分剔除"
   ]
  },
  {
   "cell_type": "markdown",
   "metadata": {},
   "source": [
    "#### 处理之前的数据集"
   ]
  },
  {
   "cell_type": "code",
   "execution_count": 83,
   "metadata": {
    "scrolled": true
   },
   "outputs": [
    {
     "data": {
      "image/png": "[encoded data removed]",
      "text/plain": [
       "<Figure size 360x360 with 6 Axes>"
      ]
     },
     "metadata": {
      "needs_background": "light"
     },
     "output_type": "display_data"
    },
    {
     "name": "stdout",
     "output_type": "stream",
     "text": [
      "0          NaN\n",
      "1         15.0\n",
      "2         14.0\n",
      "3         13.0\n",
      "4         65.0\n",
      "          ... \n",
      "129966    28.0\n",
      "129967    75.0\n",
      "129968    30.0\n",
      "129969    32.0\n",
      "129970    21.0\n",
      "Name: price, Length: 129971, dtype: float64\n"
     ]
    }
   ],
   "source": [
    "sns.pairplot(wine_df, vars=[\"price\",\"points\"])\n",
    "plt.show()\n",
    "print(wine_df['price'])"
   ]
  },
  {
   "cell_type": "markdown",
   "metadata": {},
   "source": [
    "#### 处理之后的数据集"
   ]
  },
  {
   "cell_type": "code",
   "execution_count": 46,
   "metadata": {
    "scrolled": false
   },
   "outputs": [
    {
     "data": {
      "image/png": "[encoded data removed]",
      "text/plain": [
       "<Figure size 360x360 with 6 Axes>"
      ]
     },
     "metadata": {
      "needs_background": "light"
     },
     "output_type": "display_data"
    },
    {
     "name": "stdout",
     "output_type": "stream",
     "text": [
      "4          65.0\n",
      "10         19.0\n",
      "23         22.0\n",
      "25         69.0\n",
      "35         50.0\n",
      "          ...  \n",
      "129919    105.0\n",
      "129926     41.0\n",
      "129945     20.0\n",
      "129949     35.0\n",
      "129950     35.0\n",
      "Name: price, Length: 22387, dtype: float64\n"
     ]
    }
   ],
   "source": [
    "wine_df_after = wine_df.dropna()\n",
    "sns.pairplot(wine_df_after, vars=[\"price\",\"points\"])\n",
    "plt.show()\n",
    "print(wine_df_after['price'])"
   ]
  },
  {
   "cell_type": "markdown",
   "metadata": {},
   "source": [
    "### 2.2 用最高频率值来填补缺失值"
   ]
  },
  {
   "cell_type": "markdown",
   "metadata": {},
   "source": [
    "#### 处理之前的数据集"
   ]
  },
  {
   "cell_type": "code",
   "execution_count": 85,
   "metadata": {
    "scrolled": true
   },
   "outputs": [
    {
     "data": {
      "image/png": "[encoded data removed]",
      "text/plain": [
       "<Figure size 360x360 with 6 Axes>"
      ]
     },
     "metadata": {
      "needs_background": "light"
     },
     "output_type": "display_data"
    },
    {
     "name": "stdout",
     "output_type": "stream",
     "text": [
      "0          NaN\n",
      "1         15.0\n",
      "2         14.0\n",
      "3         13.0\n",
      "4         65.0\n",
      "          ... \n",
      "129966    28.0\n",
      "129967    75.0\n",
      "129968    30.0\n",
      "129969    32.0\n",
      "129970    21.0\n",
      "Name: price, Length: 129971, dtype: float64\n",
      "\n",
      "===================\n",
      "\n",
      "0            Italy\n",
      "1         Portugal\n",
      "2               US\n",
      "3               US\n",
      "4               US\n",
      "            ...   \n",
      "129966     Germany\n",
      "129967          US\n",
      "129968      France\n",
      "129969      France\n",
      "129970      France\n",
      "Name: country, Length: 129971, dtype: object\n"
     ]
    }
   ],
   "source": [
    "wine_df2 = wine_df.copy(deep=True)\n",
    "sns.pairplot(wine_df2, vars=[\"price\",\"points\"])\n",
    "plt.show()\n",
    "print(wine_df2['price'])\n",
    "print(\"\\n===================\\n\")\n",
    "print(wine_df2['country'])"
   ]
  },
  {
   "cell_type": "markdown",
   "metadata": {},
   "source": [
    "#### 处理之后的数据集"
   ]
  },
  {
   "cell_type": "code",
   "execution_count": 86,
   "metadata": {
    "scrolled": true
   },
   "outputs": [
    {
     "data": {
      "image/png": "[encoded data removed]",
      "text/plain": [
       "<Figure size 360x360 with 6 Axes>"
      ]
     },
     "metadata": {
      "needs_background": "light"
     },
     "output_type": "display_data"
    },
    {
     "name": "stdout",
     "output_type": "stream",
     "text": [
      "0         20.0\n",
      "1         15.0\n",
      "2         14.0\n",
      "3         13.0\n",
      "4         65.0\n",
      "          ... \n",
      "129966    28.0\n",
      "129967    75.0\n",
      "129968    30.0\n",
      "129969    32.0\n",
      "129970    21.0\n",
      "Name: price, Length: 129971, dtype: float64\n",
      "\n",
      "===================\n",
      "\n",
      "0            Italy\n",
      "1         Portugal\n",
      "2               US\n",
      "3               US\n",
      "4               US\n",
      "            ...   \n",
      "129966     Germany\n",
      "129967          US\n",
      "129968      France\n",
      "129969      France\n",
      "129970      France\n",
      "Name: country, Length: 129971, dtype: object\n"
     ]
    }
   ],
   "source": [
    "mode = wine_df2['price'].mode().iloc[0]\n",
    "wine_df2['price'] = wine_df2['price'].fillna(mode)\n",
    "\n",
    "mode = wine_df2['country'].mode().iloc[0]\n",
    "wine_df2['country'] = wine_df2['country'].fillna(mode)\n",
    "\n",
    "sns.pairplot(wine_df2, vars=[\"price\",\"points\"])\n",
    "plt.show()\n",
    "print(wine_df2['price'])\n",
    "print(\"\\n===================\\n\")\n",
    "print(wine_df2['country'])"
   ]
  },
  {
   "cell_type": "markdown",
   "metadata": {},
   "source": [
    "### 2.3 通过属性的相关关系来填补缺失值"
   ]
  },
  {
   "cell_type": "markdown",
   "metadata": {},
   "source": [
    "#### 处理之前的数据集"
   ]
  },
  {
   "cell_type": "code",
   "execution_count": 47,
   "metadata": {
    "scrolled": true
   },
   "outputs": [
    {
     "data": {
      "image/png": "[encoded data removed]",
      "text/plain": [
       "<Figure size 360x360 with 6 Axes>"
      ]
     },
     "metadata": {
      "needs_background": "light"
     },
     "output_type": "display_data"
    },
    {
     "name": "stdout",
     "output_type": "stream",
     "text": [
      "0          NaN\n",
      "1         15.0\n",
      "2         14.0\n",
      "3         13.0\n",
      "4         65.0\n",
      "          ... \n",
      "129966    28.0\n",
      "129967    75.0\n",
      "129968    30.0\n",
      "129969    32.0\n",
      "129970    21.0\n",
      "Name: price, Length: 129971, dtype: float64\n"
     ]
    }
   ],
   "source": [
    "wine_df3 = wine_df.copy(deep=True)\n",
    "sns.pairplot(wine_df3, vars=[\"price\",\"points\"])\n",
    "plt.show()\n",
    "print(wine_df3['price'])"
   ]
  },
  {
   "cell_type": "markdown",
   "metadata": {},
   "source": [
    "#### 处理之后的数据集"
   ]
  },
  {
   "cell_type": "code",
   "execution_count": 48,
   "metadata": {
    "scrolled": true
   },
   "outputs": [
    {
     "data": {
      "image/png": "[encoded data removed]",
      "text/plain": [
       "<Figure size 360x360 with 6 Axes>"
      ]
     },
     "metadata": {
      "needs_background": "light"
     },
     "output_type": "display_data"
    },
    {
     "name": "stdout",
     "output_type": "stream",
     "text": [
      "0         24.903054\n",
      "1         15.000000\n",
      "2         14.000000\n",
      "3         13.000000\n",
      "4         65.000000\n",
      "            ...    \n",
      "129966    28.000000\n",
      "129967    75.000000\n",
      "129968    30.000000\n",
      "129969    32.000000\n",
      "129970    21.000000\n",
      "Name: price, Length: 129971, dtype: float64\n"
     ]
    }
   ],
   "source": [
    "def set_missing_ages(df):\n",
    "    # 把数值型特征都放到随机森林里面去\n",
    "    age_df = df[['price', 'points']]\n",
    "    known_age = age_df[age_df.price.notnull()].iloc[:,:].values\n",
    "    unknown_age = age_df[age_df.price.isnull()].iloc[:,:].values\n",
    "    y = known_age[:, 0]  # y是price，第一列数据\n",
    "    x = known_age[:, 1:]  # x是特征属性值，后面几列\n",
    "    rfr = RandomForestRegressor(random_state=0, n_estimators=2000, n_jobs=-1)\n",
    "    # 根据已有数据去拟合随机森林模型\n",
    "    rfr.fit(x, y)\n",
    "    # 预测缺失值\n",
    "    predictedAges = rfr.predict(unknown_age[:, 1:])\n",
    "    # 填补缺失值\n",
    "    df.loc[(df.price.isnull()), 'price'] = predictedAges\n",
    "\n",
    "    return df\n",
    "\n",
    "wine_df3 = set_missing_ages(wine_df3)\n",
    "\n",
    "sns.pairplot(wine_df3, vars=[\"price\",\"points\"])\n",
    "plt.show()\n",
    "print(wine_df3['price'])"
   ]
  },
  {
   "cell_type": "markdown",
   "metadata": {},
   "source": [
    "### 2.4 通过数据对象之间的相似性来填补缺失值（用KNN来衡量对象之间的相似性）"
   ]
  },
  {
   "cell_type": "markdown",
   "metadata": {},
   "source": [
    "#### 处理之前的数据集"
   ]
  },
  {
   "cell_type": "code",
   "execution_count": 49,
   "metadata": {
    "scrolled": true
   },
   "outputs": [
    {
     "data": {
      "image/png": "[encoded data removed]",
      "text/plain": [
       "<Figure size 360x360 with 6 Axes>"
      ]
     },
     "metadata": {
      "needs_background": "light"
     },
     "output_type": "display_data"
    },
    {
     "name": "stdout",
     "output_type": "stream",
     "text": [
      "0          NaN\n",
      "1         15.0\n",
      "2         14.0\n",
      "3         13.0\n",
      "4         65.0\n",
      "          ... \n",
      "129966    28.0\n",
      "129967    75.0\n",
      "129968    30.0\n",
      "129969    32.0\n",
      "129970    21.0\n",
      "Name: price, Length: 129971, dtype: float64\n"
     ]
    }
   ],
   "source": [
    "wine_df4 = wine_df.copy(deep=True)\n",
    "sns.pairplot(wine_df4, vars=[\"price\",\"points\"])\n",
    "plt.show()\n",
    "print(wine_df4['price'])"
   ]
  },
  {
   "cell_type": "markdown",
   "metadata": {},
   "source": [
    "#### 处理之后的数据集（因计算资源原因，只处理局部数据）"
   ]
  },
  {
   "cell_type": "code",
   "execution_count": 52,
   "metadata": {
    "scrolled": true
   },
   "outputs": [
    {
     "name": "stdout",
     "output_type": "stream",
     "text": [
      "Imputing row 1/50 with 1 missing, elapsed time: 0.004\n",
      "[[20.66666667 87.        ]\n",
      " [15.         87.        ]\n",
      " [14.         87.        ]\n",
      " [13.         87.        ]\n",
      " [65.         87.        ]\n",
      " [15.         87.        ]\n",
      " [16.         87.        ]\n",
      " [24.         87.        ]\n",
      " [12.         87.        ]\n",
      " [27.         87.        ]\n",
      " [19.         87.        ]\n",
      " [30.         87.        ]\n",
      " [34.         87.        ]\n",
      " [13.33333333 87.        ]\n",
      " [12.         87.        ]\n",
      " [24.         87.        ]\n",
      " [30.         87.        ]\n",
      " [13.         87.        ]\n",
      " [28.         87.        ]\n",
      " [32.         87.        ]\n",
      " [23.         87.        ]\n",
      " [20.         87.        ]\n",
      " [19.         87.        ]\n",
      " [22.         87.        ]\n",
      " [35.         87.        ]\n",
      " [69.         87.        ]\n",
      " [13.         87.        ]\n",
      " [10.         87.        ]\n",
      " [17.         87.        ]\n",
      " [16.         86.        ]\n",
      " [26.66666667 86.        ]\n",
      " [26.66666667 86.        ]\n",
      " [26.66666667 86.        ]\n",
      " [50.         86.        ]\n",
      " [20.         86.        ]\n",
      " [50.         86.        ]\n",
      " [15.         86.        ]\n",
      " [21.         86.        ]\n",
      " [11.         86.        ]\n",
      " [12.         86.        ]\n",
      " [17.         86.        ]\n",
      " [22.         86.        ]\n",
      " [ 9.         86.        ]\n",
      " [14.         86.        ]\n",
      " [ 9.         86.        ]\n",
      " [40.         86.        ]\n",
      " [13.         86.        ]\n",
      " [13.         86.        ]\n",
      " [16.         86.        ]\n",
      " [14.         86.        ]]\n"
     ]
    }
   ],
   "source": [
    "new_data = wine_df4[['price', 'points']][:50]\n",
    "fill_knn = KNN(k=3).fit_transform(new_data)\n",
    "print(fill_knn)"
   ]
  }
 ],
 "metadata": {
  "anaconda-cloud": {},
  "celltoolbar": "Raw Cell Format",
  "kernelspec": {
   "display_name": "Python [conda env:zyy] *",
   "language": "python",
   "name": "conda-env-zyy-py"
  },
  "language_info": {
   "codemirror_mode": {
    "name": "ipython",
    "version": 3
   },
   "file_extension": ".py",
   "mimetype": "text/x-python",
   "name": "python",
   "nbconvert_exporter": "python",
   "pygments_lexer": "ipython3",
   "version": "3.6.10"
  }
 },
 "nbformat": 4,
 "nbformat_minor": 1
}

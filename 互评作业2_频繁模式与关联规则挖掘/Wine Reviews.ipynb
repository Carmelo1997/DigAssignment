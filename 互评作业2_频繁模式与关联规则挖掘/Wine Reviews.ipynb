{
 "cells": [
  {
   "cell_type": "markdown",
   "metadata": {},
   "source": [
    "<h2 align = \"right\">学院：计算机学院&emsp;学号：3120191079&emsp;姓名：周泳宇</h2>"
   ]
  },
  {
   "cell_type": "markdown",
   "metadata": {},
   "source": [
    "# 互评作业2: 频繁模式与关联规则挖掘"
   ]
  },
  {
   "cell_type": "markdown",
   "metadata": {},
   "source": [
    "## 本数据集由许多关于葡萄酒的点评构成，这里将分析红酒产地country与品种variety的关系。"
   ]
  },
  {
   "cell_type": "markdown",
   "metadata": {},
   "source": [
    "## 1.对数据集进行处理，转换成适合进行关联规则挖掘的形式"
   ]
  },
  {
   "cell_type": "markdown",
   "metadata": {},
   "source": [
    "### 读取数据集"
   ]
  },
  {
   "cell_type": "code",
   "execution_count": 1,
   "metadata": {},
   "outputs": [],
   "source": [
    "import pandas as pd"
   ]
  },
  {
   "cell_type": "code",
   "execution_count": 66,
   "metadata": {},
   "outputs": [],
   "source": [
    "wine_df = pd.read_csv(\"winemag-data_first150k.csv\")"
   ]
  },
  {
   "cell_type": "code",
   "execution_count": 15,
   "metadata": {},
   "outputs": [
    {
     "data": {
      "text/html": [
       "<div>\n",
       "<style scoped>\n",
       "    .dataframe tbody tr th:only-of-type {\n",
       "        vertical-align: middle;\n",
       "    }\n",
       "\n",
       "    .dataframe tbody tr th {\n",
       "        vertical-align: top;\n",
       "    }\n",
       "\n",
       "    .dataframe thead th {\n",
       "        text-align: right;\n",
       "    }\n",
       "</style>\n",
       "<table border=\"1\" class=\"dataframe\">\n",
       "  <thead>\n",
       "    <tr style=\"text-align: right;\">\n",
       "      <th></th>\n",
       "      <th>Unnamed: 0</th>\n",
       "      <th>country</th>\n",
       "      <th>description</th>\n",
       "      <th>designation</th>\n",
       "      <th>points</th>\n",
       "      <th>price</th>\n",
       "      <th>province</th>\n",
       "      <th>region_1</th>\n",
       "      <th>region_2</th>\n",
       "      <th>variety</th>\n",
       "      <th>winery</th>\n",
       "    </tr>\n",
       "  </thead>\n",
       "  <tbody>\n",
       "    <tr>\n",
       "      <th>0</th>\n",
       "      <td>0</td>\n",
       "      <td>US</td>\n",
       "      <td>This tremendous 100% varietal wine hails from ...</td>\n",
       "      <td>Martha's Vineyard</td>\n",
       "      <td>96</td>\n",
       "      <td>235.0</td>\n",
       "      <td>California</td>\n",
       "      <td>Napa Valley</td>\n",
       "      <td>Napa</td>\n",
       "      <td>Cabernet Sauvignon</td>\n",
       "      <td>Heitz</td>\n",
       "    </tr>\n",
       "    <tr>\n",
       "      <th>1</th>\n",
       "      <td>1</td>\n",
       "      <td>Spain</td>\n",
       "      <td>Ripe aromas of fig, blackberry and cassis are ...</td>\n",
       "      <td>Carodorum Selección Especial Reserva</td>\n",
       "      <td>96</td>\n",
       "      <td>110.0</td>\n",
       "      <td>Northern Spain</td>\n",
       "      <td>Toro</td>\n",
       "      <td>NaN</td>\n",
       "      <td>Tinta de Toro</td>\n",
       "      <td>Bodega Carmen Rodríguez</td>\n",
       "    </tr>\n",
       "    <tr>\n",
       "      <th>2</th>\n",
       "      <td>2</td>\n",
       "      <td>US</td>\n",
       "      <td>Mac Watson honors the memory of a wine once ma...</td>\n",
       "      <td>Special Selected Late Harvest</td>\n",
       "      <td>96</td>\n",
       "      <td>90.0</td>\n",
       "      <td>California</td>\n",
       "      <td>Knights Valley</td>\n",
       "      <td>Sonoma</td>\n",
       "      <td>Sauvignon Blanc</td>\n",
       "      <td>Macauley</td>\n",
       "    </tr>\n",
       "    <tr>\n",
       "      <th>3</th>\n",
       "      <td>3</td>\n",
       "      <td>US</td>\n",
       "      <td>This spent 20 months in 30% new French oak, an...</td>\n",
       "      <td>Reserve</td>\n",
       "      <td>96</td>\n",
       "      <td>65.0</td>\n",
       "      <td>Oregon</td>\n",
       "      <td>Willamette Valley</td>\n",
       "      <td>Willamette Valley</td>\n",
       "      <td>Pinot Noir</td>\n",
       "      <td>Ponzi</td>\n",
       "    </tr>\n",
       "    <tr>\n",
       "      <th>4</th>\n",
       "      <td>4</td>\n",
       "      <td>France</td>\n",
       "      <td>This is the top wine from La Bégude, named aft...</td>\n",
       "      <td>La Brûlade</td>\n",
       "      <td>95</td>\n",
       "      <td>66.0</td>\n",
       "      <td>Provence</td>\n",
       "      <td>Bandol</td>\n",
       "      <td>NaN</td>\n",
       "      <td>Provence red blend</td>\n",
       "      <td>Domaine de la Bégude</td>\n",
       "    </tr>\n",
       "  </tbody>\n",
       "</table>\n",
       "</div>"
      ],
      "text/plain": [
       "   Unnamed: 0 country                                        description  \\\n",
       "0           0      US  This tremendous 100% varietal wine hails from ...   \n",
       "1           1   Spain  Ripe aromas of fig, blackberry and cassis are ...   \n",
       "2           2      US  Mac Watson honors the memory of a wine once ma...   \n",
       "3           3      US  This spent 20 months in 30% new French oak, an...   \n",
       "4           4  France  This is the top wine from La Bégude, named aft...   \n",
       "\n",
       "                            designation  points  price        province  \\\n",
       "0                     Martha's Vineyard      96  235.0      California   \n",
       "1  Carodorum Selección Especial Reserva      96  110.0  Northern Spain   \n",
       "2         Special Selected Late Harvest      96   90.0      California   \n",
       "3                               Reserve      96   65.0          Oregon   \n",
       "4                            La Brûlade      95   66.0        Provence   \n",
       "\n",
       "            region_1           region_2             variety  \\\n",
       "0        Napa Valley               Napa  Cabernet Sauvignon   \n",
       "1               Toro                NaN       Tinta de Toro   \n",
       "2     Knights Valley             Sonoma     Sauvignon Blanc   \n",
       "3  Willamette Valley  Willamette Valley          Pinot Noir   \n",
       "4             Bandol                NaN  Provence red blend   \n",
       "\n",
       "                    winery  \n",
       "0                    Heitz  \n",
       "1  Bodega Carmen Rodríguez  \n",
       "2                 Macauley  \n",
       "3                    Ponzi  \n",
       "4     Domaine de la Bégude  "
      ]
     },
     "execution_count": 15,
     "metadata": {},
     "output_type": "execute_result"
    }
   ],
   "source": [
    "wine_df.head()"
   ]
  },
  {
   "cell_type": "markdown",
   "metadata": {},
   "source": [
    "### 将数据转换成多条事务，适合于频繁项挖掘"
   ]
  },
  {
   "cell_type": "code",
   "execution_count": 16,
   "metadata": {},
   "outputs": [
    {
     "name": "stderr",
     "output_type": "stream",
     "text": [
      "150930it [00:19, 7656.00it/s]\n"
     ]
    },
    {
     "data": {
      "text/plain": [
       "[('US', 'Cabernet Sauvignon'),\n",
       " ('Spain', 'Tinta de Toro'),\n",
       " ('US', 'Sauvignon Blanc'),\n",
       " ('US', 'Pinot Noir'),\n",
       " ('France', 'Provence red blend'),\n",
       " ('Spain', 'Tinta de Toro'),\n",
       " ('Spain', 'Tinta de Toro'),\n",
       " ('Spain', 'Tinta de Toro'),\n",
       " ('US', 'Pinot Noir'),\n",
       " ('US', 'Pinot Noir'),\n",
       " ('Italy', 'Friulano'),\n",
       " ('US', 'Pinot Noir'),\n",
       " ('US', 'Pinot Noir'),\n",
       " ('France', 'Tannat'),\n",
       " ('US', 'Pinot Noir'),\n",
       " ('US', 'Chardonnay'),\n",
       " ('US', 'Cabernet Sauvignon'),\n",
       " ('Spain', 'Tempranillo'),\n",
       " ('France', 'Malbec'),\n",
       " ('US', 'Pinot Noir')]"
      ]
     },
     "execution_count": 16,
     "metadata": {},
     "output_type": "execute_result"
    }
   ],
   "source": [
    "from tqdm import tqdm\n",
    "\n",
    "transactions = []\n",
    "for index, row in tqdm(wine_df.iterrows()):\n",
    "    transactions += [(row['country'], row['variety'])]\n",
    "\n",
    "transactions[:20]"
   ]
  },
  {
   "cell_type": "markdown",
   "metadata": {},
   "source": [
    "## 2.找出频繁模式（采用Apriori算法，support>0.03，confidence>0.1）"
   ]
  },
  {
   "cell_type": "markdown",
   "metadata": {},
   "source": [
    "```\n",
    "Aprior算法流程\n",
    "  输入：数据集合D，支持度阈值α\n",
    "  输出：最大的频繁k项集\n",
    "  1）扫描整个数据集，得到所有出现过的数据，作为候选频繁1项集。k=1，频繁0项集为空集。\n",
    "　2）挖掘频繁k项集\n",
    "　   a) 扫描数据计算候选频繁k项集的支持度\n",
    "     b) 去除候选频繁k项集中支持度低于阈值的数据集,得到频繁k项集。如果得到的频繁k项集为空，则直接返回频繁k-1项集的集合作为算法结果，算法结束。如果得到的频繁k项集只有一项，则直接返回频繁k项集的集合作为算法结果，算法结束。\n",
    "     c) 基于频繁k项集，连接生成候选频繁k+1项集。\n",
    "  3） 令k=k+1，转入步骤2。\n",
    "```"
   ]
  },
  {
   "cell_type": "code",
   "execution_count": 17,
   "metadata": {},
   "outputs": [],
   "source": [
    "from efficient_apriori import apriori\n",
    "\n",
    "itemsets, rules = apriori(transactions, min_support=0.03,  min_confidence=0.1)"
   ]
  },
  {
   "cell_type": "markdown",
   "metadata": {},
   "source": [
    "### 频繁模式如下所示：所有的频繁k项集已在下面的字典中列出"
   ]
  },
  {
   "cell_type": "code",
   "execution_count": 23,
   "metadata": {
    "scrolled": false
   },
   "outputs": [
    {
     "data": {
      "text/plain": [
       "{1: {('US',): 62397,\n",
       "  ('Cabernet Sauvignon',): 12800,\n",
       "  ('Spain',): 8268,\n",
       "  ('Sauvignon Blanc',): 6320,\n",
       "  ('Pinot Noir',): 14291,\n",
       "  ('France',): 21098,\n",
       "  ('Italy',): 23478,\n",
       "  ('Chardonnay',): 14482,\n",
       "  ('Syrah',): 5825,\n",
       "  ('Red Blend',): 10062,\n",
       "  ('Riesling',): 5524,\n",
       "  ('Argentina',): 5631,\n",
       "  ('Australia',): 4957,\n",
       "  ('Portugal',): 5322,\n",
       "  ('Chile',): 5816,\n",
       "  ('Bordeaux-style Red Blend',): 7347,\n",
       "  ('Merlot',): 5070},\n",
       " 2: {('Cabernet Sauvignon', 'US'): 9178,\n",
       "  ('Pinot Noir', 'US'): 10340,\n",
       "  ('Chardonnay', 'US'): 8127,\n",
       "  ('Bordeaux-style Red Blend', 'France'): 4960}}"
      ]
     },
     "execution_count": 23,
     "metadata": {},
     "output_type": "execute_result"
    }
   ],
   "source": [
    "itemsets"
   ]
  },
  {
   "cell_type": "markdown",
   "metadata": {},
   "source": [
    "## 3.导出关联规则，计算其支持度和置信度"
   ]
  },
  {
   "cell_type": "code",
   "execution_count": 44,
   "metadata": {},
   "outputs": [
    {
     "name": "stdout",
     "output_type": "stream",
     "text": [
      "关联规则：{US} -> {Chardonnay}\t支持度：0.05384615384615385\t置信度：0.13024664647338816\n",
      "关联规则：{Chardonnay} -> {US}\t支持度：0.05384615384615385\t置信度：0.5611793951111725\n",
      "关联规则：{US} -> {Cabernet Sauvignon}\t支持度：0.060809646856158486\t置信度：0.14709040498741927\n",
      "关联规则：{Cabernet Sauvignon} -> {US}\t支持度：0.060809646856158486\t置信度：0.71703125\n",
      "关联规则：{US} -> {Pinot Noir}\t支持度：0.06850858013648711\t置信度：0.16571309518085806\n",
      "关联规则：{Pinot Noir} -> {US}\t支持度：0.06850858013648711\t置信度：0.723532293051571\n",
      "关联规则：{France} -> {Bordeaux-style Red Blend}\t支持度：0.03286291658384682\t置信度：0.23509337377950518\n",
      "关联规则：{Bordeaux-style Red Blend} -> {France}\t支持度：0.03286291658384682\t置信度：0.6751054852320675\n"
     ]
    }
   ],
   "source": [
    "for rule in sorted(rules, key=lambda rule: rule.lift):\n",
    "#     print(dir(rule))\n",
    "#     print(rule)\n",
    "    print(\"关联规则：\" + \"{\" + rule.lhs[0] + \"}\" + \" -> \" + \"{\" + rule.rhs[0] + \"}\" + \"\\t\" + \n",
    "         \"支持度：\" + str(rule.support) + \"\\t\" + \"置信度：\" + str(rule.confidence))"
   ]
  },
  {
   "cell_type": "markdown",
   "metadata": {},
   "source": [
    "## 4.使用Lift、Kulc系数对规则进行评价"
   ]
  },
  {
   "cell_type": "markdown",
   "metadata": {},
   "source": [
    "### 4.1 相关性系数Lift\n",
    "#### 对于规则A—>B或者B—>A，lift(A,B)=P(A交B)/(P(A)*P(B))，如果lift(A,B)>1表示A、B呈正相关，lift(A,B)<1表示A、B呈负相关，lift(A,B)=1表示A、B不相关（独立）。"
   ]
  },
  {
   "cell_type": "code",
   "execution_count": 45,
   "metadata": {
    "scrolled": true
   },
   "outputs": [
    {
     "name": "stdout",
     "output_type": "stream",
     "text": [
      "关联规则：{US} -> {Chardonnay}\t相关性系数Lift：1.357417922402187\n",
      "关联规则：{Chardonnay} -> {US}\t相关性系数Lift：1.357417922402187\n",
      "关联规则：{US} -> {Cabernet Sauvignon}\t相关性系数Lift：1.7344027206836867\n",
      "关联规则：{Cabernet Sauvignon} -> {US}\t相关性系数Lift：1.7344027206836867\n",
      "关联规则：{US} -> {Pinot Noir}\t相关性系数Lift：1.7501278745816882\n",
      "关联规则：{Pinot Noir} -> {US}\t相关性系数Lift：1.7501278745816882\n",
      "关联规则：{France} -> {Bordeaux-style Red Blend}\t相关性系数Lift：4.829541704714947\n",
      "关联规则：{Bordeaux-style Red Blend} -> {France}\t相关性系数Lift：4.829541704714947\n"
     ]
    }
   ],
   "source": [
    "for rule in sorted(rules, key=lambda rule: rule.lift):\n",
    "#     print(dir(rule))\n",
    "#     print(rule)\n",
    "    print(\"关联规则：\" + \"{\" + rule.lhs[0] + \"}\" + \" -> \" + \"{\" + rule.rhs[0] + \"}\" + \"\\t\" + \n",
    "         \"相关性系数Lift：\" + str(rule.lift))"
   ]
  },
  {
   "cell_type": "markdown",
   "metadata": {},
   "source": [
    "#### 可以看到，关联规则{Bordeaux-style Red Blend} -> {France}的相关性系数较高：说明品种Bordeaux-style Red Blend与产地France存在较大的关联关系，可以通过原始数据集来验证一下，如下所示（可以看出，法国的确比较多）："
   ]
  },
  {
   "cell_type": "code",
   "execution_count": 46,
   "metadata": {
    "scrolled": false
   },
   "outputs": [
    {
     "data": {
      "text/html": [
       "<div>\n",
       "<style scoped>\n",
       "    .dataframe tbody tr th:only-of-type {\n",
       "        vertical-align: middle;\n",
       "    }\n",
       "\n",
       "    .dataframe tbody tr th {\n",
       "        vertical-align: top;\n",
       "    }\n",
       "\n",
       "    .dataframe thead th {\n",
       "        text-align: right;\n",
       "    }\n",
       "</style>\n",
       "<table border=\"1\" class=\"dataframe\">\n",
       "  <thead>\n",
       "    <tr style=\"text-align: right;\">\n",
       "      <th></th>\n",
       "      <th>Unnamed: 0</th>\n",
       "      <th>country</th>\n",
       "      <th>description</th>\n",
       "      <th>designation</th>\n",
       "      <th>points</th>\n",
       "      <th>price</th>\n",
       "      <th>province</th>\n",
       "      <th>region_1</th>\n",
       "      <th>region_2</th>\n",
       "      <th>variety</th>\n",
       "      <th>winery</th>\n",
       "    </tr>\n",
       "  </thead>\n",
       "  <tbody>\n",
       "    <tr>\n",
       "      <th>25804</th>\n",
       "      <td>25804</td>\n",
       "      <td>France</td>\n",
       "      <td>A wine that suffers from high toast and not en...</td>\n",
       "      <td>NaN</td>\n",
       "      <td>86</td>\n",
       "      <td>30.0</td>\n",
       "      <td>Bordeaux</td>\n",
       "      <td>Lalande de Pomerol</td>\n",
       "      <td>NaN</td>\n",
       "      <td>Bordeaux-style Red Blend</td>\n",
       "      <td>Château de Bel-Air</td>\n",
       "    </tr>\n",
       "    <tr>\n",
       "      <th>110608</th>\n",
       "      <td>110608</td>\n",
       "      <td>France</td>\n",
       "      <td>90-92 Barrel sample. As often, Magdelaine is a...</td>\n",
       "      <td>Barrel sample</td>\n",
       "      <td>91</td>\n",
       "      <td>NaN</td>\n",
       "      <td>Bordeaux</td>\n",
       "      <td>Saint-Émilion</td>\n",
       "      <td>NaN</td>\n",
       "      <td>Bordeaux-style Red Blend</td>\n",
       "      <td>Château Magdelaine</td>\n",
       "    </tr>\n",
       "    <tr>\n",
       "      <th>21242</th>\n",
       "      <td>21242</td>\n",
       "      <td>France</td>\n",
       "      <td>89-91. Barrel sample. This wine has a classic ...</td>\n",
       "      <td>Barrel Sample</td>\n",
       "      <td>90</td>\n",
       "      <td>NaN</td>\n",
       "      <td>Bordeaux</td>\n",
       "      <td>Pomerol</td>\n",
       "      <td>NaN</td>\n",
       "      <td>Bordeaux-style Red Blend</td>\n",
       "      <td>Château La Grave à Pomerol</td>\n",
       "    </tr>\n",
       "    <tr>\n",
       "      <th>75487</th>\n",
       "      <td>75487</td>\n",
       "      <td>France</td>\n",
       "      <td>Powerful, rich and dense, this has tannins and...</td>\n",
       "      <td>Vieilles Vignes</td>\n",
       "      <td>90</td>\n",
       "      <td>11.0</td>\n",
       "      <td>Bordeaux</td>\n",
       "      <td>Bordeaux Supérieur</td>\n",
       "      <td>NaN</td>\n",
       "      <td>Bordeaux-style Red Blend</td>\n",
       "      <td>Château Sainte Marie</td>\n",
       "    </tr>\n",
       "    <tr>\n",
       "      <th>100735</th>\n",
       "      <td>100735</td>\n",
       "      <td>France</td>\n",
       "      <td>At first taste, the tannins dominate. Then fre...</td>\n",
       "      <td>NaN</td>\n",
       "      <td>87</td>\n",
       "      <td>20.0</td>\n",
       "      <td>Bordeaux</td>\n",
       "      <td>Médoc</td>\n",
       "      <td>NaN</td>\n",
       "      <td>Bordeaux-style Red Blend</td>\n",
       "      <td>Château Ramafort</td>\n",
       "    </tr>\n",
       "    <tr>\n",
       "      <th>85570</th>\n",
       "      <td>85570</td>\n",
       "      <td>US</td>\n",
       "      <td>This is a blend of Merlot and Cabernet Sauvign...</td>\n",
       "      <td>Hossfeld Coliseum</td>\n",
       "      <td>87</td>\n",
       "      <td>75.0</td>\n",
       "      <td>California</td>\n",
       "      <td>Napa Valley</td>\n",
       "      <td>Napa</td>\n",
       "      <td>Bordeaux-style Red Blend</td>\n",
       "      <td>Carter</td>\n",
       "    </tr>\n",
       "    <tr>\n",
       "      <th>35045</th>\n",
       "      <td>35045</td>\n",
       "      <td>US</td>\n",
       "      <td>This Coda displays fresh and bright raspberry ...</td>\n",
       "      <td>Coda</td>\n",
       "      <td>89</td>\n",
       "      <td>25.0</td>\n",
       "      <td>Washington</td>\n",
       "      <td>Red Mountain</td>\n",
       "      <td>Columbia Valley</td>\n",
       "      <td>Bordeaux-style Red Blend</td>\n",
       "      <td>Cadence</td>\n",
       "    </tr>\n",
       "    <tr>\n",
       "      <th>150765</th>\n",
       "      <td>150765</td>\n",
       "      <td>Chile</td>\n",
       "      <td>A dense bouquet of dark cherries, plum, earth,...</td>\n",
       "      <td>NaN</td>\n",
       "      <td>93</td>\n",
       "      <td>87.0</td>\n",
       "      <td>Puente Alto</td>\n",
       "      <td>NaN</td>\n",
       "      <td>NaN</td>\n",
       "      <td>Bordeaux-style Red Blend</td>\n",
       "      <td>Almaviva</td>\n",
       "    </tr>\n",
       "    <tr>\n",
       "      <th>35276</th>\n",
       "      <td>35276</td>\n",
       "      <td>US</td>\n",
       "      <td>This blend of 45% Merlot, 32% Cabernet Franc a...</td>\n",
       "      <td>Detour</td>\n",
       "      <td>84</td>\n",
       "      <td>25.0</td>\n",
       "      <td>Virginia</td>\n",
       "      <td>Virginia</td>\n",
       "      <td>NaN</td>\n",
       "      <td>Bordeaux-style Red Blend</td>\n",
       "      <td>Hume</td>\n",
       "    </tr>\n",
       "    <tr>\n",
       "      <th>92953</th>\n",
       "      <td>92953</td>\n",
       "      <td>France</td>\n",
       "      <td>A dense, beautifully structured wine. It shows...</td>\n",
       "      <td>NaN</td>\n",
       "      <td>96</td>\n",
       "      <td>90.0</td>\n",
       "      <td>Bordeaux</td>\n",
       "      <td>Saint-Julien</td>\n",
       "      <td>NaN</td>\n",
       "      <td>Bordeaux-style Red Blend</td>\n",
       "      <td>Château Léoville Barton</td>\n",
       "    </tr>\n",
       "    <tr>\n",
       "      <th>43338</th>\n",
       "      <td>43338</td>\n",
       "      <td>France</td>\n",
       "      <td>Intense fruit is enlivened by acidity that rid...</td>\n",
       "      <td>NaN</td>\n",
       "      <td>89</td>\n",
       "      <td>NaN</td>\n",
       "      <td>Bordeaux</td>\n",
       "      <td>Médoc</td>\n",
       "      <td>NaN</td>\n",
       "      <td>Bordeaux-style Red Blend</td>\n",
       "      <td>Goulée</td>\n",
       "    </tr>\n",
       "    <tr>\n",
       "      <th>31872</th>\n",
       "      <td>31872</td>\n",
       "      <td>France</td>\n",
       "      <td>This is a serious wine structured with firm ta...</td>\n",
       "      <td>NaN</td>\n",
       "      <td>91</td>\n",
       "      <td>NaN</td>\n",
       "      <td>Bordeaux</td>\n",
       "      <td>Saint-Estèphe</td>\n",
       "      <td>NaN</td>\n",
       "      <td>Bordeaux-style Red Blend</td>\n",
       "      <td>Château de Pez</td>\n",
       "    </tr>\n",
       "    <tr>\n",
       "      <th>4706</th>\n",
       "      <td>4706</td>\n",
       "      <td>France</td>\n",
       "      <td>Considerable toasted wood flavors show from bo...</td>\n",
       "      <td>NaN</td>\n",
       "      <td>84</td>\n",
       "      <td>18.0</td>\n",
       "      <td>Bordeaux</td>\n",
       "      <td>Médoc</td>\n",
       "      <td>NaN</td>\n",
       "      <td>Bordeaux-style Red Blend</td>\n",
       "      <td>Château Lousteauneuf</td>\n",
       "    </tr>\n",
       "    <tr>\n",
       "      <th>56397</th>\n",
       "      <td>56397</td>\n",
       "      <td>France</td>\n",
       "      <td>88-90 Barrel sample. Soft, light and fresh, a ...</td>\n",
       "      <td>Barrel sample</td>\n",
       "      <td>89</td>\n",
       "      <td>NaN</td>\n",
       "      <td>Bordeaux</td>\n",
       "      <td>Médoc</td>\n",
       "      <td>NaN</td>\n",
       "      <td>Bordeaux-style Red Blend</td>\n",
       "      <td>Château Greysac</td>\n",
       "    </tr>\n",
       "    <tr>\n",
       "      <th>29988</th>\n",
       "      <td>29988</td>\n",
       "      <td>France</td>\n",
       "      <td>Very Merlot dominated, this is a ripe and soft...</td>\n",
       "      <td>Chai de Bordes</td>\n",
       "      <td>85</td>\n",
       "      <td>12.0</td>\n",
       "      <td>Bordeaux</td>\n",
       "      <td>Bordeaux</td>\n",
       "      <td>NaN</td>\n",
       "      <td>Bordeaux-style Red Blend</td>\n",
       "      <td>Cheval Quancard</td>\n",
       "    </tr>\n",
       "    <tr>\n",
       "      <th>48591</th>\n",
       "      <td>48591</td>\n",
       "      <td>US</td>\n",
       "      <td>Always a fine “second” label, the D2 from DeLi...</td>\n",
       "      <td>D2 Red Wine</td>\n",
       "      <td>91</td>\n",
       "      <td>38.0</td>\n",
       "      <td>Washington</td>\n",
       "      <td>Columbia Valley (WA)</td>\n",
       "      <td>Columbia Valley</td>\n",
       "      <td>Bordeaux-style Red Blend</td>\n",
       "      <td>DeLille</td>\n",
       "    </tr>\n",
       "    <tr>\n",
       "      <th>64888</th>\n",
       "      <td>64888</td>\n",
       "      <td>US</td>\n",
       "      <td>Tough and gnarly in its mouthfeel, with semi-s...</td>\n",
       "      <td>Julia's Cuvee</td>\n",
       "      <td>83</td>\n",
       "      <td>35.0</td>\n",
       "      <td>California</td>\n",
       "      <td>Napa Valley</td>\n",
       "      <td>Napa</td>\n",
       "      <td>Bordeaux-style Red Blend</td>\n",
       "      <td>Senders</td>\n",
       "    </tr>\n",
       "    <tr>\n",
       "      <th>126358</th>\n",
       "      <td>126358</td>\n",
       "      <td>US</td>\n",
       "      <td>Soft and sweetly fruity, with pie-filling flav...</td>\n",
       "      <td>Harmony3 Reserve Blend</td>\n",
       "      <td>87</td>\n",
       "      <td>48.0</td>\n",
       "      <td>California</td>\n",
       "      <td>Napa Valley</td>\n",
       "      <td>Napa</td>\n",
       "      <td>Bordeaux-style Red Blend</td>\n",
       "      <td>Bourassa Vineyards</td>\n",
       "    </tr>\n",
       "    <tr>\n",
       "      <th>132651</th>\n",
       "      <td>132651</td>\n",
       "      <td>France</td>\n",
       "      <td>91-93 Barrel sample. Dark and tannic, very smo...</td>\n",
       "      <td>Barrel sample</td>\n",
       "      <td>92</td>\n",
       "      <td>NaN</td>\n",
       "      <td>Bordeaux</td>\n",
       "      <td>Saint-Émilion</td>\n",
       "      <td>NaN</td>\n",
       "      <td>Bordeaux-style Red Blend</td>\n",
       "      <td>Vieux Château Mazerat</td>\n",
       "    </tr>\n",
       "    <tr>\n",
       "      <th>142132</th>\n",
       "      <td>142132</td>\n",
       "      <td>France</td>\n",
       "      <td>87-89 Barrel sample. Rich, open fruit that is ...</td>\n",
       "      <td>Barrel sample</td>\n",
       "      <td>88</td>\n",
       "      <td>NaN</td>\n",
       "      <td>Bordeaux</td>\n",
       "      <td>Margaux</td>\n",
       "      <td>NaN</td>\n",
       "      <td>Bordeaux-style Red Blend</td>\n",
       "      <td>Château du Tertre</td>\n",
       "    </tr>\n",
       "  </tbody>\n",
       "</table>\n",
       "</div>"
      ],
      "text/plain": [
       "        Unnamed: 0 country                                        description  \\\n",
       "25804        25804  France  A wine that suffers from high toast and not en...   \n",
       "110608      110608  France  90-92 Barrel sample. As often, Magdelaine is a...   \n",
       "21242        21242  France  89-91. Barrel sample. This wine has a classic ...   \n",
       "75487        75487  France  Powerful, rich and dense, this has tannins and...   \n",
       "100735      100735  France  At first taste, the tannins dominate. Then fre...   \n",
       "85570        85570      US  This is a blend of Merlot and Cabernet Sauvign...   \n",
       "35045        35045      US  This Coda displays fresh and bright raspberry ...   \n",
       "150765      150765   Chile  A dense bouquet of dark cherries, plum, earth,...   \n",
       "35276        35276      US  This blend of 45% Merlot, 32% Cabernet Franc a...   \n",
       "92953        92953  France  A dense, beautifully structured wine. It shows...   \n",
       "43338        43338  France  Intense fruit is enlivened by acidity that rid...   \n",
       "31872        31872  France  This is a serious wine structured with firm ta...   \n",
       "4706          4706  France  Considerable toasted wood flavors show from bo...   \n",
       "56397        56397  France  88-90 Barrel sample. Soft, light and fresh, a ...   \n",
       "29988        29988  France  Very Merlot dominated, this is a ripe and soft...   \n",
       "48591        48591      US  Always a fine “second” label, the D2 from DeLi...   \n",
       "64888        64888      US  Tough and gnarly in its mouthfeel, with semi-s...   \n",
       "126358      126358      US  Soft and sweetly fruity, with pie-filling flav...   \n",
       "132651      132651  France  91-93 Barrel sample. Dark and tannic, very smo...   \n",
       "142132      142132  France  87-89 Barrel sample. Rich, open fruit that is ...   \n",
       "\n",
       "                   designation  points  price     province  \\\n",
       "25804                      NaN      86   30.0     Bordeaux   \n",
       "110608           Barrel sample      91    NaN     Bordeaux   \n",
       "21242            Barrel Sample      90    NaN     Bordeaux   \n",
       "75487          Vieilles Vignes      90   11.0     Bordeaux   \n",
       "100735                     NaN      87   20.0     Bordeaux   \n",
       "85570        Hossfeld Coliseum      87   75.0   California   \n",
       "35045                     Coda      89   25.0   Washington   \n",
       "150765                     NaN      93   87.0  Puente Alto   \n",
       "35276                   Detour      84   25.0     Virginia   \n",
       "92953                      NaN      96   90.0     Bordeaux   \n",
       "43338                      NaN      89    NaN     Bordeaux   \n",
       "31872                      NaN      91    NaN     Bordeaux   \n",
       "4706                       NaN      84   18.0     Bordeaux   \n",
       "56397            Barrel sample      89    NaN     Bordeaux   \n",
       "29988           Chai de Bordes      85   12.0     Bordeaux   \n",
       "48591              D2 Red Wine      91   38.0   Washington   \n",
       "64888            Julia's Cuvee      83   35.0   California   \n",
       "126358  Harmony3 Reserve Blend      87   48.0   California   \n",
       "132651           Barrel sample      92    NaN     Bordeaux   \n",
       "142132           Barrel sample      88    NaN     Bordeaux   \n",
       "\n",
       "                    region_1         region_2                   variety  \\\n",
       "25804     Lalande de Pomerol              NaN  Bordeaux-style Red Blend   \n",
       "110608         Saint-Émilion              NaN  Bordeaux-style Red Blend   \n",
       "21242                Pomerol              NaN  Bordeaux-style Red Blend   \n",
       "75487     Bordeaux Supérieur              NaN  Bordeaux-style Red Blend   \n",
       "100735                 Médoc              NaN  Bordeaux-style Red Blend   \n",
       "85570            Napa Valley             Napa  Bordeaux-style Red Blend   \n",
       "35045           Red Mountain  Columbia Valley  Bordeaux-style Red Blend   \n",
       "150765                   NaN              NaN  Bordeaux-style Red Blend   \n",
       "35276               Virginia              NaN  Bordeaux-style Red Blend   \n",
       "92953           Saint-Julien              NaN  Bordeaux-style Red Blend   \n",
       "43338                  Médoc              NaN  Bordeaux-style Red Blend   \n",
       "31872          Saint-Estèphe              NaN  Bordeaux-style Red Blend   \n",
       "4706                   Médoc              NaN  Bordeaux-style Red Blend   \n",
       "56397                  Médoc              NaN  Bordeaux-style Red Blend   \n",
       "29988               Bordeaux              NaN  Bordeaux-style Red Blend   \n",
       "48591   Columbia Valley (WA)  Columbia Valley  Bordeaux-style Red Blend   \n",
       "64888            Napa Valley             Napa  Bordeaux-style Red Blend   \n",
       "126358           Napa Valley             Napa  Bordeaux-style Red Blend   \n",
       "132651         Saint-Émilion              NaN  Bordeaux-style Red Blend   \n",
       "142132               Margaux              NaN  Bordeaux-style Red Blend   \n",
       "\n",
       "                            winery  \n",
       "25804           Château de Bel-Air  \n",
       "110608          Château Magdelaine  \n",
       "21242   Château La Grave à Pomerol  \n",
       "75487         Château Sainte Marie  \n",
       "100735            Château Ramafort  \n",
       "85570                       Carter  \n",
       "35045                      Cadence  \n",
       "150765                    Almaviva  \n",
       "35276                         Hume  \n",
       "92953      Château Léoville Barton  \n",
       "43338                       Goulée  \n",
       "31872               Château de Pez  \n",
       "4706          Château Lousteauneuf  \n",
       "56397              Château Greysac  \n",
       "29988              Cheval Quancard  \n",
       "48591                      DeLille  \n",
       "64888                      Senders  \n",
       "126358          Bourassa Vineyards  \n",
       "132651       Vieux Château Mazerat  \n",
       "142132           Château du Tertre  "
      ]
     },
     "execution_count": 46,
     "metadata": {},
     "output_type": "execute_result"
    }
   ],
   "source": [
    "wine_df[wine_df['variety'] == 'Bordeaux-style Red Blend'].sample(20)"
   ]
  },
  {
   "cell_type": "markdown",
   "metadata": {},
   "source": [
    "#### 绘制直方图进一步验证："
   ]
  },
  {
   "cell_type": "code",
   "execution_count": 48,
   "metadata": {
    "scrolled": true
   },
   "outputs": [
    {
     "data": {
      "text/plain": [
       "<matplotlib.axes._subplots.AxesSubplot at 0x7fb7f01db400>"
      ]
     },
     "execution_count": 48,
     "metadata": {},
     "output_type": "execute_result"
    },
    {
     "data": {
      "image/png": "[encoded data removed]",
      "text/plain": [
       "<Figure size 432x288 with 1 Axes>"
      ]
     },
     "metadata": {
      "needs_background": "light"
     },
     "output_type": "display_data"
    }
   ],
   "source": [
    "wine_df[wine_df['variety'] == 'Bordeaux-style Red Blend']['country'].value_counts().plot(kind='bar')"
   ]
  },
  {
   "cell_type": "markdown",
   "metadata": {},
   "source": [
    "### 4.2 Kulc系数\n",
    "#### Kulc系数就是对两个置信度做一个平均处理：kulc(A,B)=(confidence(A—>B)+confidence(B—>A))/2 "
   ]
  },
  {
   "cell_type": "code",
   "execution_count": 54,
   "metadata": {},
   "outputs": [
    {
     "data": {
      "text/plain": [
       "['关联规则：{US} -> {Chardonnay}    Kulc系数：0.34571302079228033',\n",
       " '关联规则：{Chardonnay} -> {US}    Kulc系数：0.34571302079228033',\n",
       " '关联规则：{US} -> {Cabernet Sauvignon}    Kulc系数：0.43206082749370966',\n",
       " '关联规则：{Cabernet Sauvignon} -> {US}    Kulc系数：0.43206082749370966',\n",
       " '关联规则：{US} -> {Pinot Noir}    Kulc系数：0.4446226941162145',\n",
       " '关联规则：{Pinot Noir} -> {US}    Kulc系数：0.4446226941162145',\n",
       " '关联规则：{France} -> {Bordeaux-style Red Blend}    Kulc系数：0.4550994295057863',\n",
       " '关联规则：{Bordeaux-style Red Blend} -> {France}    Kulc系数：0.4550994295057863']"
      ]
     },
     "execution_count": 54,
     "metadata": {},
     "output_type": "execute_result"
    }
   ],
   "source": [
    "res = []\n",
    "for rule1 in sorted(rules, key=lambda rule: rule.lift):\n",
    "    conf1 = rule1.confidence\n",
    "    for rule2 in sorted(rules, key=lambda rule: rule.lift):\n",
    "        if rule2.lhs[0] == rule1.rhs[0] and rule2.rhs[0] == rule1.lhs[0]:\n",
    "            conf2 = rule2.confidence\n",
    "    kulc = (conf1 + conf2) / 2\n",
    "    res.append(\"关联规则：\" + \"{\" + rule1.lhs[0] + \"}\" + \" -> \" + \"{\" + rule1.rhs[0] + \"}    \" + \n",
    "         \"Kulc系数：\" + str(kulc))\n",
    "\n",
    "res"
   ]
  },
  {
   "cell_type": "markdown",
   "metadata": {},
   "source": [
    "## 5.对挖掘结果进行分析"
   ]
  },
  {
   "cell_type": "markdown",
   "metadata": {},
   "source": [
    "### 如在上一部分所示，通过Lift系数，已经对规则{Bordeaux-style Red Blend} -> {France}进行了分析和验证，类似的，规则{Pinot Noir} -> {US}和{Cabernet Sauvignon} -> {US}的Lift系数也较大，说明这两个葡萄酒品种极有可能来自于US，最后，规则{Chardonnay} -> {US}的Lift系数为1.357417922402187，比较接近1，说明品种Chardonnay与US成正相关关系，但可能关联性并没有那么强。"
   ]
  },
  {
   "cell_type": "markdown",
   "metadata": {},
   "source": [
    "## 6.可视化展示"
   ]
  },
  {
   "cell_type": "code",
   "execution_count": 63,
   "metadata": {},
   "outputs": [],
   "source": [
    "import matplotlib.pyplot as plt\n",
    "\n",
    "def plot_bar(rules, data, title):\n",
    "    plt.title(title)\n",
    "    plt.xticks(range(len(data)),rules,rotation=90)\n",
    "    plt.bar(range(len(data)), data, color = 'B')\n",
    "    plt.show()\n",
    "\n",
    "def visualization(big_rule_list):\n",
    "    rules = []\n",
    "    conf = []\n",
    "    support = []\n",
    "    lift = []\n",
    "    kulc = []\n",
    "    for i in range(len(big_rule_list)):\n",
    "        rule = big_rule_list[i][0]\n",
    "        rules.append(rule)\n",
    "        conf.append(big_rule_list[i][1])\n",
    "        support.append(big_rule_list[i][2])\n",
    "        lift.append(big_rule_list[i][3])\n",
    "        kulc.append(big_rule_list[i][4])\n",
    "    plot_bar(rules, support, 'rule-support figure')\n",
    "    plot_bar(rules, conf, 'rule-confidence figure')\n",
    "    plot_bar(rules, lift, 'rule-lift figure')\n",
    "    plot_bar(rules, kulc, 'rule-kulc figure')"
   ]
  },
  {
   "cell_type": "code",
   "execution_count": 64,
   "metadata": {},
   "outputs": [],
   "source": [
    "big_rule_list = []\n",
    "\n",
    "for rule1 in sorted(rules, key=lambda rule: rule.lift):\n",
    "    conf1 = rule1.confidence\n",
    "    for rule2 in sorted(rules, key=lambda rule: rule.lift):\n",
    "        if rule2.lhs[0] == rule1.rhs[0] and rule2.rhs[0] == rule1.lhs[0]:\n",
    "            conf2 = rule2.confidence\n",
    "    kulc = (conf1 + conf2) / 2\n",
    "    big_rule_list.append([\"{\" + rule1.lhs[0] + \"}\" + \"=>\" + \"{\" + rule1.rhs[0] + \"}\", rule1.confidence, \n",
    "                          rule1.support, rule1.lift, kulc])"
   ]
  },
  {
   "cell_type": "code",
   "execution_count": 65,
   "metadata": {
    "scrolled": false
   },
   "outputs": [
    {
     "data": {
      "image/png": "[encoded data removed]",
      "text/plain": [
       "<Figure size 432x288 with 1 Axes>"
      ]
     },
     "metadata": {
      "needs_background": "light"
     },
     "output_type": "display_data"
    },
    {
     "data": {
      "image/png": "[encoded data removed]",
      "text/plain": [
       "<Figure size 432x288 with 1 Axes>"
      ]
     },
     "metadata": {
      "needs_background": "light"
     },
     "output_type": "display_data"
    },
    {
     "data": {
      "image/png": "[encoded data removed]",
      "text/plain": [
       "<Figure size 432x288 with 1 Axes>"
      ]
     },
     "metadata": {
      "needs_background": "light"
     },
     "output_type": "display_data"
    },
    {
     "data": {
      "image/png": "[encoded data removed]",
      "text/plain": [
       "<Figure size 432x288 with 1 Axes>"
      ]
     },
     "metadata": {
      "needs_background": "light"
     },
     "output_type": "display_data"
    }
   ],
   "source": [
    "visualization(big_rule_list)"
   ]
  },
  {
   "cell_type": "code",
   "execution_count": null,
   "metadata": {},
   "outputs": [],
   "source": []
  }
 ],
 "metadata": {
  "kernelspec": {
   "display_name": "Python [conda env:zyy] *",
   "language": "python",
   "name": "conda-env-zyy-py"
  },
  "language_info": {
   "codemirror_mode": {
    "name": "ipython",
    "version": 3
   },
   "file_extension": ".py",
   "mimetype": "text/x-python",
   "name": "python",
   "nbconvert_exporter": "python",
   "pygments_lexer": "ipython3",
   "version": "3.6.10"
  }
 },
 "nbformat": 4,
 "nbformat_minor": 4
}

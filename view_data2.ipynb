{
 "cells": [
  {
   "cell_type": "code",
   "execution_count": 1,
   "metadata": {},
   "outputs": [],
   "source": [
    "import pandas as pd"
   ]
  },
  {
   "cell_type": "code",
   "execution_count": 3,
   "metadata": {},
   "outputs": [],
   "source": [
    "click_log_df = pd.read_csv('/DATA/zhouyongyu/taac/dataset/train_preliminary/click_log.csv')"
   ]
  },
  {
   "cell_type": "code",
   "execution_count": 4,
   "metadata": {},
   "outputs": [],
   "source": [
    "ad_df = pd.read_csv('/DATA/zhouyongyu/taac/dataset/train_preliminary/ad.csv')"
   ]
  },
  {
   "cell_type": "code",
   "execution_count": 5,
   "metadata": {},
   "outputs": [],
   "source": [
    "user_df = pd.read_csv('/DATA/zhouyongyu/taac/dataset/train_preliminary/user.csv')"
   ]
  },
  {
   "cell_type": "code",
   "execution_count": 6,
   "metadata": {},
   "outputs": [],
   "source": [
    "test_click_log_df = pd.read_csv('/DATA/zhouyongyu/taac/dataset/test/click_log.csv')"
   ]
  },
  {
   "cell_type": "code",
   "execution_count": 7,
   "metadata": {},
   "outputs": [],
   "source": [
    "test_ad_df = pd.read_csv('/DATA/zhouyongyu/taac/dataset/test/ad.csv')"
   ]
  },
  {
   "cell_type": "code",
   "execution_count": 8,
   "metadata": {},
   "outputs": [],
   "source": [
    "merge_train_df = pd.merge(click_log_df, ad_df, how='left', on=['creative_id'])"
   ]
  },
  {
   "cell_type": "code",
   "execution_count": 9,
   "metadata": {},
   "outputs": [],
   "source": [
    "merge_test_df = pd.merge(test_click_log_df, test_ad_df, how='left', on=['creative_id'])"
   ]
  },
  {
   "cell_type": "code",
   "execution_count": 10,
   "metadata": {},
   "outputs": [
    {
     "data": {
      "text/html": [
       "<div>\n",
       "<style scoped>\n",
       "    .dataframe tbody tr th:only-of-type {\n",
       "        vertical-align: middle;\n",
       "    }\n",
       "\n",
       "    .dataframe tbody tr th {\n",
       "        vertical-align: top;\n",
       "    }\n",
       "\n",
       "    .dataframe thead th {\n",
       "        text-align: right;\n",
       "    }\n",
       "</style>\n",
       "<table border=\"1\" class=\"dataframe\">\n",
       "  <thead>\n",
       "    <tr style=\"text-align: right;\">\n",
       "      <th></th>\n",
       "      <th>time</th>\n",
       "      <th>user_id</th>\n",
       "      <th>creative_id</th>\n",
       "      <th>click_times</th>\n",
       "      <th>ad_id</th>\n",
       "      <th>product_id</th>\n",
       "      <th>product_category</th>\n",
       "      <th>advertiser_id</th>\n",
       "      <th>industry</th>\n",
       "    </tr>\n",
       "  </thead>\n",
       "  <tbody>\n",
       "    <tr>\n",
       "      <th>0</th>\n",
       "      <td>9</td>\n",
       "      <td>30920</td>\n",
       "      <td>567330</td>\n",
       "      <td>1</td>\n",
       "      <td>504423</td>\n",
       "      <td>30673</td>\n",
       "      <td>3</td>\n",
       "      <td>32638</td>\n",
       "      <td>319</td>\n",
       "    </tr>\n",
       "    <tr>\n",
       "      <th>1</th>\n",
       "      <td>65</td>\n",
       "      <td>30920</td>\n",
       "      <td>3072255</td>\n",
       "      <td>1</td>\n",
       "      <td>2642300</td>\n",
       "      <td>1261</td>\n",
       "      <td>2</td>\n",
       "      <td>6783</td>\n",
       "      <td>6</td>\n",
       "    </tr>\n",
       "    <tr>\n",
       "      <th>2</th>\n",
       "      <td>56</td>\n",
       "      <td>30920</td>\n",
       "      <td>2361327</td>\n",
       "      <td>1</td>\n",
       "      <td>2035918</td>\n",
       "      <td>1261</td>\n",
       "      <td>2</td>\n",
       "      <td>6783</td>\n",
       "      <td>6</td>\n",
       "    </tr>\n",
       "    <tr>\n",
       "      <th>3</th>\n",
       "      <td>6</td>\n",
       "      <td>309204</td>\n",
       "      <td>325532</td>\n",
       "      <td>1</td>\n",
       "      <td>292523</td>\n",
       "      <td>27081</td>\n",
       "      <td>3</td>\n",
       "      <td>32066</td>\n",
       "      <td>242</td>\n",
       "    </tr>\n",
       "    <tr>\n",
       "      <th>4</th>\n",
       "      <td>59</td>\n",
       "      <td>309204</td>\n",
       "      <td>2746730</td>\n",
       "      <td>1</td>\n",
       "      <td>2362208</td>\n",
       "      <td>\\N</td>\n",
       "      <td>18</td>\n",
       "      <td>14682</td>\n",
       "      <td>88</td>\n",
       "    </tr>\n",
       "  </tbody>\n",
       "</table>\n",
       "</div>"
      ],
      "text/plain": [
       "   time  user_id  creative_id  click_times    ad_id product_id  \\\n",
       "0     9    30920       567330            1   504423      30673   \n",
       "1    65    30920      3072255            1  2642300       1261   \n",
       "2    56    30920      2361327            1  2035918       1261   \n",
       "3     6   309204       325532            1   292523      27081   \n",
       "4    59   309204      2746730            1  2362208         \\N   \n",
       "\n",
       "   product_category  advertiser_id industry  \n",
       "0                 3          32638      319  \n",
       "1                 2           6783        6  \n",
       "2                 2           6783        6  \n",
       "3                 3          32066      242  \n",
       "4                18          14682       88  "
      ]
     },
     "execution_count": 10,
     "metadata": {},
     "output_type": "execute_result"
    }
   ],
   "source": [
    "merge_train_df.head()"
   ]
  },
  {
   "cell_type": "code",
   "execution_count": 11,
   "metadata": {},
   "outputs": [
    {
     "data": {
      "text/html": [
       "<div>\n",
       "<style scoped>\n",
       "    .dataframe tbody tr th:only-of-type {\n",
       "        vertical-align: middle;\n",
       "    }\n",
       "\n",
       "    .dataframe tbody tr th {\n",
       "        vertical-align: top;\n",
       "    }\n",
       "\n",
       "    .dataframe thead th {\n",
       "        text-align: right;\n",
       "    }\n",
       "</style>\n",
       "<table border=\"1\" class=\"dataframe\">\n",
       "  <thead>\n",
       "    <tr style=\"text-align: right;\">\n",
       "      <th></th>\n",
       "      <th>time</th>\n",
       "      <th>user_id</th>\n",
       "      <th>creative_id</th>\n",
       "      <th>click_times</th>\n",
       "      <th>ad_id</th>\n",
       "      <th>product_id</th>\n",
       "      <th>product_category</th>\n",
       "      <th>advertiser_id</th>\n",
       "      <th>industry</th>\n",
       "    </tr>\n",
       "  </thead>\n",
       "  <tbody>\n",
       "    <tr>\n",
       "      <th>0</th>\n",
       "      <td>20</td>\n",
       "      <td>3131989</td>\n",
       "      <td>645764</td>\n",
       "      <td>1</td>\n",
       "      <td>573314</td>\n",
       "      <td>58</td>\n",
       "      <td>2</td>\n",
       "      <td>14689</td>\n",
       "      <td>6</td>\n",
       "    </tr>\n",
       "    <tr>\n",
       "      <th>1</th>\n",
       "      <td>20</td>\n",
       "      <td>3131989</td>\n",
       "      <td>1027422</td>\n",
       "      <td>1</td>\n",
       "      <td>902764</td>\n",
       "      <td>129</td>\n",
       "      <td>2</td>\n",
       "      <td>42272</td>\n",
       "      <td>6</td>\n",
       "    </tr>\n",
       "    <tr>\n",
       "      <th>2</th>\n",
       "      <td>20</td>\n",
       "      <td>3131989</td>\n",
       "      <td>1106443</td>\n",
       "      <td>1</td>\n",
       "      <td>970829</td>\n",
       "      <td>2171</td>\n",
       "      <td>2</td>\n",
       "      <td>37513</td>\n",
       "      <td>322</td>\n",
       "    </tr>\n",
       "    <tr>\n",
       "      <th>3</th>\n",
       "      <td>20</td>\n",
       "      <td>3131989</td>\n",
       "      <td>629802</td>\n",
       "      <td>1</td>\n",
       "      <td>559183</td>\n",
       "      <td>\\N</td>\n",
       "      <td>18</td>\n",
       "      <td>14678</td>\n",
       "      <td>26</td>\n",
       "    </tr>\n",
       "    <tr>\n",
       "      <th>4</th>\n",
       "      <td>59</td>\n",
       "      <td>3131989</td>\n",
       "      <td>2839769</td>\n",
       "      <td>1</td>\n",
       "      <td>2441288</td>\n",
       "      <td>129</td>\n",
       "      <td>2</td>\n",
       "      <td>35328</td>\n",
       "      <td>6</td>\n",
       "    </tr>\n",
       "  </tbody>\n",
       "</table>\n",
       "</div>"
      ],
      "text/plain": [
       "   time  user_id  creative_id  click_times    ad_id product_id  \\\n",
       "0    20  3131989       645764            1   573314         58   \n",
       "1    20  3131989      1027422            1   902764        129   \n",
       "2    20  3131989      1106443            1   970829       2171   \n",
       "3    20  3131989       629802            1   559183         \\N   \n",
       "4    59  3131989      2839769            1  2441288        129   \n",
       "\n",
       "   product_category  advertiser_id industry  \n",
       "0                 2          14689        6  \n",
       "1                 2          42272        6  \n",
       "2                 2          37513      322  \n",
       "3                18          14678       26  \n",
       "4                 2          35328        6  "
      ]
     },
     "execution_count": 11,
     "metadata": {},
     "output_type": "execute_result"
    }
   ],
   "source": [
    "merge_test_df.head()"
   ]
  },
  {
   "cell_type": "code",
   "execution_count": 12,
   "metadata": {},
   "outputs": [],
   "source": [
    "merge_train_df.to_csv('/DATA/zhouyongyu/taac/dataset/merge_train_df.csv',index=0)"
   ]
  },
  {
   "cell_type": "code",
   "execution_count": 13,
   "metadata": {},
   "outputs": [],
   "source": [
    "merge_test_df.to_csv('/DATA/zhouyongyu/taac/dataset/merge_test_df.csv',index=0)"
   ]
  },
  {
   "cell_type": "code",
   "execution_count": 14,
   "metadata": {},
   "outputs": [],
   "source": [
    "merge_train_df = merge_train_df.sort_values(by='time')"
   ]
  },
  {
   "cell_type": "code",
   "execution_count": 15,
   "metadata": {},
   "outputs": [],
   "source": [
    "merge_test_df = merge_test_df.sort_values(by='time')"
   ]
  },
  {
   "cell_type": "code",
   "execution_count": 41,
   "metadata": {},
   "outputs": [],
   "source": [
    "def hh_creative_id(q):\n",
    "#     print(q)\n",
    "#     print(q['creative_id'])\n",
    "#     print(list(q))\n",
    "    id = list(q['creative_id'])\n",
    "    click_times = list(q['click_times'])\n",
    "#     print([str(item) + \":\" + str(click_times[index]) for index,item in enumerate(id)])\n",
    "    return [str(item) + \":\" + str(click_times[index]) for index,item in enumerate(id)]\n",
    "\n",
    "def hh_creative_id(q):\n",
    "#     print(q)\n",
    "#     print(q['creative_id'])\n",
    "#     print(list(q))\n",
    "    id = list(q['creative_id'])\n",
    "    click_times = list(q['click_times'])\n",
    "#     print([str(item) + \":\" + str(click_times[index]) for index,item in enumerate(id)])\n",
    "    return [str(item) + \":\" + str(click_times[index]) for index,item in enumerate(id)]"
   ]
  },
  {
   "cell_type": "code",
   "execution_count": 42,
   "metadata": {},
   "outputs": [
    {
     "name": "stderr",
     "output_type": "stream",
     "text": [
      "/DATA/jipengfei/anaconda3/envs/zyy/lib/python3.6/site-packages/ipykernel_launcher.py:1: FutureWarning: Indexing with multiple keys (implicitly converted to a tuple of keys) will be deprecated, use a list instead.\n",
      "  \"\"\"Entry point for launching an IPython kernel.\n"
     ]
    }
   ],
   "source": [
    "train_creative_seq = merge_train_df[].groupby('user_id')['creative_id','click_times'].apply(hh_creative_id).reset_index()"
   ]
  },
  {
   "cell_type": "code",
   "execution_count": 43,
   "metadata": {
    "scrolled": false
   },
   "outputs": [
    {
     "data": {
      "text/html": [
       "<div>\n",
       "<style scoped>\n",
       "    .dataframe tbody tr th:only-of-type {\n",
       "        vertical-align: middle;\n",
       "    }\n",
       "\n",
       "    .dataframe tbody tr th {\n",
       "        vertical-align: top;\n",
       "    }\n",
       "\n",
       "    .dataframe thead th {\n",
       "        text-align: right;\n",
       "    }\n",
       "</style>\n",
       "<table border=\"1\" class=\"dataframe\">\n",
       "  <thead>\n",
       "    <tr style=\"text-align: right;\">\n",
       "      <th></th>\n",
       "      <th>user_id</th>\n",
       "      <th>0</th>\n",
       "    </tr>\n",
       "  </thead>\n",
       "  <tbody>\n",
       "    <tr>\n",
       "      <th>0</th>\n",
       "      <td>1</td>\n",
       "      <td>[877468:1, 821396:1, 209778:1, 1683713:1, 1220...</td>\n",
       "    </tr>\n",
       "    <tr>\n",
       "      <th>1</th>\n",
       "      <td>2</td>\n",
       "      <td>[63441:1, 155822:1, 39714:1, 609050:1, 13069:1...</td>\n",
       "    </tr>\n",
       "    <tr>\n",
       "      <th>2</th>\n",
       "      <td>3</td>\n",
       "      <td>[661347:1, 808612:1, 710859:1, 825434:1, 59352...</td>\n",
       "    </tr>\n",
       "    <tr>\n",
       "      <th>3</th>\n",
       "      <td>4</td>\n",
       "      <td>[39588:1, 589886:1, 574787:1, 1892854:1, 31070...</td>\n",
       "    </tr>\n",
       "    <tr>\n",
       "      <th>4</th>\n",
       "      <td>5</td>\n",
       "      <td>[296145:1, 350759:1, 24333:1, 43235:1, 852327:...</td>\n",
       "    </tr>\n",
       "  </tbody>\n",
       "</table>\n",
       "</div>"
      ],
      "text/plain": [
       "   user_id                                                  0\n",
       "0        1  [877468:1, 821396:1, 209778:1, 1683713:1, 1220...\n",
       "1        2  [63441:1, 155822:1, 39714:1, 609050:1, 13069:1...\n",
       "2        3  [661347:1, 808612:1, 710859:1, 825434:1, 59352...\n",
       "3        4  [39588:1, 589886:1, 574787:1, 1892854:1, 31070...\n",
       "4        5  [296145:1, 350759:1, 24333:1, 43235:1, 852327:..."
      ]
     },
     "execution_count": 43,
     "metadata": {},
     "output_type": "execute_result"
    }
   ],
   "source": [
    "train_creative_seq.head()"
   ]
  },
  {
   "cell_type": "markdown",
   "metadata": {},
   "source": [
    "# 生成各种list"
   ]
  },
  {
   "cell_type": "code",
   "execution_count": 1,
   "metadata": {},
   "outputs": [],
   "source": [
    "import pandas as pd"
   ]
  },
  {
   "cell_type": "code",
   "execution_count": 2,
   "metadata": {},
   "outputs": [],
   "source": [
    "merge_train_df = pd.read_csv('/DATA/zhouyongyu/taac/dataset/merge_train_df.csv')"
   ]
  },
  {
   "cell_type": "code",
   "execution_count": 3,
   "metadata": {},
   "outputs": [],
   "source": [
    "merge_test_df = pd.read_csv('/DATA/zhouyongyu/taac/dataset/merge_test_df.csv')"
   ]
  },
  {
   "cell_type": "code",
   "execution_count": 4,
   "metadata": {},
   "outputs": [],
   "source": [
    "merge_train_df = merge_train_df.sort_values(by='time')"
   ]
  },
  {
   "cell_type": "code",
   "execution_count": 5,
   "metadata": {},
   "outputs": [],
   "source": [
    "merge_test_df = merge_test_df.sort_values(by='time')"
   ]
  },
  {
   "cell_type": "code",
   "execution_count": 6,
   "metadata": {
    "scrolled": true
   },
   "outputs": [
    {
     "data": {
      "text/html": [
       "<div>\n",
       "<style scoped>\n",
       "    .dataframe tbody tr th:only-of-type {\n",
       "        vertical-align: middle;\n",
       "    }\n",
       "\n",
       "    .dataframe tbody tr th {\n",
       "        vertical-align: top;\n",
       "    }\n",
       "\n",
       "    .dataframe thead th {\n",
       "        text-align: right;\n",
       "    }\n",
       "</style>\n",
       "<table border=\"1\" class=\"dataframe\">\n",
       "  <thead>\n",
       "    <tr style=\"text-align: right;\">\n",
       "      <th></th>\n",
       "      <th>time</th>\n",
       "      <th>user_id</th>\n",
       "      <th>creative_id</th>\n",
       "      <th>click_times</th>\n",
       "      <th>ad_id</th>\n",
       "      <th>product_id</th>\n",
       "      <th>product_category</th>\n",
       "      <th>advertiser_id</th>\n",
       "      <th>industry</th>\n",
       "    </tr>\n",
       "  </thead>\n",
       "  <tbody>\n",
       "    <tr>\n",
       "      <th>15929052</th>\n",
       "      <td>1</td>\n",
       "      <td>358946</td>\n",
       "      <td>216469</td>\n",
       "      <td>1</td>\n",
       "      <td>194447</td>\n",
       "      <td>8826</td>\n",
       "      <td>3</td>\n",
       "      <td>30464</td>\n",
       "      <td>\\N</td>\n",
       "    </tr>\n",
       "    <tr>\n",
       "      <th>6359562</th>\n",
       "      <td>1</td>\n",
       "      <td>652708</td>\n",
       "      <td>53492</td>\n",
       "      <td>1</td>\n",
       "      <td>49831</td>\n",
       "      <td>26858</td>\n",
       "      <td>3</td>\n",
       "      <td>29963</td>\n",
       "      <td>60</td>\n",
       "    </tr>\n",
       "    <tr>\n",
       "      <th>25376823</th>\n",
       "      <td>1</td>\n",
       "      <td>866186</td>\n",
       "      <td>220806</td>\n",
       "      <td>1</td>\n",
       "      <td>198186</td>\n",
       "      <td>\\N</td>\n",
       "      <td>12</td>\n",
       "      <td>18103</td>\n",
       "      <td>6</td>\n",
       "    </tr>\n",
       "    <tr>\n",
       "      <th>25376817</th>\n",
       "      <td>1</td>\n",
       "      <td>866186</td>\n",
       "      <td>63440</td>\n",
       "      <td>1</td>\n",
       "      <td>58787</td>\n",
       "      <td>87</td>\n",
       "      <td>2</td>\n",
       "      <td>22885</td>\n",
       "      <td>318</td>\n",
       "    </tr>\n",
       "    <tr>\n",
       "      <th>21756044</th>\n",
       "      <td>1</td>\n",
       "      <td>672438</td>\n",
       "      <td>20857</td>\n",
       "      <td>1</td>\n",
       "      <td>21792</td>\n",
       "      <td>\\N</td>\n",
       "      <td>18</td>\n",
       "      <td>22918</td>\n",
       "      <td>319</td>\n",
       "    </tr>\n",
       "  </tbody>\n",
       "</table>\n",
       "</div>"
      ],
      "text/plain": [
       "          time  user_id  creative_id  click_times   ad_id product_id  \\\n",
       "15929052     1   358946       216469            1  194447       8826   \n",
       "6359562      1   652708        53492            1   49831      26858   \n",
       "25376823     1   866186       220806            1  198186         \\N   \n",
       "25376817     1   866186        63440            1   58787         87   \n",
       "21756044     1   672438        20857            1   21792         \\N   \n",
       "\n",
       "          product_category  advertiser_id industry  \n",
       "15929052                 3          30464       \\N  \n",
       "6359562                  3          29963       60  \n",
       "25376823                12          18103        6  \n",
       "25376817                 2          22885      318  \n",
       "21756044                18          22918      319  "
      ]
     },
     "execution_count": 6,
     "metadata": {},
     "output_type": "execute_result"
    }
   ],
   "source": [
    "merge_train_df.head()"
   ]
  },
  {
   "cell_type": "code",
   "execution_count": 7,
   "metadata": {
    "scrolled": false
   },
   "outputs": [
    {
     "data": {
      "text/html": [
       "<div>\n",
       "<style scoped>\n",
       "    .dataframe tbody tr th:only-of-type {\n",
       "        vertical-align: middle;\n",
       "    }\n",
       "\n",
       "    .dataframe tbody tr th {\n",
       "        vertical-align: top;\n",
       "    }\n",
       "\n",
       "    .dataframe thead th {\n",
       "        text-align: right;\n",
       "    }\n",
       "</style>\n",
       "<table border=\"1\" class=\"dataframe\">\n",
       "  <thead>\n",
       "    <tr style=\"text-align: right;\">\n",
       "      <th></th>\n",
       "      <th>time</th>\n",
       "      <th>user_id</th>\n",
       "      <th>creative_id</th>\n",
       "      <th>click_times</th>\n",
       "      <th>ad_id</th>\n",
       "      <th>product_id</th>\n",
       "      <th>product_category</th>\n",
       "      <th>advertiser_id</th>\n",
       "      <th>industry</th>\n",
       "    </tr>\n",
       "  </thead>\n",
       "  <tbody>\n",
       "    <tr>\n",
       "      <th>12849660</th>\n",
       "      <td>1</td>\n",
       "      <td>3892830</td>\n",
       "      <td>112276</td>\n",
       "      <td>1</td>\n",
       "      <td>101587</td>\n",
       "      <td>\\N</td>\n",
       "      <td>18</td>\n",
       "      <td>8371</td>\n",
       "      <td>54</td>\n",
       "    </tr>\n",
       "    <tr>\n",
       "      <th>23535382</th>\n",
       "      <td>1</td>\n",
       "      <td>3530749</td>\n",
       "      <td>14391</td>\n",
       "      <td>1</td>\n",
       "      <td>15775</td>\n",
       "      <td>1261</td>\n",
       "      <td>2</td>\n",
       "      <td>10988</td>\n",
       "      <td>6</td>\n",
       "    </tr>\n",
       "    <tr>\n",
       "      <th>9820227</th>\n",
       "      <td>1</td>\n",
       "      <td>3711528</td>\n",
       "      <td>208390</td>\n",
       "      <td>1</td>\n",
       "      <td>187259</td>\n",
       "      <td>1261</td>\n",
       "      <td>2</td>\n",
       "      <td>10925</td>\n",
       "      <td>6</td>\n",
       "    </tr>\n",
       "    <tr>\n",
       "      <th>9820228</th>\n",
       "      <td>1</td>\n",
       "      <td>3711528</td>\n",
       "      <td>236102</td>\n",
       "      <td>1</td>\n",
       "      <td>212289</td>\n",
       "      <td>1261</td>\n",
       "      <td>2</td>\n",
       "      <td>19056</td>\n",
       "      <td>98</td>\n",
       "    </tr>\n",
       "    <tr>\n",
       "      <th>31351701</th>\n",
       "      <td>1</td>\n",
       "      <td>3998628</td>\n",
       "      <td>90699</td>\n",
       "      <td>1</td>\n",
       "      <td>82895</td>\n",
       "      <td>\\N</td>\n",
       "      <td>18</td>\n",
       "      <td>10955</td>\n",
       "      <td>238</td>\n",
       "    </tr>\n",
       "  </tbody>\n",
       "</table>\n",
       "</div>"
      ],
      "text/plain": [
       "          time  user_id  creative_id  click_times   ad_id product_id  \\\n",
       "12849660     1  3892830       112276            1  101587         \\N   \n",
       "23535382     1  3530749        14391            1   15775       1261   \n",
       "9820227      1  3711528       208390            1  187259       1261   \n",
       "9820228      1  3711528       236102            1  212289       1261   \n",
       "31351701     1  3998628        90699            1   82895         \\N   \n",
       "\n",
       "          product_category  advertiser_id industry  \n",
       "12849660                18           8371       54  \n",
       "23535382                 2          10988        6  \n",
       "9820227                  2          10925        6  \n",
       "9820228                  2          19056       98  \n",
       "31351701                18          10955      238  "
      ]
     },
     "execution_count": 7,
     "metadata": {},
     "output_type": "execute_result"
    }
   ],
   "source": [
    "merge_test_df.head()"
   ]
  },
  {
   "cell_type": "markdown",
   "metadata": {},
   "source": [
    "## creative_id"
   ]
  },
  {
   "cell_type": "code",
   "execution_count": 68,
   "metadata": {},
   "outputs": [],
   "source": [
    "train_creative_seq = pd.read_csv('/DATA/zhouyongyu/taac/user_creative_seq.csv')"
   ]
  },
  {
   "cell_type": "code",
   "execution_count": 69,
   "metadata": {},
   "outputs": [],
   "source": [
    "test_creative_seq = pd.read_csv('/DATA/zhouyongyu/taac/test_creative_seq.csv')"
   ]
  },
  {
   "cell_type": "markdown",
   "metadata": {},
   "source": [
    "## click_times"
   ]
  },
  {
   "cell_type": "code",
   "execution_count": 9,
   "metadata": {},
   "outputs": [],
   "source": [
    "train_times_seq = merge_train_df.groupby('user_id')['click_times'].apply(list).reset_index()"
   ]
  },
  {
   "cell_type": "code",
   "execution_count": 10,
   "metadata": {},
   "outputs": [],
   "source": [
    "test_times_seq = merge_test_df.groupby('user_id')['click_times'].apply(list).reset_index()"
   ]
  },
  {
   "cell_type": "code",
   "execution_count": 11,
   "metadata": {
    "scrolled": true
   },
   "outputs": [
    {
     "data": {
      "text/html": [
       "<div>\n",
       "<style scoped>\n",
       "    .dataframe tbody tr th:only-of-type {\n",
       "        vertical-align: middle;\n",
       "    }\n",
       "\n",
       "    .dataframe tbody tr th {\n",
       "        vertical-align: top;\n",
       "    }\n",
       "\n",
       "    .dataframe thead th {\n",
       "        text-align: right;\n",
       "    }\n",
       "</style>\n",
       "<table border=\"1\" class=\"dataframe\">\n",
       "  <thead>\n",
       "    <tr style=\"text-align: right;\">\n",
       "      <th></th>\n",
       "      <th>user_id</th>\n",
       "      <th>click_times</th>\n",
       "    </tr>\n",
       "  </thead>\n",
       "  <tbody>\n",
       "    <tr>\n",
       "      <th>0</th>\n",
       "      <td>1</td>\n",
       "      <td>[1, 1, 1, 1, 1, 1, 1, 1, 1, 1, 1, 1, 2]</td>\n",
       "    </tr>\n",
       "    <tr>\n",
       "      <th>1</th>\n",
       "      <td>2</td>\n",
       "      <td>[1, 1, 1, 1, 1, 1, 1, 1, 1, 1, 1, 1, 1, 1, 1, ...</td>\n",
       "    </tr>\n",
       "    <tr>\n",
       "      <th>2</th>\n",
       "      <td>3</td>\n",
       "      <td>[1, 1, 1, 1, 1, 1, 1, 1, 1, 1, 1, 1, 1, 1, 1, ...</td>\n",
       "    </tr>\n",
       "    <tr>\n",
       "      <th>3</th>\n",
       "      <td>4</td>\n",
       "      <td>[1, 1, 1, 1, 1, 1, 1, 1, 1, 1, 1, 1, 1, 1, 1, ...</td>\n",
       "    </tr>\n",
       "    <tr>\n",
       "      <th>4</th>\n",
       "      <td>5</td>\n",
       "      <td>[1, 1, 1, 1, 1, 2, 1, 1, 1, 1, 1, 1, 1, 1, 1, ...</td>\n",
       "    </tr>\n",
       "  </tbody>\n",
       "</table>\n",
       "</div>"
      ],
      "text/plain": [
       "   user_id                                        click_times\n",
       "0        1            [1, 1, 1, 1, 1, 1, 1, 1, 1, 1, 1, 1, 2]\n",
       "1        2  [1, 1, 1, 1, 1, 1, 1, 1, 1, 1, 1, 1, 1, 1, 1, ...\n",
       "2        3  [1, 1, 1, 1, 1, 1, 1, 1, 1, 1, 1, 1, 1, 1, 1, ...\n",
       "3        4  [1, 1, 1, 1, 1, 1, 1, 1, 1, 1, 1, 1, 1, 1, 1, ...\n",
       "4        5  [1, 1, 1, 1, 1, 2, 1, 1, 1, 1, 1, 1, 1, 1, 1, ..."
      ]
     },
     "execution_count": 11,
     "metadata": {},
     "output_type": "execute_result"
    }
   ],
   "source": [
    "train_times_seq.head()"
   ]
  },
  {
   "cell_type": "code",
   "execution_count": 12,
   "metadata": {},
   "outputs": [
    {
     "data": {
      "text/html": [
       "<div>\n",
       "<style scoped>\n",
       "    .dataframe tbody tr th:only-of-type {\n",
       "        vertical-align: middle;\n",
       "    }\n",
       "\n",
       "    .dataframe tbody tr th {\n",
       "        vertical-align: top;\n",
       "    }\n",
       "\n",
       "    .dataframe thead th {\n",
       "        text-align: right;\n",
       "    }\n",
       "</style>\n",
       "<table border=\"1\" class=\"dataframe\">\n",
       "  <thead>\n",
       "    <tr style=\"text-align: right;\">\n",
       "      <th></th>\n",
       "      <th>user_id</th>\n",
       "      <th>click_times</th>\n",
       "    </tr>\n",
       "  </thead>\n",
       "  <tbody>\n",
       "    <tr>\n",
       "      <th>0</th>\n",
       "      <td>3000001</td>\n",
       "      <td>[1, 1, 1, 1, 1, 1, 1, 1, 1, 1, 1]</td>\n",
       "    </tr>\n",
       "    <tr>\n",
       "      <th>1</th>\n",
       "      <td>3000002</td>\n",
       "      <td>[1, 2, 1, 1, 1, 1, 1, 1, 1, 1, 2, 1, 1, 1, 1, ...</td>\n",
       "    </tr>\n",
       "    <tr>\n",
       "      <th>2</th>\n",
       "      <td>3000003</td>\n",
       "      <td>[1, 1, 1, 1, 1, 1, 1, 1, 1, 1, 1, 1, 1, 1, 1, ...</td>\n",
       "    </tr>\n",
       "    <tr>\n",
       "      <th>3</th>\n",
       "      <td>3000004</td>\n",
       "      <td>[1, 1, 1, 1, 1, 1, 1, 1, 1, 1, 1, 1, 1, 1, 1, ...</td>\n",
       "    </tr>\n",
       "    <tr>\n",
       "      <th>4</th>\n",
       "      <td>3000005</td>\n",
       "      <td>[1, 1, 1, 1, 1, 1, 2, 1, 1, 1, 1, 1, 1, 1, 1, ...</td>\n",
       "    </tr>\n",
       "  </tbody>\n",
       "</table>\n",
       "</div>"
      ],
      "text/plain": [
       "   user_id                                        click_times\n",
       "0  3000001                  [1, 1, 1, 1, 1, 1, 1, 1, 1, 1, 1]\n",
       "1  3000002  [1, 2, 1, 1, 1, 1, 1, 1, 1, 1, 2, 1, 1, 1, 1, ...\n",
       "2  3000003  [1, 1, 1, 1, 1, 1, 1, 1, 1, 1, 1, 1, 1, 1, 1, ...\n",
       "3  3000004  [1, 1, 1, 1, 1, 1, 1, 1, 1, 1, 1, 1, 1, 1, 1, ...\n",
       "4  3000005  [1, 1, 1, 1, 1, 1, 2, 1, 1, 1, 1, 1, 1, 1, 1, ..."
      ]
     },
     "execution_count": 12,
     "metadata": {},
     "output_type": "execute_result"
    }
   ],
   "source": [
    "test_times_seq.head()"
   ]
  },
  {
   "cell_type": "code",
   "execution_count": 13,
   "metadata": {},
   "outputs": [],
   "source": [
    "train_times_seq.to_csv('/DATA/zhouyongyu/taac/train_times_seq.csv',index=0)"
   ]
  },
  {
   "cell_type": "code",
   "execution_count": 14,
   "metadata": {},
   "outputs": [],
   "source": [
    "test_times_seq.to_csv('/DATA/zhouyongyu/taac/test_times_seq.csv',index=0)"
   ]
  },
  {
   "cell_type": "markdown",
   "metadata": {},
   "source": [
    "## product_id"
   ]
  },
  {
   "cell_type": "code",
   "execution_count": 15,
   "metadata": {},
   "outputs": [],
   "source": [
    "train_product_seq = merge_train_df.groupby('user_id')['product_id'].apply(list).reset_index()"
   ]
  },
  {
   "cell_type": "code",
   "execution_count": 16,
   "metadata": {},
   "outputs": [],
   "source": [
    "test_product_seq = merge_test_df.groupby('user_id')['product_id'].apply(list).reset_index()"
   ]
  },
  {
   "cell_type": "code",
   "execution_count": 17,
   "metadata": {
    "scrolled": true
   },
   "outputs": [
    {
     "data": {
      "text/html": [
       "<div>\n",
       "<style scoped>\n",
       "    .dataframe tbody tr th:only-of-type {\n",
       "        vertical-align: middle;\n",
       "    }\n",
       "\n",
       "    .dataframe tbody tr th {\n",
       "        vertical-align: top;\n",
       "    }\n",
       "\n",
       "    .dataframe thead th {\n",
       "        text-align: right;\n",
       "    }\n",
       "</style>\n",
       "<table border=\"1\" class=\"dataframe\">\n",
       "  <thead>\n",
       "    <tr style=\"text-align: right;\">\n",
       "      <th></th>\n",
       "      <th>user_id</th>\n",
       "      <th>product_id</th>\n",
       "    </tr>\n",
       "  </thead>\n",
       "  <tbody>\n",
       "    <tr>\n",
       "      <th>0</th>\n",
       "      <td>1</td>\n",
       "      <td>[\\N, \\N, 136, \\N, 1334, \\N, \\N, \\N, \\N, 64, 14...</td>\n",
       "    </tr>\n",
       "    <tr>\n",
       "      <th>1</th>\n",
       "      <td>2</td>\n",
       "      <td>[87, 80, 129, 129, 1400, \\N, 87, \\N, 1261, \\N,...</td>\n",
       "    </tr>\n",
       "    <tr>\n",
       "      <th>2</th>\n",
       "      <td>3</td>\n",
       "      <td>[36256, 40905, 1674, 35985, 1674, \\N, \\N, 1031...</td>\n",
       "    </tr>\n",
       "    <tr>\n",
       "      <th>3</th>\n",
       "      <td>4</td>\n",
       "      <td>[1862, \\N, 2625, 38743, 39422, 41265, 39904, 3...</td>\n",
       "    </tr>\n",
       "    <tr>\n",
       "      <th>4</th>\n",
       "      <td>5</td>\n",
       "      <td>[\\N, \\N, 87, 136, \\N, 136, \\N, \\N, \\N, 1064, \\...</td>\n",
       "    </tr>\n",
       "  </tbody>\n",
       "</table>\n",
       "</div>"
      ],
      "text/plain": [
       "   user_id                                         product_id\n",
       "0        1  [\\N, \\N, 136, \\N, 1334, \\N, \\N, \\N, \\N, 64, 14...\n",
       "1        2  [87, 80, 129, 129, 1400, \\N, 87, \\N, 1261, \\N,...\n",
       "2        3  [36256, 40905, 1674, 35985, 1674, \\N, \\N, 1031...\n",
       "3        4  [1862, \\N, 2625, 38743, 39422, 41265, 39904, 3...\n",
       "4        5  [\\N, \\N, 87, 136, \\N, 136, \\N, \\N, \\N, 1064, \\..."
      ]
     },
     "execution_count": 17,
     "metadata": {},
     "output_type": "execute_result"
    }
   ],
   "source": [
    "train_product_seq.head()"
   ]
  },
  {
   "cell_type": "code",
   "execution_count": 18,
   "metadata": {},
   "outputs": [
    {
     "data": {
      "text/html": [
       "<div>\n",
       "<style scoped>\n",
       "    .dataframe tbody tr th:only-of-type {\n",
       "        vertical-align: middle;\n",
       "    }\n",
       "\n",
       "    .dataframe tbody tr th {\n",
       "        vertical-align: top;\n",
       "    }\n",
       "\n",
       "    .dataframe thead th {\n",
       "        text-align: right;\n",
       "    }\n",
       "</style>\n",
       "<table border=\"1\" class=\"dataframe\">\n",
       "  <thead>\n",
       "    <tr style=\"text-align: right;\">\n",
       "      <th></th>\n",
       "      <th>user_id</th>\n",
       "      <th>product_id</th>\n",
       "    </tr>\n",
       "  </thead>\n",
       "  <tbody>\n",
       "    <tr>\n",
       "      <th>0</th>\n",
       "      <td>3000001</td>\n",
       "      <td>[\\N, 1701, 1794, 8938, \\N, 27031, 8593, \\N, \\N...</td>\n",
       "    </tr>\n",
       "    <tr>\n",
       "      <th>1</th>\n",
       "      <td>3000002</td>\n",
       "      <td>[1674, \\N, 140, 1687, 1377, 1377, 143, 87, 140...</td>\n",
       "    </tr>\n",
       "    <tr>\n",
       "      <th>2</th>\n",
       "      <td>3000003</td>\n",
       "      <td>[82, 82, \\N, 2065, 34504, \\N, \\N, 1447, 129, \\...</td>\n",
       "    </tr>\n",
       "    <tr>\n",
       "      <th>3</th>\n",
       "      <td>3000004</td>\n",
       "      <td>[1036, \\N, \\N, 1323, 1268, 1036, \\N, 1268, 240...</td>\n",
       "    </tr>\n",
       "    <tr>\n",
       "      <th>4</th>\n",
       "      <td>3000005</td>\n",
       "      <td>[1896, 1987, 129, \\N, \\N, 1538, 23, 1567, 1567...</td>\n",
       "    </tr>\n",
       "  </tbody>\n",
       "</table>\n",
       "</div>"
      ],
      "text/plain": [
       "   user_id                                         product_id\n",
       "0  3000001  [\\N, 1701, 1794, 8938, \\N, 27031, 8593, \\N, \\N...\n",
       "1  3000002  [1674, \\N, 140, 1687, 1377, 1377, 143, 87, 140...\n",
       "2  3000003  [82, 82, \\N, 2065, 34504, \\N, \\N, 1447, 129, \\...\n",
       "3  3000004  [1036, \\N, \\N, 1323, 1268, 1036, \\N, 1268, 240...\n",
       "4  3000005  [1896, 1987, 129, \\N, \\N, 1538, 23, 1567, 1567..."
      ]
     },
     "execution_count": 18,
     "metadata": {},
     "output_type": "execute_result"
    }
   ],
   "source": [
    "test_product_seq.head()"
   ]
  },
  {
   "cell_type": "code",
   "execution_count": 19,
   "metadata": {},
   "outputs": [],
   "source": [
    "train_product_seq.to_csv('/DATA/zhouyongyu/taac/train_product_seq.csv',index=0)"
   ]
  },
  {
   "cell_type": "code",
   "execution_count": 20,
   "metadata": {},
   "outputs": [],
   "source": [
    "test_product_seq.to_csv('/DATA/zhouyongyu/taac/test_product_seq.csv',index=0)"
   ]
  },
  {
   "cell_type": "markdown",
   "metadata": {},
   "source": [
    "## ad_id"
   ]
  },
  {
   "cell_type": "code",
   "execution_count": 11,
   "metadata": {},
   "outputs": [],
   "source": [
    "train_ad_seq = merge_train_df.groupby('user_id')['ad_id'].apply(list).reset_index()"
   ]
  },
  {
   "cell_type": "code",
   "execution_count": 12,
   "metadata": {},
   "outputs": [],
   "source": [
    "test_ad_seq = merge_test_df.groupby('user_id')['ad_id'].apply(list).reset_index()"
   ]
  },
  {
   "cell_type": "code",
   "execution_count": 14,
   "metadata": {
    "scrolled": true
   },
   "outputs": [
    {
     "data": {
      "text/html": [
       "<div>\n",
       "<style scoped>\n",
       "    .dataframe tbody tr th:only-of-type {\n",
       "        vertical-align: middle;\n",
       "    }\n",
       "\n",
       "    .dataframe tbody tr th {\n",
       "        vertical-align: top;\n",
       "    }\n",
       "\n",
       "    .dataframe thead th {\n",
       "        text-align: right;\n",
       "    }\n",
       "</style>\n",
       "<table border=\"1\" class=\"dataframe\">\n",
       "  <thead>\n",
       "    <tr style=\"text-align: right;\">\n",
       "      <th></th>\n",
       "      <th>user_id</th>\n",
       "      <th>ad_id</th>\n",
       "    </tr>\n",
       "  </thead>\n",
       "  <tbody>\n",
       "    <tr>\n",
       "      <th>0</th>\n",
       "      <td>1</td>\n",
       "      <td>[773445, 724607, 188507, 1458878, 109959, 6621...</td>\n",
       "    </tr>\n",
       "    <tr>\n",
       "      <th>1</th>\n",
       "      <td>2</td>\n",
       "      <td>[58788, 139702, 38066, 541125, 14495, 1107111,...</td>\n",
       "    </tr>\n",
       "    <tr>\n",
       "      <th>2</th>\n",
       "      <td>3</td>\n",
       "      <td>[586668, 713448, 629278, 728308, 527601, 64310...</td>\n",
       "    </tr>\n",
       "    <tr>\n",
       "      <th>3</th>\n",
       "      <td>4</td>\n",
       "      <td>[37966, 524312, 511235, 1638619, 30773, 169820...</td>\n",
       "    </tr>\n",
       "    <tr>\n",
       "      <th>4</th>\n",
       "      <td>5</td>\n",
       "      <td>[265971, 314795, 24966, 41148, 751113, 925792,...</td>\n",
       "    </tr>\n",
       "  </tbody>\n",
       "</table>\n",
       "</div>"
      ],
      "text/plain": [
       "   user_id                                              ad_id\n",
       "0        1  [773445, 724607, 188507, 1458878, 109959, 6621...\n",
       "1        2  [58788, 139702, 38066, 541125, 14495, 1107111,...\n",
       "2        3  [586668, 713448, 629278, 728308, 527601, 64310...\n",
       "3        4  [37966, 524312, 511235, 1638619, 30773, 169820...\n",
       "4        5  [265971, 314795, 24966, 41148, 751113, 925792,..."
      ]
     },
     "execution_count": 14,
     "metadata": {},
     "output_type": "execute_result"
    }
   ],
   "source": [
    "train_ad_seq.head()"
   ]
  },
  {
   "cell_type": "code",
   "execution_count": 23,
   "metadata": {},
   "outputs": [
    {
     "data": {
      "text/html": [
       "<div>\n",
       "<style scoped>\n",
       "    .dataframe tbody tr th:only-of-type {\n",
       "        vertical-align: middle;\n",
       "    }\n",
       "\n",
       "    .dataframe tbody tr th {\n",
       "        vertical-align: top;\n",
       "    }\n",
       "\n",
       "    .dataframe thead th {\n",
       "        text-align: right;\n",
       "    }\n",
       "</style>\n",
       "<table border=\"1\" class=\"dataframe\">\n",
       "  <thead>\n",
       "    <tr style=\"text-align: right;\">\n",
       "      <th></th>\n",
       "      <th>user_id</th>\n",
       "      <th>ad_id</th>\n",
       "    </tr>\n",
       "  </thead>\n",
       "  <tbody>\n",
       "    <tr>\n",
       "      <th>0</th>\n",
       "      <td>3000001</td>\n",
       "      <td>[315858, 589862, 93662, 527764, 1312021, 14823...</td>\n",
       "    </tr>\n",
       "    <tr>\n",
       "      <th>1</th>\n",
       "      <td>3000002</td>\n",
       "      <td>[136730, 136259, 14271, 158762, 67139, 59874, ...</td>\n",
       "    </tr>\n",
       "    <tr>\n",
       "      <th>2</th>\n",
       "      <td>3000003</td>\n",
       "      <td>[145199, 67477, 104623, 35431, 331464, 134931,...</td>\n",
       "    </tr>\n",
       "    <tr>\n",
       "      <th>3</th>\n",
       "      <td>3000004</td>\n",
       "      <td>[98506, 748945, 601456, 11324, 140916, 85594, ...</td>\n",
       "    </tr>\n",
       "    <tr>\n",
       "      <th>4</th>\n",
       "      <td>3000005</td>\n",
       "      <td>[111593, 164114, 38229, 27193, 65782, 233585, ...</td>\n",
       "    </tr>\n",
       "  </tbody>\n",
       "</table>\n",
       "</div>"
      ],
      "text/plain": [
       "   user_id                                              ad_id\n",
       "0  3000001  [315858, 589862, 93662, 527764, 1312021, 14823...\n",
       "1  3000002  [136730, 136259, 14271, 158762, 67139, 59874, ...\n",
       "2  3000003  [145199, 67477, 104623, 35431, 331464, 134931,...\n",
       "3  3000004  [98506, 748945, 601456, 11324, 140916, 85594, ...\n",
       "4  3000005  [111593, 164114, 38229, 27193, 65782, 233585, ..."
      ]
     },
     "execution_count": 23,
     "metadata": {},
     "output_type": "execute_result"
    }
   ],
   "source": [
    "test_ad_seq.head()"
   ]
  },
  {
   "cell_type": "code",
   "execution_count": 15,
   "metadata": {},
   "outputs": [],
   "source": [
    "train_ad_seq.to_csv('/DATA/zhouyongyu/taac/train_ad_seq.csv',index=0)"
   ]
  },
  {
   "cell_type": "code",
   "execution_count": 16,
   "metadata": {},
   "outputs": [],
   "source": [
    "test_ad_seq.to_csv('/DATA/zhouyongyu/taac/test_ad_seq.csv',index=0)"
   ]
  },
  {
   "cell_type": "markdown",
   "metadata": {},
   "source": [
    "## advertiser_id"
   ]
  },
  {
   "cell_type": "code",
   "execution_count": 17,
   "metadata": {},
   "outputs": [],
   "source": [
    "train_advertiser_seq = merge_train_df.groupby('user_id')['advertiser_id'].apply(list).reset_index()\n",
    "test_advertiser_seq = merge_test_df.groupby('user_id')['advertiser_id'].apply(list).reset_index()"
   ]
  },
  {
   "cell_type": "code",
   "execution_count": 20,
   "metadata": {},
   "outputs": [
    {
     "data": {
      "text/html": [
       "<div>\n",
       "<style scoped>\n",
       "    .dataframe tbody tr th:only-of-type {\n",
       "        vertical-align: middle;\n",
       "    }\n",
       "\n",
       "    .dataframe tbody tr th {\n",
       "        vertical-align: top;\n",
       "    }\n",
       "\n",
       "    .dataframe thead th {\n",
       "        text-align: right;\n",
       "    }\n",
       "</style>\n",
       "<table border=\"1\" class=\"dataframe\">\n",
       "  <thead>\n",
       "    <tr style=\"text-align: right;\">\n",
       "      <th></th>\n",
       "      <th>user_id</th>\n",
       "      <th>advertiser_id</th>\n",
       "    </tr>\n",
       "  </thead>\n",
       "  <tbody>\n",
       "    <tr>\n",
       "      <th>0</th>\n",
       "      <td>1</td>\n",
       "      <td>[29455, 7293, 9702, 14668, 11411, 14681, 17189...</td>\n",
       "    </tr>\n",
       "    <tr>\n",
       "      <th>1</th>\n",
       "      <td>2</td>\n",
       "      <td>[22885, 10686, 18562, 25932, 768, 34505, 22885...</td>\n",
       "    </tr>\n",
       "    <tr>\n",
       "      <th>2</th>\n",
       "      <td>3</td>\n",
       "      <td>[32974, 9877, 18492, 14186, 17018, 9058, 8371,...</td>\n",
       "    </tr>\n",
       "    <tr>\n",
       "      <th>3</th>\n",
       "      <td>4</td>\n",
       "      <td>[19451, 7976, 13084, 12130, 13299, 23664, 1017...</td>\n",
       "    </tr>\n",
       "    <tr>\n",
       "      <th>4</th>\n",
       "      <td>5</td>\n",
       "      <td>[11882, 992, 22885, 9706, 38760, 2862, 17745, ...</td>\n",
       "    </tr>\n",
       "  </tbody>\n",
       "</table>\n",
       "</div>"
      ],
      "text/plain": [
       "   user_id                                      advertiser_id\n",
       "0        1  [29455, 7293, 9702, 14668, 11411, 14681, 17189...\n",
       "1        2  [22885, 10686, 18562, 25932, 768, 34505, 22885...\n",
       "2        3  [32974, 9877, 18492, 14186, 17018, 9058, 8371,...\n",
       "3        4  [19451, 7976, 13084, 12130, 13299, 23664, 1017...\n",
       "4        5  [11882, 992, 22885, 9706, 38760, 2862, 17745, ..."
      ]
     },
     "execution_count": 20,
     "metadata": {},
     "output_type": "execute_result"
    }
   ],
   "source": [
    "train_advertiser_seq.head()"
   ]
  },
  {
   "cell_type": "code",
   "execution_count": 24,
   "metadata": {},
   "outputs": [
    {
     "data": {
      "text/html": [
       "<div>\n",
       "<style scoped>\n",
       "    .dataframe tbody tr th:only-of-type {\n",
       "        vertical-align: middle;\n",
       "    }\n",
       "\n",
       "    .dataframe tbody tr th {\n",
       "        vertical-align: top;\n",
       "    }\n",
       "\n",
       "    .dataframe thead th {\n",
       "        text-align: right;\n",
       "    }\n",
       "</style>\n",
       "<table border=\"1\" class=\"dataframe\">\n",
       "  <thead>\n",
       "    <tr style=\"text-align: right;\">\n",
       "      <th></th>\n",
       "      <th>user_id</th>\n",
       "      <th>advertiser_id</th>\n",
       "    </tr>\n",
       "  </thead>\n",
       "  <tbody>\n",
       "    <tr>\n",
       "      <th>0</th>\n",
       "      <td>3000001</td>\n",
       "      <td>[7579, 7000, 13084, 9950, 39179, 32735, 17963,...</td>\n",
       "    </tr>\n",
       "    <tr>\n",
       "      <th>1</th>\n",
       "      <td>3000002</td>\n",
       "      <td>[12993, 27800, 10690, 24661, 10334, 10334, 132...</td>\n",
       "    </tr>\n",
       "    <tr>\n",
       "      <th>2</th>\n",
       "      <td>3000003</td>\n",
       "      <td>[22367, 22367, 25260, 22338, 40491, 18479, 146...</td>\n",
       "    </tr>\n",
       "    <tr>\n",
       "      <th>3</th>\n",
       "      <td>3000004</td>\n",
       "      <td>[8520, 28323, 2286, 818, 2302, 8520, 8371, 230...</td>\n",
       "    </tr>\n",
       "    <tr>\n",
       "      <th>4</th>\n",
       "      <td>3000005</td>\n",
       "      <td>[30710, 29243, 23746, 22388, 6763, 21001, 2654...</td>\n",
       "    </tr>\n",
       "  </tbody>\n",
       "</table>\n",
       "</div>"
      ],
      "text/plain": [
       "   user_id                                      advertiser_id\n",
       "0  3000001  [7579, 7000, 13084, 9950, 39179, 32735, 17963,...\n",
       "1  3000002  [12993, 27800, 10690, 24661, 10334, 10334, 132...\n",
       "2  3000003  [22367, 22367, 25260, 22338, 40491, 18479, 146...\n",
       "3  3000004  [8520, 28323, 2286, 818, 2302, 8520, 8371, 230...\n",
       "4  3000005  [30710, 29243, 23746, 22388, 6763, 21001, 2654..."
      ]
     },
     "execution_count": 24,
     "metadata": {},
     "output_type": "execute_result"
    }
   ],
   "source": [
    "test_advertiser_seq.head()"
   ]
  },
  {
   "cell_type": "code",
   "execution_count": 27,
   "metadata": {},
   "outputs": [],
   "source": [
    "train_advertiser_seq.to_csv('/DATA/zhouyongyu/taac/train_advertiser_seq.csv',index=0)\n",
    "test_advertiser_seq.to_csv('/DATA/zhouyongyu/taac/test_advertiser_seq.csv',index=0)"
   ]
  },
  {
   "cell_type": "markdown",
   "metadata": {},
   "source": [
    "## industry"
   ]
  },
  {
   "cell_type": "code",
   "execution_count": 18,
   "metadata": {},
   "outputs": [],
   "source": [
    "train_industry_seq = merge_train_df.groupby('user_id')['industry'].apply(list).reset_index()\n",
    "test_industry_seq = merge_test_df.groupby('user_id')['industry'].apply(list).reset_index()"
   ]
  },
  {
   "cell_type": "code",
   "execution_count": 21,
   "metadata": {},
   "outputs": [
    {
     "data": {
      "text/html": [
       "<div>\n",
       "<style scoped>\n",
       "    .dataframe tbody tr th:only-of-type {\n",
       "        vertical-align: middle;\n",
       "    }\n",
       "\n",
       "    .dataframe tbody tr th {\n",
       "        vertical-align: top;\n",
       "    }\n",
       "\n",
       "    .dataframe thead th {\n",
       "        text-align: right;\n",
       "    }\n",
       "</style>\n",
       "<table border=\"1\" class=\"dataframe\">\n",
       "  <thead>\n",
       "    <tr style=\"text-align: right;\">\n",
       "      <th></th>\n",
       "      <th>user_id</th>\n",
       "      <th>industry</th>\n",
       "    </tr>\n",
       "  </thead>\n",
       "  <tbody>\n",
       "    <tr>\n",
       "      <th>0</th>\n",
       "      <td>1</td>\n",
       "      <td>[106, 326, 6, 326, \\N, 326, 73, 217, 64, 245, ...</td>\n",
       "    </tr>\n",
       "    <tr>\n",
       "      <th>1</th>\n",
       "      <td>2</td>\n",
       "      <td>[318, 238, 6, 6, 317, 47, 318, 47, 6, 47, 242,...</td>\n",
       "    </tr>\n",
       "    <tr>\n",
       "      <th>2</th>\n",
       "      <td>3</td>\n",
       "      <td>[\\N, \\N, 322, \\N, 322, 6, 54, 6, 322, 322, 205...</td>\n",
       "    </tr>\n",
       "    <tr>\n",
       "      <th>3</th>\n",
       "      <td>4</td>\n",
       "      <td>[238, 25, 248, \\N, \\N, \\N, \\N, \\N, 88, 319, 23...</td>\n",
       "    </tr>\n",
       "    <tr>\n",
       "      <th>4</th>\n",
       "      <td>5</td>\n",
       "      <td>[297, \\N, 318, 6, 322, 6, 288, 322, 319, 238, ...</td>\n",
       "    </tr>\n",
       "  </tbody>\n",
       "</table>\n",
       "</div>"
      ],
      "text/plain": [
       "   user_id                                           industry\n",
       "0        1  [106, 326, 6, 326, \\N, 326, 73, 217, 64, 245, ...\n",
       "1        2  [318, 238, 6, 6, 317, 47, 318, 47, 6, 47, 242,...\n",
       "2        3  [\\N, \\N, 322, \\N, 322, 6, 54, 6, 322, 322, 205...\n",
       "3        4  [238, 25, 248, \\N, \\N, \\N, \\N, \\N, 88, 319, 23...\n",
       "4        5  [297, \\N, 318, 6, 322, 6, 288, 322, 319, 238, ..."
      ]
     },
     "execution_count": 21,
     "metadata": {},
     "output_type": "execute_result"
    }
   ],
   "source": [
    "train_industry_seq.head()"
   ]
  },
  {
   "cell_type": "code",
   "execution_count": 25,
   "metadata": {
    "scrolled": true
   },
   "outputs": [
    {
     "data": {
      "text/html": [
       "<div>\n",
       "<style scoped>\n",
       "    .dataframe tbody tr th:only-of-type {\n",
       "        vertical-align: middle;\n",
       "    }\n",
       "\n",
       "    .dataframe tbody tr th {\n",
       "        vertical-align: top;\n",
       "    }\n",
       "\n",
       "    .dataframe thead th {\n",
       "        text-align: right;\n",
       "    }\n",
       "</style>\n",
       "<table border=\"1\" class=\"dataframe\">\n",
       "  <thead>\n",
       "    <tr style=\"text-align: right;\">\n",
       "      <th></th>\n",
       "      <th>user_id</th>\n",
       "      <th>industry</th>\n",
       "    </tr>\n",
       "  </thead>\n",
       "  <tbody>\n",
       "    <tr>\n",
       "      <th>0</th>\n",
       "      <td>3000001</td>\n",
       "      <td>[322, 247, 248, 247, 322, 317, 322, 322, 322, ...</td>\n",
       "    </tr>\n",
       "    <tr>\n",
       "      <th>1</th>\n",
       "      <td>3000002</td>\n",
       "      <td>[322, 24, 317, 5, 5, 5, 317, 318, 317, 5, 328,...</td>\n",
       "    </tr>\n",
       "    <tr>\n",
       "      <th>2</th>\n",
       "      <td>3000003</td>\n",
       "      <td>[319, 319, 47, 238, 202, 25, 326, 238, 6, 146,...</td>\n",
       "    </tr>\n",
       "    <tr>\n",
       "      <th>3</th>\n",
       "      <td>3000004</td>\n",
       "      <td>[319, 40, 54, 319, 5, 319, 54, 5, 246, 47, 47,...</td>\n",
       "    </tr>\n",
       "    <tr>\n",
       "      <th>4</th>\n",
       "      <td>3000005</td>\n",
       "      <td>[238, 26, 6, 25, 28, 6, 319, 6, 6, 74, 25, 247...</td>\n",
       "    </tr>\n",
       "  </tbody>\n",
       "</table>\n",
       "</div>"
      ],
      "text/plain": [
       "   user_id                                           industry\n",
       "0  3000001  [322, 247, 248, 247, 322, 317, 322, 322, 322, ...\n",
       "1  3000002  [322, 24, 317, 5, 5, 5, 317, 318, 317, 5, 328,...\n",
       "2  3000003  [319, 319, 47, 238, 202, 25, 326, 238, 6, 146,...\n",
       "3  3000004  [319, 40, 54, 319, 5, 319, 54, 5, 246, 47, 47,...\n",
       "4  3000005  [238, 26, 6, 25, 28, 6, 319, 6, 6, 74, 25, 247..."
      ]
     },
     "execution_count": 25,
     "metadata": {},
     "output_type": "execute_result"
    }
   ],
   "source": [
    "test_industry_seq.head()"
   ]
  },
  {
   "cell_type": "code",
   "execution_count": 28,
   "metadata": {},
   "outputs": [],
   "source": [
    "train_industry_seq.to_csv('/DATA/zhouyongyu/taac/train_industry_seq.csv',index=0)\n",
    "test_industry_seq.to_csv('/DATA/zhouyongyu/taac/test_industry_seq.csv',index=0)"
   ]
  },
  {
   "cell_type": "markdown",
   "metadata": {},
   "source": [
    "## product_category"
   ]
  },
  {
   "cell_type": "code",
   "execution_count": 19,
   "metadata": {},
   "outputs": [],
   "source": [
    "train_category_seq = merge_train_df.groupby('user_id')['product_category'].apply(list).reset_index()\n",
    "test_category_seq = merge_test_df.groupby('user_id')['product_category'].apply(list).reset_index()"
   ]
  },
  {
   "cell_type": "code",
   "execution_count": 22,
   "metadata": {},
   "outputs": [
    {
     "data": {
      "text/html": [
       "<div>\n",
       "<style scoped>\n",
       "    .dataframe tbody tr th:only-of-type {\n",
       "        vertical-align: middle;\n",
       "    }\n",
       "\n",
       "    .dataframe tbody tr th {\n",
       "        vertical-align: top;\n",
       "    }\n",
       "\n",
       "    .dataframe thead th {\n",
       "        text-align: right;\n",
       "    }\n",
       "</style>\n",
       "<table border=\"1\" class=\"dataframe\">\n",
       "  <thead>\n",
       "    <tr style=\"text-align: right;\">\n",
       "      <th></th>\n",
       "      <th>user_id</th>\n",
       "      <th>product_category</th>\n",
       "    </tr>\n",
       "  </thead>\n",
       "  <tbody>\n",
       "    <tr>\n",
       "      <th>0</th>\n",
       "      <td>1</td>\n",
       "      <td>[5, 5, 2, 5, 2, 18, 5, 5, 18, 2, 2, 2, 2]</td>\n",
       "    </tr>\n",
       "    <tr>\n",
       "      <th>1</th>\n",
       "      <td>2</td>\n",
       "      <td>[2, 2, 2, 2, 2, 18, 2, 18, 2, 18, 2, 18, 2, 18...</td>\n",
       "    </tr>\n",
       "    <tr>\n",
       "      <th>2</th>\n",
       "      <td>3</td>\n",
       "      <td>[17, 17, 2, 17, 2, 18, 18, 2, 2, 2, 18, 12, 2,...</td>\n",
       "    </tr>\n",
       "    <tr>\n",
       "      <th>3</th>\n",
       "      <td>4</td>\n",
       "      <td>[2, 18, 2, 17, 17, 17, 17, 4, 18, 2, 2, 2, 2, ...</td>\n",
       "    </tr>\n",
       "    <tr>\n",
       "      <th>4</th>\n",
       "      <td>5</td>\n",
       "      <td>[5, 8, 2, 2, 18, 2, 5, 18, 18, 2, 18, 2, 5, 5,...</td>\n",
       "    </tr>\n",
       "  </tbody>\n",
       "</table>\n",
       "</div>"
      ],
      "text/plain": [
       "   user_id                                   product_category\n",
       "0        1          [5, 5, 2, 5, 2, 18, 5, 5, 18, 2, 2, 2, 2]\n",
       "1        2  [2, 2, 2, 2, 2, 18, 2, 18, 2, 18, 2, 18, 2, 18...\n",
       "2        3  [17, 17, 2, 17, 2, 18, 18, 2, 2, 2, 18, 12, 2,...\n",
       "3        4  [2, 18, 2, 17, 17, 17, 17, 4, 18, 2, 2, 2, 2, ...\n",
       "4        5  [5, 8, 2, 2, 18, 2, 5, 18, 18, 2, 18, 2, 5, 5,..."
      ]
     },
     "execution_count": 22,
     "metadata": {},
     "output_type": "execute_result"
    }
   ],
   "source": [
    "train_category_seq.head()"
   ]
  },
  {
   "cell_type": "code",
   "execution_count": 26,
   "metadata": {},
   "outputs": [
    {
     "data": {
      "text/html": [
       "<div>\n",
       "<style scoped>\n",
       "    .dataframe tbody tr th:only-of-type {\n",
       "        vertical-align: middle;\n",
       "    }\n",
       "\n",
       "    .dataframe tbody tr th {\n",
       "        vertical-align: top;\n",
       "    }\n",
       "\n",
       "    .dataframe thead th {\n",
       "        text-align: right;\n",
       "    }\n",
       "</style>\n",
       "<table border=\"1\" class=\"dataframe\">\n",
       "  <thead>\n",
       "    <tr style=\"text-align: right;\">\n",
       "      <th></th>\n",
       "      <th>user_id</th>\n",
       "      <th>product_category</th>\n",
       "    </tr>\n",
       "  </thead>\n",
       "  <tbody>\n",
       "    <tr>\n",
       "      <th>0</th>\n",
       "      <td>3000001</td>\n",
       "      <td>[18, 2, 2, 3, 18, 3, 3, 18, 18, 5, 18]</td>\n",
       "    </tr>\n",
       "    <tr>\n",
       "      <th>1</th>\n",
       "      <td>3000002</td>\n",
       "      <td>[2, 18, 2, 2, 2, 2, 2, 2, 2, 2, 8, 2, 5, 8, 2,...</td>\n",
       "    </tr>\n",
       "    <tr>\n",
       "      <th>2</th>\n",
       "      <td>3000003</td>\n",
       "      <td>[2, 2, 18, 2, 5, 18, 18, 2, 2, 5, 18, 18, 2, 1...</td>\n",
       "    </tr>\n",
       "    <tr>\n",
       "      <th>3</th>\n",
       "      <td>3000004</td>\n",
       "      <td>[2, 18, 18, 2, 2, 2, 18, 2, 2, 18, 18, 2, 2, 5...</td>\n",
       "    </tr>\n",
       "    <tr>\n",
       "      <th>4</th>\n",
       "      <td>3000005</td>\n",
       "      <td>[2, 2, 2, 18, 18, 2, 2, 2, 2, 18, 18, 2, 2, 2,...</td>\n",
       "    </tr>\n",
       "  </tbody>\n",
       "</table>\n",
       "</div>"
      ],
      "text/plain": [
       "   user_id                                   product_category\n",
       "0  3000001             [18, 2, 2, 3, 18, 3, 3, 18, 18, 5, 18]\n",
       "1  3000002  [2, 18, 2, 2, 2, 2, 2, 2, 2, 2, 8, 2, 5, 8, 2,...\n",
       "2  3000003  [2, 2, 18, 2, 5, 18, 18, 2, 2, 5, 18, 18, 2, 1...\n",
       "3  3000004  [2, 18, 18, 2, 2, 2, 18, 2, 2, 18, 18, 2, 2, 5...\n",
       "4  3000005  [2, 2, 2, 18, 18, 2, 2, 2, 2, 18, 18, 2, 2, 2,..."
      ]
     },
     "execution_count": 26,
     "metadata": {},
     "output_type": "execute_result"
    }
   ],
   "source": [
    "test_category_seq.head()"
   ]
  },
  {
   "cell_type": "code",
   "execution_count": 29,
   "metadata": {},
   "outputs": [],
   "source": [
    "train_category_seq.to_csv('/DATA/zhouyongyu/taac/train_category_seq.csv',index=0)\n",
    "test_category_seq.to_csv('/DATA/zhouyongyu/taac/test_category_seq.csv',index=0)"
   ]
  },
  {
   "cell_type": "markdown",
   "metadata": {},
   "source": [
    "# 生成各种dict"
   ]
  },
  {
   "cell_type": "markdown",
   "metadata": {},
   "source": [
    "## creative_id"
   ]
  },
  {
   "cell_type": "code",
   "execution_count": 76,
   "metadata": {},
   "outputs": [],
   "source": [
    "import pickle\n",
    "fp = open(\"item_dict.txt\", \"rb+\")\n",
    "creative_dict = pickle.load(fp)"
   ]
  },
  {
   "cell_type": "markdown",
   "metadata": {},
   "source": [
    "## click_times"
   ]
  },
  {
   "cell_type": "code",
   "execution_count": 21,
   "metadata": {},
   "outputs": [
    {
     "name": "stderr",
     "output_type": "stream",
     "text": [
      "900000it [01:53, 7940.84it/s]\n"
     ]
    }
   ],
   "source": [
    "from tqdm import tqdm\n",
    "\n",
    "times_count = 1\n",
    "times_dict = dict()\n",
    "times_dict[-1] = 0\n",
    "for index, row in tqdm(train_times_seq.iterrows()):\n",
    "    times_seq = row['click_times']\n",
    "    if len(times_seq) >= 89:\n",
    "        times_seq = times_seq[-89:]\n",
    "    for times in times_seq:\n",
    "        if times not in times_dict:\n",
    "            times_dict[times] = times_count\n",
    "            times_count += 1"
   ]
  },
  {
   "cell_type": "code",
   "execution_count": 22,
   "metadata": {},
   "outputs": [
    {
     "name": "stderr",
     "output_type": "stream",
     "text": [
      "1000000it [02:02, 8153.68it/s]\n"
     ]
    }
   ],
   "source": [
    "for index, row in tqdm(test_times_seq.iterrows()):\n",
    "    times_seq = row['click_times']\n",
    "    if len(times_seq) >= 89:\n",
    "        times_seq = times_seq[-89:]\n",
    "    for times in times_seq:\n",
    "        if times not in times_dict:\n",
    "            times_dict[times] = times_count\n",
    "            times_count += 1"
   ]
  },
  {
   "cell_type": "code",
   "execution_count": 23,
   "metadata": {},
   "outputs": [],
   "source": [
    "import pickle\n",
    "\n",
    "pickle.dump(times_dict, open('/DATA/zhouyongyu/taac/times_dict.txt', 'wb'))"
   ]
  },
  {
   "cell_type": "code",
   "execution_count": null,
   "metadata": {},
   "outputs": [],
   "source": []
  },
  {
   "cell_type": "markdown",
   "metadata": {},
   "source": [
    "## product_id"
   ]
  },
  {
   "cell_type": "code",
   "execution_count": 24,
   "metadata": {},
   "outputs": [
    {
     "name": "stderr",
     "output_type": "stream",
     "text": [
      "900000it [01:52, 8020.90it/s]\n"
     ]
    }
   ],
   "source": [
    "from tqdm import tqdm\n",
    "\n",
    "product_count = 1\n",
    "product_dict = dict()\n",
    "product_dict[-1] = 0\n",
    "for index, row in tqdm(train_product_seq.iterrows()):\n",
    "    product_seq = row['product_id']\n",
    "    if len(product_seq) >= 89:\n",
    "        product_seq = product_seq[-89:]\n",
    "    for product in product_seq:\n",
    "        if product not in product_dict:\n",
    "            product_dict[product] = product_count\n",
    "            product_count += 1"
   ]
  },
  {
   "cell_type": "code",
   "execution_count": 25,
   "metadata": {},
   "outputs": [
    {
     "name": "stderr",
     "output_type": "stream",
     "text": [
      "1000000it [02:05, 7978.50it/s]\n"
     ]
    }
   ],
   "source": [
    "for index, row in tqdm(test_product_seq.iterrows()):\n",
    "    product_seq = row['product_id']\n",
    "    if len(product_seq) >= 89:\n",
    "        product_seq = product_seq[-89:]\n",
    "    for product in product_seq:\n",
    "        if product not in product_dict:\n",
    "            product_dict[product] = product_count\n",
    "            product_count += 1"
   ]
  },
  {
   "cell_type": "code",
   "execution_count": 26,
   "metadata": {},
   "outputs": [],
   "source": [
    "import pickle\n",
    "\n",
    "pickle.dump(product_dict, open('/DATA/zhouyongyu/taac/product_dict.txt', 'wb'))"
   ]
  },
  {
   "cell_type": "code",
   "execution_count": null,
   "metadata": {},
   "outputs": [],
   "source": []
  },
  {
   "cell_type": "markdown",
   "metadata": {},
   "source": [
    "## ad_id"
   ]
  },
  {
   "cell_type": "code",
   "execution_count": 32,
   "metadata": {},
   "outputs": [
    {
     "name": "stderr",
     "output_type": "stream",
     "text": [
      "900000it [02:14, 6684.71it/s]\n"
     ]
    }
   ],
   "source": [
    "from tqdm import tqdm\n",
    "\n",
    "ad_count = 1\n",
    "ad_dict = dict()\n",
    "ad_dict[-1] = 0\n",
    "for index, row in tqdm(train_ad_seq.iterrows()):\n",
    "    ad_seq = row['ad_id']\n",
    "    if len(ad_seq) >= 89:\n",
    "        ad_seq = ad_seq[-89:]\n",
    "    for ad in ad_seq:\n",
    "        if ad not in ad_dict:\n",
    "            ad_dict[ad] = ad_count\n",
    "            ad_count += 1"
   ]
  },
  {
   "cell_type": "code",
   "execution_count": 33,
   "metadata": {},
   "outputs": [
    {
     "name": "stderr",
     "output_type": "stream",
     "text": [
      "1000000it [02:28, 6720.17it/s]\n"
     ]
    }
   ],
   "source": [
    "for index, row in tqdm(test_ad_seq.iterrows()):\n",
    "    ad_seq = row['ad_id']\n",
    "    if len(ad_seq) >= 89:\n",
    "        ad_seq = ad_seq[-89:]\n",
    "    for ad in ad_seq:\n",
    "        if ad not in ad_dict:\n",
    "            ad_dict[ad] = ad_count\n",
    "            ad_count += 1"
   ]
  },
  {
   "cell_type": "code",
   "execution_count": 56,
   "metadata": {},
   "outputs": [],
   "source": [
    "import pickle\n",
    "\n",
    "pickle.dump(ad_dict, open('/DATA/zhouyongyu/taac/ad_dict.txt', 'wb'))"
   ]
  },
  {
   "cell_type": "code",
   "execution_count": null,
   "metadata": {},
   "outputs": [],
   "source": []
  },
  {
   "cell_type": "markdown",
   "metadata": {},
   "source": [
    "## advertiser_id"
   ]
  },
  {
   "cell_type": "code",
   "execution_count": 34,
   "metadata": {},
   "outputs": [
    {
     "name": "stderr",
     "output_type": "stream",
     "text": [
      "900000it [02:05, 7180.21it/s]\n"
     ]
    }
   ],
   "source": [
    "from tqdm import tqdm\n",
    "\n",
    "advertiser_count = 1\n",
    "advertiser_dict = dict()\n",
    "advertiser_dict[-1] = 0\n",
    "for index, row in tqdm(train_advertiser_seq.iterrows()):\n",
    "    advertiser_seq = row['advertiser_id']\n",
    "    if len(advertiser_seq) >= 89:\n",
    "        advertiser_seq = advertiser_seq[-89:]\n",
    "    for advertiser in advertiser_seq:\n",
    "        if advertiser not in advertiser_dict:\n",
    "            advertiser_dict[advertiser] = advertiser_count\n",
    "            advertiser_count += 1"
   ]
  },
  {
   "cell_type": "code",
   "execution_count": 35,
   "metadata": {},
   "outputs": [
    {
     "name": "stderr",
     "output_type": "stream",
     "text": [
      "1000000it [02:19, 7154.55it/s]\n"
     ]
    }
   ],
   "source": [
    "for index, row in tqdm(test_advertiser_seq.iterrows()):\n",
    "    advertiser_seq = row['advertiser_id']\n",
    "    if len(advertiser_seq) >= 89:\n",
    "        advertiser_seq = advertiser_seq[-89:]\n",
    "    for advertiser in advertiser_seq:\n",
    "        if advertiser not in advertiser_dict:\n",
    "            advertiser_dict[advertiser] = advertiser_count\n",
    "            advertiser_count += 1"
   ]
  },
  {
   "cell_type": "code",
   "execution_count": 57,
   "metadata": {},
   "outputs": [],
   "source": [
    "import pickle\n",
    "\n",
    "pickle.dump(advertiser_dict, open('/DATA/zhouyongyu/taac/advertiser_dict.txt', 'wb'))"
   ]
  },
  {
   "cell_type": "code",
   "execution_count": null,
   "metadata": {},
   "outputs": [],
   "source": []
  },
  {
   "cell_type": "markdown",
   "metadata": {},
   "source": [
    "## industry"
   ]
  },
  {
   "cell_type": "code",
   "execution_count": 27,
   "metadata": {},
   "outputs": [],
   "source": [
    "train_industry_seq = pd.read_csv('/DATA/zhouyongyu/taac/train_industry_seq.csv')\n",
    "test_industry_seq = pd.read_csv('/DATA/zhouyongyu/taac/test_industry_seq.csv')"
   ]
  },
  {
   "cell_type": "code",
   "execution_count": 33,
   "metadata": {},
   "outputs": [
    {
     "name": "stderr",
     "output_type": "stream",
     "text": [
      "900000it [02:58, 5049.10it/s]\n"
     ]
    }
   ],
   "source": [
    "from tqdm import tqdm\n",
    "from ast import literal_eval\n",
    "\n",
    "industry_count = 1\n",
    "industry_dict = dict()\n",
    "industry_dict[-1] = 0\n",
    "for index, row in tqdm(train_industry_seq.iterrows()):\n",
    "    industry_seq = row['industry']\n",
    "    industry_seq = literal_eval(industry_seq)\n",
    "    if len(industry_seq) >= 89:\n",
    "        industry_seq = industry_seq[-89:]\n",
    "    for industry in industry_seq:\n",
    "        if industry not in industry_dict:\n",
    "            industry_dict[industry] = industry_count\n",
    "            industry_count += 1"
   ]
  },
  {
   "cell_type": "code",
   "execution_count": 34,
   "metadata": {},
   "outputs": [
    {
     "name": "stderr",
     "output_type": "stream",
     "text": [
      "1000000it [03:18, 5036.64it/s]\n"
     ]
    }
   ],
   "source": [
    "for index, row in tqdm(test_industry_seq.iterrows()):\n",
    "    industry_seq = row['industry']\n",
    "    industry_seq = literal_eval(industry_seq)\n",
    "    if len(industry_seq) >= 89:\n",
    "        industry_seq = industry_seq[-89:]\n",
    "    for industry in industry_seq:\n",
    "        if industry not in industry_dict:\n",
    "            industry_dict[industry] = industry_count\n",
    "            industry_count += 1"
   ]
  },
  {
   "cell_type": "code",
   "execution_count": 35,
   "metadata": {
    "collapsed": true
   },
   "outputs": [
    {
     "name": "stdout",
     "output_type": "stream",
     "text": [
      "{-1: 0, '106': 1, '326': 2, '6': 3, '\\\\N': 4, '73': 5, '217': 6, '64': 7, '245': 8, '238': 9, '318': 10, '317': 11, '47': 12, '242': 13, '5': 14, '36': 15, '319': 16, '322': 17, '289': 18, '21': 19, '207': 20, '250': 21, '328': 22, '54': 23, '205': 24, '302': 25, '247': 26, '25': 27, '248': 28, '88': 29, '295': 30, '297': 31, '288': 32, '203': 33, '220': 34, '296': 35, '109': 36, '28': 37, '8': 38, '183': 39, '9': 40, '13': 41, '293': 42, '60': 43, '221': 44, '1': 45, '241': 46, '86': 47, '230': 48, '246': 49, '134': 50, '192': 51, '292': 52, '202': 53, '329': 54, '158': 55, '231': 56, '291': 57, '26': 58, '29': 59, '149': 60, '74': 61, '24': 62, '253': 63, '259': 64, '147': 65, '232': 66, '3': 67, '294': 68, '82': 69, '104': 70, '159': 71, '58': 72, '89': 73, '116': 74, '108': 75, '215': 76, '234': 77, '99': 78, '271': 79, '40': 80, '161': 81, '261': 82, '320': 83, '125': 84, '254': 85, '27': 86, '200': 87, '179': 88, '236': 89, '2': 90, '233': 91, '57': 92, '107': 93, '61': 94, '300': 95, '35': 96, '87': 97, '167': 98, '133': 99, '235': 100, '252': 101, '188': 102, '4': 103, '277': 104, '216': 105, '171': 106, '124': 107, '168': 108, '219': 109, '201': 110, '240': 111, '34': 112, '249': 113, '175': 114, '173': 115, '321': 116, '23': 117, '174': 118, '164': 119, '172': 120, '113': 121, '176': 122, '148': 123, '333': 124, '154': 125, '209': 126, '155': 127, '262': 128, '311': 129, '204': 130, '165': 131, '72': 132, '222': 133, '218': 134, '223': 135, '260': 136, '138': 137, '130': 138, '257': 139, '256': 140, '334': 141, '298': 142, '85': 143, '81': 144, '182': 145, '111': 146, '126': 147, '255': 148, '45': 149, '53': 150, '323': 151, '112': 152, '55': 153, '46': 154, '206': 155, '327': 156, '258': 157, '12': 158, '306': 159, '129': 160, '146': 161, '144': 162, '251': 163, '121': 164, '32': 165, '195': 166, '98': 167, '137': 168, '290': 169, '84': 170, '227': 171, '135': 172, '186': 173, '313': 174, '157': 175, '162': 176, '303': 177, '145': 178, '301': 179, '31': 180, '75': 181, '11': 182, '312': 183, '105': 184, '305': 185, '335': 186, '299': 187, '18': 188, '237': 189, '136': 190, '229': 191, '314': 192, '120': 193, '263': 194, '275': 195, '228': 196, '330': 197, '16': 198, '315': 199, '214': 200, '141': 201, '286': 202, '19': 203, '62': 204, '281': 205, '226': 206, '118': 207, '163': 208, '100': 209, '307': 210, '63': 211, '316': 212, '65': 213, '139': 214, '128': 215, '278': 216, '22': 217, '177': 218, '304': 219, '310': 220, '270': 221, '187': 222, '151': 223, '30': 224, '66': 225, '210': 226, '225': 227, '119': 228, '224': 229, '267': 230, '332': 231, '90': 232, '208': 233, '170': 234, '69': 235, '14': 236, '308': 237, '331': 238, '123': 239, '280': 240, '115': 241, '166': 242, '51': 243, '156': 244, '127': 245, '20': 246, '110': 247, '44': 248, '50': 249, '140': 250, '285': 251, '193': 252, '211': 253, '324': 254, '309': 255, '76': 256, '41': 257, '56': 258, '185': 259, '17': 260, '93': 261, '49': 262, '272': 263, '67': 264, '197': 265, '264': 266, '97': 267, '15': 268, '48': 269, '103': 270, '244': 271, '287': 272, '178': 273, '38': 274, '39': 275, '279': 276, '265': 277, '79': 278, '150': 279, '212': 280, '169': 281, '239': 282, '83': 283, '196': 284, '243': 285, '181': 286, '132': 287, '190': 288, '284': 289, '71': 290, '68': 291, '33': 292, '282': 293, '194': 294, '160': 295, '10': 296, '52': 297, '131': 298, '191': 299, '276': 300, '101': 301, '122': 302, '273': 303, '94': 304, '184': 305, '143': 306, '114': 307, '102': 308, '325': 309, '117': 310, '37': 311, '96': 312, '180': 313, '70': 314, '269': 315, '283': 316, '213': 317, '42': 318, '92': 319, '142': 320, '78': 321, '274': 322, '152': 323, '266': 324, '59': 325, '268': 326, '95': 327, '91': 328, '7': 329, '198': 330, '199': 331, '153': 332}\n"
     ]
    }
   ],
   "source": [
    "print(industry_dict)"
   ]
  },
  {
   "cell_type": "code",
   "execution_count": 36,
   "metadata": {},
   "outputs": [],
   "source": [
    "import pickle\n",
    "\n",
    "pickle.dump(industry_dict, open('/DATA/zhouyongyu/taac/industry_dict.txt', 'wb'))"
   ]
  },
  {
   "cell_type": "code",
   "execution_count": null,
   "metadata": {},
   "outputs": [],
   "source": []
  },
  {
   "cell_type": "markdown",
   "metadata": {},
   "source": [
    "## product_category"
   ]
  },
  {
   "cell_type": "code",
   "execution_count": 41,
   "metadata": {},
   "outputs": [
    {
     "name": "stderr",
     "output_type": "stream",
     "text": [
      "900000it [02:03, 7290.22it/s]\n"
     ]
    }
   ],
   "source": [
    "from tqdm import tqdm\n",
    "\n",
    "category_count = 1\n",
    "category_dict = dict()\n",
    "category_dict[-1] = 0\n",
    "for index, row in tqdm(train_category_seq.iterrows()):\n",
    "    category_seq = row['product_category']\n",
    "    if len(category_seq) >= 89:\n",
    "        category_seq = category_seq[-89:]\n",
    "    for category in category_seq:\n",
    "        if category not in category_dict:\n",
    "            category_dict[category] = category_count\n",
    "            category_count += 1"
   ]
  },
  {
   "cell_type": "code",
   "execution_count": 42,
   "metadata": {},
   "outputs": [
    {
     "name": "stderr",
     "output_type": "stream",
     "text": [
      "1000000it [02:16, 7309.53it/s]\n"
     ]
    }
   ],
   "source": [
    "for index, row in tqdm(test_category_seq.iterrows()):\n",
    "    category_seq = row['product_category']\n",
    "    if len(category_seq) >= 89:\n",
    "        category_seq = category_seq[-89:]\n",
    "    for category in category_seq:\n",
    "        if category not in category_dict:\n",
    "            category_dict[category] = category_count\n",
    "            category_count += 1"
   ]
  },
  {
   "cell_type": "code",
   "execution_count": 54,
   "metadata": {},
   "outputs": [
    {
     "name": "stdout",
     "output_type": "stream",
     "text": [
      "{-1: 0, 5: 1, 2: 2, 18: 3, 8: 4, 17: 5, 12: 6, 4: 7, 7: 8, 3: 9, 13: 10, 16: 11, 9: 12, 6: 13, 1: 14, 11: 15, 15: 16, 14: 17, 10: 18}\n"
     ]
    }
   ],
   "source": [
    "print(category_dict)"
   ]
  },
  {
   "cell_type": "code",
   "execution_count": 58,
   "metadata": {},
   "outputs": [],
   "source": [
    "import pickle\n",
    "\n",
    "pickle.dump(category_dict, open('/DATA/zhouyongyu/taac/category_dict.txt', 'wb'))"
   ]
  },
  {
   "cell_type": "markdown",
   "metadata": {},
   "source": [
    "# 划分训练集和测试集"
   ]
  },
  {
   "cell_type": "code",
   "execution_count": 37,
   "metadata": {},
   "outputs": [],
   "source": [
    "import pandas as pd\n",
    "\n",
    "user_df = pd.read_csv('/DATA/zhouyongyu/taac/dataset/train_preliminary/user.csv')\n",
    "\n",
    "train_creative_seq = pd.read_csv('/DATA/zhouyongyu/taac/user_creative_seq.csv')\n",
    "train_ad_seq = pd.read_csv('/DATA/zhouyongyu/taac/train_ad_seq.csv')\n",
    "train_advertiser_seq = pd.read_csv('/DATA/zhouyongyu/taac/train_advertiser_seq.csv')\n",
    "train_times_seq = pd.read_csv('/DATA/zhouyongyu/taac/train_times_seq.csv')\n",
    "train_product_seq = pd.read_csv('/DATA/zhouyongyu/taac/train_product_seq.csv')\n",
    "train_category_seq = pd.read_csv('/DATA/zhouyongyu/taac/train_category_seq.csv')\n",
    "train_industry_seq = pd.read_csv('/DATA/zhouyongyu/taac/train_industry_seq.csv')"
   ]
  },
  {
   "cell_type": "code",
   "execution_count": 40,
   "metadata": {},
   "outputs": [],
   "source": [
    "merge_df = pd.merge(train_creative_seq, train_ad_seq, how='left', on=['user_id'])\n",
    "merge_df = pd.merge(merge_df, train_advertiser_seq, how='left', on=['user_id'])\n",
    "merge_df = pd.merge(merge_df, train_times_seq, how='left', on=['user_id'])\n",
    "merge_df = pd.merge(merge_df, train_product_seq, how='left', on=['user_id'])\n",
    "merge_df = pd.merge(merge_df, train_category_seq, how='left', on=['user_id'])\n",
    "merge_df = pd.merge(merge_df, train_industry_seq, how='left', on=['user_id'])"
   ]
  },
  {
   "cell_type": "code",
   "execution_count": 41,
   "metadata": {},
   "outputs": [
    {
     "data": {
      "text/html": [
       "<div>\n",
       "<style scoped>\n",
       "    .dataframe tbody tr th:only-of-type {\n",
       "        vertical-align: middle;\n",
       "    }\n",
       "\n",
       "    .dataframe tbody tr th {\n",
       "        vertical-align: top;\n",
       "    }\n",
       "\n",
       "    .dataframe thead th {\n",
       "        text-align: right;\n",
       "    }\n",
       "</style>\n",
       "<table border=\"1\" class=\"dataframe\">\n",
       "  <thead>\n",
       "    <tr style=\"text-align: right;\">\n",
       "      <th></th>\n",
       "      <th>user_id</th>\n",
       "      <th>creative_id</th>\n",
       "      <th>ad_id</th>\n",
       "      <th>advertiser_id</th>\n",
       "      <th>click_times</th>\n",
       "      <th>product_id</th>\n",
       "      <th>product_category</th>\n",
       "      <th>industry</th>\n",
       "    </tr>\n",
       "  </thead>\n",
       "  <tbody>\n",
       "    <tr>\n",
       "      <th>0</th>\n",
       "      <td>1</td>\n",
       "      <td>[877468, 821396, 209778, 1683713, 122032, 7169...</td>\n",
       "      <td>[773445, 724607, 188507, 1458878, 109959, 6621...</td>\n",
       "      <td>[29455, 7293, 9702, 14668, 11411, 14681, 17189...</td>\n",
       "      <td>[1, 1, 1, 1, 1, 1, 1, 1, 1, 1, 1, 1, 2]</td>\n",
       "      <td>['\\\\N', '\\\\N', '136', '\\\\N', '1334', '\\\\N', '\\...</td>\n",
       "      <td>[5, 5, 2, 5, 2, 18, 5, 5, 18, 2, 2, 2, 2]</td>\n",
       "      <td>['106', '326', '6', '326', '\\\\N', '326', '73',...</td>\n",
       "    </tr>\n",
       "    <tr>\n",
       "      <th>1</th>\n",
       "      <td>2</td>\n",
       "      <td>[63441, 155822, 39714, 609050, 13069, 1266180,...</td>\n",
       "      <td>[58788, 139702, 38066, 541125, 14495, 1107111,...</td>\n",
       "      <td>[22885, 10686, 18562, 25932, 768, 34505, 22885...</td>\n",
       "      <td>[1, 1, 1, 1, 1, 1, 1, 1, 1, 1, 1, 1, 1, 1, 1, ...</td>\n",
       "      <td>['87', '80', '129', '129', '1400', '\\\\N', '87'...</td>\n",
       "      <td>[2, 2, 2, 2, 2, 18, 2, 18, 2, 18, 2, 18, 2, 18...</td>\n",
       "      <td>['318', '238', '6', '6', '317', '47', '318', '...</td>\n",
       "    </tr>\n",
       "    <tr>\n",
       "      <th>2</th>\n",
       "      <td>3</td>\n",
       "      <td>[661347, 808612, 710859, 825434, 593522, 72694...</td>\n",
       "      <td>[586668, 713448, 629278, 728308, 527601, 64310...</td>\n",
       "      <td>[32974, 9877, 18492, 14186, 17018, 9058, 8371,...</td>\n",
       "      <td>[1, 1, 1, 1, 1, 1, 1, 1, 1, 1, 1, 1, 1, 1, 1, ...</td>\n",
       "      <td>['36256', '40905', '1674', '35985', '1674', '\\...</td>\n",
       "      <td>[17, 17, 2, 17, 2, 18, 18, 2, 2, 2, 18, 12, 2,...</td>\n",
       "      <td>['\\\\N', '\\\\N', '322', '\\\\N', '322', '6', '54',...</td>\n",
       "    </tr>\n",
       "    <tr>\n",
       "      <th>3</th>\n",
       "      <td>4</td>\n",
       "      <td>[39588, 589886, 574787, 1892854, 31070, 196270...</td>\n",
       "      <td>[37966, 524312, 511235, 1638619, 30773, 169820...</td>\n",
       "      <td>[19451, 7976, 13084, 12130, 13299, 23664, 1017...</td>\n",
       "      <td>[1, 1, 1, 1, 1, 1, 1, 1, 1, 1, 1, 1, 1, 1, 1, ...</td>\n",
       "      <td>['1862', '\\\\N', '2625', '38743', '39422', '412...</td>\n",
       "      <td>[2, 18, 2, 17, 17, 17, 17, 4, 18, 2, 2, 2, 2, ...</td>\n",
       "      <td>['238', '25', '248', '\\\\N', '\\\\N', '\\\\N', '\\\\N...</td>\n",
       "    </tr>\n",
       "    <tr>\n",
       "      <th>4</th>\n",
       "      <td>5</td>\n",
       "      <td>[296145, 350759, 24333, 43235, 852327, 1054434...</td>\n",
       "      <td>[265971, 314795, 24966, 41148, 751113, 925792,...</td>\n",
       "      <td>[11882, 992, 22885, 9706, 38760, 2862, 17745, ...</td>\n",
       "      <td>[1, 1, 1, 1, 1, 2, 1, 1, 1, 1, 1, 1, 1, 1, 1, ...</td>\n",
       "      <td>['\\\\N', '\\\\N', '87', '136', '\\\\N', '136', '\\\\N...</td>\n",
       "      <td>[5, 8, 2, 2, 18, 2, 5, 18, 18, 2, 18, 2, 5, 5,...</td>\n",
       "      <td>['297', '\\\\N', '318', '6', '322', '6', '288', ...</td>\n",
       "    </tr>\n",
       "  </tbody>\n",
       "</table>\n",
       "</div>"
      ],
      "text/plain": [
       "   user_id                                        creative_id  \\\n",
       "0        1  [877468, 821396, 209778, 1683713, 122032, 7169...   \n",
       "1        2  [63441, 155822, 39714, 609050, 13069, 1266180,...   \n",
       "2        3  [661347, 808612, 710859, 825434, 593522, 72694...   \n",
       "3        4  [39588, 589886, 574787, 1892854, 31070, 196270...   \n",
       "4        5  [296145, 350759, 24333, 43235, 852327, 1054434...   \n",
       "\n",
       "                                               ad_id  \\\n",
       "0  [773445, 724607, 188507, 1458878, 109959, 6621...   \n",
       "1  [58788, 139702, 38066, 541125, 14495, 1107111,...   \n",
       "2  [586668, 713448, 629278, 728308, 527601, 64310...   \n",
       "3  [37966, 524312, 511235, 1638619, 30773, 169820...   \n",
       "4  [265971, 314795, 24966, 41148, 751113, 925792,...   \n",
       "\n",
       "                                       advertiser_id  \\\n",
       "0  [29455, 7293, 9702, 14668, 11411, 14681, 17189...   \n",
       "1  [22885, 10686, 18562, 25932, 768, 34505, 22885...   \n",
       "2  [32974, 9877, 18492, 14186, 17018, 9058, 8371,...   \n",
       "3  [19451, 7976, 13084, 12130, 13299, 23664, 1017...   \n",
       "4  [11882, 992, 22885, 9706, 38760, 2862, 17745, ...   \n",
       "\n",
       "                                         click_times  \\\n",
       "0            [1, 1, 1, 1, 1, 1, 1, 1, 1, 1, 1, 1, 2]   \n",
       "1  [1, 1, 1, 1, 1, 1, 1, 1, 1, 1, 1, 1, 1, 1, 1, ...   \n",
       "2  [1, 1, 1, 1, 1, 1, 1, 1, 1, 1, 1, 1, 1, 1, 1, ...   \n",
       "3  [1, 1, 1, 1, 1, 1, 1, 1, 1, 1, 1, 1, 1, 1, 1, ...   \n",
       "4  [1, 1, 1, 1, 1, 2, 1, 1, 1, 1, 1, 1, 1, 1, 1, ...   \n",
       "\n",
       "                                          product_id  \\\n",
       "0  ['\\\\N', '\\\\N', '136', '\\\\N', '1334', '\\\\N', '\\...   \n",
       "1  ['87', '80', '129', '129', '1400', '\\\\N', '87'...   \n",
       "2  ['36256', '40905', '1674', '35985', '1674', '\\...   \n",
       "3  ['1862', '\\\\N', '2625', '38743', '39422', '412...   \n",
       "4  ['\\\\N', '\\\\N', '87', '136', '\\\\N', '136', '\\\\N...   \n",
       "\n",
       "                                    product_category  \\\n",
       "0          [5, 5, 2, 5, 2, 18, 5, 5, 18, 2, 2, 2, 2]   \n",
       "1  [2, 2, 2, 2, 2, 18, 2, 18, 2, 18, 2, 18, 2, 18...   \n",
       "2  [17, 17, 2, 17, 2, 18, 18, 2, 2, 2, 18, 12, 2,...   \n",
       "3  [2, 18, 2, 17, 17, 17, 17, 4, 18, 2, 2, 2, 2, ...   \n",
       "4  [5, 8, 2, 2, 18, 2, 5, 18, 18, 2, 18, 2, 5, 5,...   \n",
       "\n",
       "                                            industry  \n",
       "0  ['106', '326', '6', '326', '\\\\N', '326', '73',...  \n",
       "1  ['318', '238', '6', '6', '317', '47', '318', '...  \n",
       "2  ['\\\\N', '\\\\N', '322', '\\\\N', '322', '6', '54',...  \n",
       "3  ['238', '25', '248', '\\\\N', '\\\\N', '\\\\N', '\\\\N...  \n",
       "4  ['297', '\\\\N', '318', '6', '322', '6', '288', ...  "
      ]
     },
     "execution_count": 41,
     "metadata": {},
     "output_type": "execute_result"
    }
   ],
   "source": [
    "merge_df.head()"
   ]
  },
  {
   "cell_type": "code",
   "execution_count": 42,
   "metadata": {},
   "outputs": [],
   "source": [
    "merge_df = pd.merge(merge_df, user_df, how='left', on=['user_id'])"
   ]
  },
  {
   "cell_type": "code",
   "execution_count": 43,
   "metadata": {},
   "outputs": [
    {
     "data": {
      "text/html": [
       "<div>\n",
       "<style scoped>\n",
       "    .dataframe tbody tr th:only-of-type {\n",
       "        vertical-align: middle;\n",
       "    }\n",
       "\n",
       "    .dataframe tbody tr th {\n",
       "        vertical-align: top;\n",
       "    }\n",
       "\n",
       "    .dataframe thead th {\n",
       "        text-align: right;\n",
       "    }\n",
       "</style>\n",
       "<table border=\"1\" class=\"dataframe\">\n",
       "  <thead>\n",
       "    <tr style=\"text-align: right;\">\n",
       "      <th></th>\n",
       "      <th>user_id</th>\n",
       "      <th>creative_id</th>\n",
       "      <th>ad_id</th>\n",
       "      <th>advertiser_id</th>\n",
       "      <th>click_times</th>\n",
       "      <th>product_id</th>\n",
       "      <th>product_category</th>\n",
       "      <th>industry</th>\n",
       "      <th>age</th>\n",
       "      <th>gender</th>\n",
       "    </tr>\n",
       "  </thead>\n",
       "  <tbody>\n",
       "    <tr>\n",
       "      <th>0</th>\n",
       "      <td>1</td>\n",
       "      <td>[877468, 821396, 209778, 1683713, 122032, 7169...</td>\n",
       "      <td>[773445, 724607, 188507, 1458878, 109959, 6621...</td>\n",
       "      <td>[29455, 7293, 9702, 14668, 11411, 14681, 17189...</td>\n",
       "      <td>[1, 1, 1, 1, 1, 1, 1, 1, 1, 1, 1, 1, 2]</td>\n",
       "      <td>['\\\\N', '\\\\N', '136', '\\\\N', '1334', '\\\\N', '\\...</td>\n",
       "      <td>[5, 5, 2, 5, 2, 18, 5, 5, 18, 2, 2, 2, 2]</td>\n",
       "      <td>['106', '326', '6', '326', '\\\\N', '326', '73',...</td>\n",
       "      <td>4</td>\n",
       "      <td>1</td>\n",
       "    </tr>\n",
       "    <tr>\n",
       "      <th>1</th>\n",
       "      <td>2</td>\n",
       "      <td>[63441, 155822, 39714, 609050, 13069, 1266180,...</td>\n",
       "      <td>[58788, 139702, 38066, 541125, 14495, 1107111,...</td>\n",
       "      <td>[22885, 10686, 18562, 25932, 768, 34505, 22885...</td>\n",
       "      <td>[1, 1, 1, 1, 1, 1, 1, 1, 1, 1, 1, 1, 1, 1, 1, ...</td>\n",
       "      <td>['87', '80', '129', '129', '1400', '\\\\N', '87'...</td>\n",
       "      <td>[2, 2, 2, 2, 2, 18, 2, 18, 2, 18, 2, 18, 2, 18...</td>\n",
       "      <td>['318', '238', '6', '6', '317', '47', '318', '...</td>\n",
       "      <td>10</td>\n",
       "      <td>1</td>\n",
       "    </tr>\n",
       "    <tr>\n",
       "      <th>2</th>\n",
       "      <td>3</td>\n",
       "      <td>[661347, 808612, 710859, 825434, 593522, 72694...</td>\n",
       "      <td>[586668, 713448, 629278, 728308, 527601, 64310...</td>\n",
       "      <td>[32974, 9877, 18492, 14186, 17018, 9058, 8371,...</td>\n",
       "      <td>[1, 1, 1, 1, 1, 1, 1, 1, 1, 1, 1, 1, 1, 1, 1, ...</td>\n",
       "      <td>['36256', '40905', '1674', '35985', '1674', '\\...</td>\n",
       "      <td>[17, 17, 2, 17, 2, 18, 18, 2, 2, 2, 18, 12, 2,...</td>\n",
       "      <td>['\\\\N', '\\\\N', '322', '\\\\N', '322', '6', '54',...</td>\n",
       "      <td>7</td>\n",
       "      <td>2</td>\n",
       "    </tr>\n",
       "    <tr>\n",
       "      <th>3</th>\n",
       "      <td>4</td>\n",
       "      <td>[39588, 589886, 574787, 1892854, 31070, 196270...</td>\n",
       "      <td>[37966, 524312, 511235, 1638619, 30773, 169820...</td>\n",
       "      <td>[19451, 7976, 13084, 12130, 13299, 23664, 1017...</td>\n",
       "      <td>[1, 1, 1, 1, 1, 1, 1, 1, 1, 1, 1, 1, 1, 1, 1, ...</td>\n",
       "      <td>['1862', '\\\\N', '2625', '38743', '39422', '412...</td>\n",
       "      <td>[2, 18, 2, 17, 17, 17, 17, 4, 18, 2, 2, 2, 2, ...</td>\n",
       "      <td>['238', '25', '248', '\\\\N', '\\\\N', '\\\\N', '\\\\N...</td>\n",
       "      <td>5</td>\n",
       "      <td>1</td>\n",
       "    </tr>\n",
       "    <tr>\n",
       "      <th>4</th>\n",
       "      <td>5</td>\n",
       "      <td>[296145, 350759, 24333, 43235, 852327, 1054434...</td>\n",
       "      <td>[265971, 314795, 24966, 41148, 751113, 925792,...</td>\n",
       "      <td>[11882, 992, 22885, 9706, 38760, 2862, 17745, ...</td>\n",
       "      <td>[1, 1, 1, 1, 1, 2, 1, 1, 1, 1, 1, 1, 1, 1, 1, ...</td>\n",
       "      <td>['\\\\N', '\\\\N', '87', '136', '\\\\N', '136', '\\\\N...</td>\n",
       "      <td>[5, 8, 2, 2, 18, 2, 5, 18, 18, 2, 18, 2, 5, 5,...</td>\n",
       "      <td>['297', '\\\\N', '318', '6', '322', '6', '288', ...</td>\n",
       "      <td>4</td>\n",
       "      <td>1</td>\n",
       "    </tr>\n",
       "  </tbody>\n",
       "</table>\n",
       "</div>"
      ],
      "text/plain": [
       "   user_id                                        creative_id  \\\n",
       "0        1  [877468, 821396, 209778, 1683713, 122032, 7169...   \n",
       "1        2  [63441, 155822, 39714, 609050, 13069, 1266180,...   \n",
       "2        3  [661347, 808612, 710859, 825434, 593522, 72694...   \n",
       "3        4  [39588, 589886, 574787, 1892854, 31070, 196270...   \n",
       "4        5  [296145, 350759, 24333, 43235, 852327, 1054434...   \n",
       "\n",
       "                                               ad_id  \\\n",
       "0  [773445, 724607, 188507, 1458878, 109959, 6621...   \n",
       "1  [58788, 139702, 38066, 541125, 14495, 1107111,...   \n",
       "2  [586668, 713448, 629278, 728308, 527601, 64310...   \n",
       "3  [37966, 524312, 511235, 1638619, 30773, 169820...   \n",
       "4  [265971, 314795, 24966, 41148, 751113, 925792,...   \n",
       "\n",
       "                                       advertiser_id  \\\n",
       "0  [29455, 7293, 9702, 14668, 11411, 14681, 17189...   \n",
       "1  [22885, 10686, 18562, 25932, 768, 34505, 22885...   \n",
       "2  [32974, 9877, 18492, 14186, 17018, 9058, 8371,...   \n",
       "3  [19451, 7976, 13084, 12130, 13299, 23664, 1017...   \n",
       "4  [11882, 992, 22885, 9706, 38760, 2862, 17745, ...   \n",
       "\n",
       "                                         click_times  \\\n",
       "0            [1, 1, 1, 1, 1, 1, 1, 1, 1, 1, 1, 1, 2]   \n",
       "1  [1, 1, 1, 1, 1, 1, 1, 1, 1, 1, 1, 1, 1, 1, 1, ...   \n",
       "2  [1, 1, 1, 1, 1, 1, 1, 1, 1, 1, 1, 1, 1, 1, 1, ...   \n",
       "3  [1, 1, 1, 1, 1, 1, 1, 1, 1, 1, 1, 1, 1, 1, 1, ...   \n",
       "4  [1, 1, 1, 1, 1, 2, 1, 1, 1, 1, 1, 1, 1, 1, 1, ...   \n",
       "\n",
       "                                          product_id  \\\n",
       "0  ['\\\\N', '\\\\N', '136', '\\\\N', '1334', '\\\\N', '\\...   \n",
       "1  ['87', '80', '129', '129', '1400', '\\\\N', '87'...   \n",
       "2  ['36256', '40905', '1674', '35985', '1674', '\\...   \n",
       "3  ['1862', '\\\\N', '2625', '38743', '39422', '412...   \n",
       "4  ['\\\\N', '\\\\N', '87', '136', '\\\\N', '136', '\\\\N...   \n",
       "\n",
       "                                    product_category  \\\n",
       "0          [5, 5, 2, 5, 2, 18, 5, 5, 18, 2, 2, 2, 2]   \n",
       "1  [2, 2, 2, 2, 2, 18, 2, 18, 2, 18, 2, 18, 2, 18...   \n",
       "2  [17, 17, 2, 17, 2, 18, 18, 2, 2, 2, 18, 12, 2,...   \n",
       "3  [2, 18, 2, 17, 17, 17, 17, 4, 18, 2, 2, 2, 2, ...   \n",
       "4  [5, 8, 2, 2, 18, 2, 5, 18, 18, 2, 18, 2, 5, 5,...   \n",
       "\n",
       "                                            industry  age  gender  \n",
       "0  ['106', '326', '6', '326', '\\\\N', '326', '73',...    4       1  \n",
       "1  ['318', '238', '6', '6', '317', '47', '318', '...   10       1  \n",
       "2  ['\\\\N', '\\\\N', '322', '\\\\N', '322', '6', '54',...    7       2  \n",
       "3  ['238', '25', '248', '\\\\N', '\\\\N', '\\\\N', '\\\\N...    5       1  \n",
       "4  ['297', '\\\\N', '318', '6', '322', '6', '288', ...    4       1  "
      ]
     },
     "execution_count": 43,
     "metadata": {},
     "output_type": "execute_result"
    }
   ],
   "source": [
    "merge_df.head()"
   ]
  },
  {
   "cell_type": "code",
   "execution_count": 48,
   "metadata": {},
   "outputs": [],
   "source": [
    "from ast import literal_eval\n",
    "def hh(q, item_dict, length):\n",
    "    q = literal_eval(q)\n",
    "#     print(q)\n",
    "    if len(q) < length:\n",
    "        return [item_dict[x] for x in q] + [0]*(length-len(q))\n",
    "    else:\n",
    "        return [item_dict[x] for x in q[-length:]]"
   ]
  },
  {
   "cell_type": "code",
   "execution_count": 46,
   "metadata": {},
   "outputs": [],
   "source": [
    "import pickle\n",
    "fp = open(\"/DATA/zhouyongyu/taac/creative_dict.txt\", \"rb+\")\n",
    "creative_dict = pickle.load(fp)\n",
    "\n",
    "fp = open(\"/DATA/zhouyongyu/taac/ad_dict.txt\", \"rb+\")\n",
    "ad_dict = pickle.load(fp)\n",
    "\n",
    "fp = open(\"/DATA/zhouyongyu/taac/advertiser_dict.txt\", \"rb+\")\n",
    "advertiser_dict = pickle.load(fp)\n",
    "\n",
    "fp = open(\"/DATA/zhouyongyu/taac/times_dict.txt\", \"rb+\")\n",
    "times_dict = pickle.load(fp)\n",
    "\n",
    "fp = open(\"/DATA/zhouyongyu/taac/product_dict.txt\", \"rb+\")\n",
    "product_dict = pickle.load(fp)\n",
    "\n",
    "fp = open(\"/DATA/zhouyongyu/taac/category_dict.txt\", \"rb+\")\n",
    "category_dict = pickle.load(fp)\n",
    "\n",
    "fp = open(\"/DATA/zhouyongyu/taac/industry_dict.txt\", \"rb+\")\n",
    "industry_dict = pickle.load(fp)"
   ]
  },
  {
   "cell_type": "code",
   "execution_count": 49,
   "metadata": {},
   "outputs": [],
   "source": [
    "merge_df[\"creative_id\"]=merge_df[\"creative_id\"].apply(hh, args = (creative_dict,89,))"
   ]
  },
  {
   "cell_type": "code",
   "execution_count": 50,
   "metadata": {},
   "outputs": [],
   "source": [
    "merge_df[\"ad_id\"]=merge_df[\"ad_id\"].apply(hh, args = (ad_dict,89,))"
   ]
  },
  {
   "cell_type": "code",
   "execution_count": 51,
   "metadata": {},
   "outputs": [],
   "source": [
    "merge_df[\"advertiser_id\"]=merge_df[\"advertiser_id\"].apply(hh, args = (advertiser_dict,89,))"
   ]
  },
  {
   "cell_type": "code",
   "execution_count": 52,
   "metadata": {},
   "outputs": [],
   "source": [
    "merge_df[\"click_times\"]=merge_df[\"click_times\"].apply(hh, args = (times_dict,89,))\n",
    "merge_df[\"product_id\"]=merge_df[\"product_id\"].apply(hh, args = (product_dict,89,))\n",
    "merge_df[\"product_category\"]=merge_df[\"product_category\"].apply(hh, args = (category_dict,89,))\n",
    "merge_df[\"industry\"]=merge_df[\"industry\"].apply(hh, args = (industry_dict,89,))"
   ]
  },
  {
   "cell_type": "code",
   "execution_count": 53,
   "metadata": {},
   "outputs": [
    {
     "data": {
      "text/html": [
       "<div>\n",
       "<style scoped>\n",
       "    .dataframe tbody tr th:only-of-type {\n",
       "        vertical-align: middle;\n",
       "    }\n",
       "\n",
       "    .dataframe tbody tr th {\n",
       "        vertical-align: top;\n",
       "    }\n",
       "\n",
       "    .dataframe thead th {\n",
       "        text-align: right;\n",
       "    }\n",
       "</style>\n",
       "<table border=\"1\" class=\"dataframe\">\n",
       "  <thead>\n",
       "    <tr style=\"text-align: right;\">\n",
       "      <th></th>\n",
       "      <th>user_id</th>\n",
       "      <th>creative_id</th>\n",
       "      <th>ad_id</th>\n",
       "      <th>advertiser_id</th>\n",
       "      <th>click_times</th>\n",
       "      <th>product_id</th>\n",
       "      <th>product_category</th>\n",
       "      <th>industry</th>\n",
       "      <th>age</th>\n",
       "      <th>gender</th>\n",
       "    </tr>\n",
       "  </thead>\n",
       "  <tbody>\n",
       "    <tr>\n",
       "      <th>0</th>\n",
       "      <td>1</td>\n",
       "      <td>[1, 2, 3, 4, 5, 6, 7, 8, 9, 10, 11, 10, 12, 0,...</td>\n",
       "      <td>[1, 2, 3, 4, 5, 6, 7, 8, 9, 10, 11, 10, 12, 0,...</td>\n",
       "      <td>[1, 2, 3, 4, 5, 6, 7, 8, 9, 10, 11, 10, 12, 0,...</td>\n",
       "      <td>[1, 1, 1, 1, 1, 1, 1, 1, 1, 1, 1, 1, 2, 0, 0, ...</td>\n",
       "      <td>[1, 1, 2, 1, 3, 1, 1, 1, 1, 4, 5, 4, 6, 0, 0, ...</td>\n",
       "      <td>[1, 1, 2, 1, 2, 3, 1, 1, 3, 2, 2, 2, 2, 0, 0, ...</td>\n",
       "      <td>[1, 2, 3, 2, 4, 2, 5, 6, 7, 8, 9, 8, 3, 0, 0, ...</td>\n",
       "      <td>4</td>\n",
       "      <td>1</td>\n",
       "    </tr>\n",
       "    <tr>\n",
       "      <th>1</th>\n",
       "      <td>2</td>\n",
       "      <td>[13, 14, 15, 16, 17, 18, 19, 20, 21, 22, 23, 2...</td>\n",
       "      <td>[13, 14, 15, 16, 17, 18, 19, 20, 21, 22, 23, 2...</td>\n",
       "      <td>[13, 14, 15, 16, 17, 18, 13, 19, 20, 21, 22, 2...</td>\n",
       "      <td>[1, 1, 1, 1, 1, 1, 1, 1, 1, 1, 1, 1, 1, 1, 1, ...</td>\n",
       "      <td>[7, 8, 9, 9, 10, 1, 7, 1, 6, 1, 11, 1, 9, 1, 1...</td>\n",
       "      <td>[2, 2, 2, 2, 2, 3, 2, 3, 2, 3, 2, 3, 2, 3, 3, ...</td>\n",
       "      <td>[10, 9, 3, 3, 11, 12, 10, 12, 3, 12, 13, 3, 3,...</td>\n",
       "      <td>10</td>\n",
       "      <td>1</td>\n",
       "    </tr>\n",
       "    <tr>\n",
       "      <th>2</th>\n",
       "      <td>3</td>\n",
       "      <td>[55, 56, 57, 58, 59, 60, 61, 62, 63, 64, 65, 6...</td>\n",
       "      <td>[55, 56, 57, 58, 59, 60, 61, 62, 63, 64, 65, 6...</td>\n",
       "      <td>[48, 49, 50, 51, 52, 53, 54, 55, 56, 57, 58, 5...</td>\n",
       "      <td>[1, 1, 1, 1, 1, 1, 1, 1, 1, 1, 1, 1, 1, 1, 1, ...</td>\n",
       "      <td>[25, 26, 27, 28, 27, 1, 1, 29, 30, 31, 1, 1, 3...</td>\n",
       "      <td>[5, 5, 2, 5, 2, 3, 3, 2, 2, 2, 3, 6, 2, 2, 3, ...</td>\n",
       "      <td>[4, 4, 17, 4, 17, 3, 23, 3, 17, 17, 24, 25, 17...</td>\n",
       "      <td>7</td>\n",
       "      <td>2</td>\n",
       "    </tr>\n",
       "    <tr>\n",
       "      <th>3</th>\n",
       "      <td>4</td>\n",
       "      <td>[85, 86, 87, 88, 89, 90, 91, 92, 93, 94, 95, 9...</td>\n",
       "      <td>[85, 86, 87, 88, 89, 90, 91, 92, 93, 94, 95, 9...</td>\n",
       "      <td>[75, 76, 77, 78, 79, 80, 81, 82, 83, 31, 84, 2...</td>\n",
       "      <td>[1, 1, 1, 1, 1, 1, 1, 1, 1, 1, 1, 1, 1, 1, 1, ...</td>\n",
       "      <td>[40, 1, 41, 42, 43, 44, 45, 46, 1, 14, 19, 9, ...</td>\n",
       "      <td>[2, 3, 2, 5, 5, 5, 5, 7, 3, 2, 2, 2, 2, 2, 2, ...</td>\n",
       "      <td>[9, 27, 28, 4, 4, 4, 4, 4, 29, 16, 9, 3, 16, 9...</td>\n",
       "      <td>5</td>\n",
       "      <td>1</td>\n",
       "    </tr>\n",
       "    <tr>\n",
       "      <th>4</th>\n",
       "      <td>5</td>\n",
       "      <td>[114, 115, 116, 117, 118, 119, 120, 121, 122, ...</td>\n",
       "      <td>[114, 115, 116, 117, 118, 119, 120, 121, 122, ...</td>\n",
       "      <td>[97, 98, 13, 99, 100, 101, 102, 103, 104, 105,...</td>\n",
       "      <td>[1, 1, 1, 1, 1, 2, 1, 1, 1, 1, 1, 1, 1, 1, 1, ...</td>\n",
       "      <td>[1, 1, 7, 2, 1, 2, 1, 1, 1, 17, 1, 52, 1, 1, 2...</td>\n",
       "      <td>[1, 4, 2, 2, 3, 2, 1, 3, 3, 2, 3, 2, 1, 1, 2, ...</td>\n",
       "      <td>[31, 4, 10, 3, 17, 3, 32, 17, 16, 9, 17, 17, 3...</td>\n",
       "      <td>4</td>\n",
       "      <td>1</td>\n",
       "    </tr>\n",
       "  </tbody>\n",
       "</table>\n",
       "</div>"
      ],
      "text/plain": [
       "   user_id                                        creative_id  \\\n",
       "0        1  [1, 2, 3, 4, 5, 6, 7, 8, 9, 10, 11, 10, 12, 0,...   \n",
       "1        2  [13, 14, 15, 16, 17, 18, 19, 20, 21, 22, 23, 2...   \n",
       "2        3  [55, 56, 57, 58, 59, 60, 61, 62, 63, 64, 65, 6...   \n",
       "3        4  [85, 86, 87, 88, 89, 90, 91, 92, 93, 94, 95, 9...   \n",
       "4        5  [114, 115, 116, 117, 118, 119, 120, 121, 122, ...   \n",
       "\n",
       "                                               ad_id  \\\n",
       "0  [1, 2, 3, 4, 5, 6, 7, 8, 9, 10, 11, 10, 12, 0,...   \n",
       "1  [13, 14, 15, 16, 17, 18, 19, 20, 21, 22, 23, 2...   \n",
       "2  [55, 56, 57, 58, 59, 60, 61, 62, 63, 64, 65, 6...   \n",
       "3  [85, 86, 87, 88, 89, 90, 91, 92, 93, 94, 95, 9...   \n",
       "4  [114, 115, 116, 117, 118, 119, 120, 121, 122, ...   \n",
       "\n",
       "                                       advertiser_id  \\\n",
       "0  [1, 2, 3, 4, 5, 6, 7, 8, 9, 10, 11, 10, 12, 0,...   \n",
       "1  [13, 14, 15, 16, 17, 18, 13, 19, 20, 21, 22, 2...   \n",
       "2  [48, 49, 50, 51, 52, 53, 54, 55, 56, 57, 58, 5...   \n",
       "3  [75, 76, 77, 78, 79, 80, 81, 82, 83, 31, 84, 2...   \n",
       "4  [97, 98, 13, 99, 100, 101, 102, 103, 104, 105,...   \n",
       "\n",
       "                                         click_times  \\\n",
       "0  [1, 1, 1, 1, 1, 1, 1, 1, 1, 1, 1, 1, 2, 0, 0, ...   \n",
       "1  [1, 1, 1, 1, 1, 1, 1, 1, 1, 1, 1, 1, 1, 1, 1, ...   \n",
       "2  [1, 1, 1, 1, 1, 1, 1, 1, 1, 1, 1, 1, 1, 1, 1, ...   \n",
       "3  [1, 1, 1, 1, 1, 1, 1, 1, 1, 1, 1, 1, 1, 1, 1, ...   \n",
       "4  [1, 1, 1, 1, 1, 2, 1, 1, 1, 1, 1, 1, 1, 1, 1, ...   \n",
       "\n",
       "                                          product_id  \\\n",
       "0  [1, 1, 2, 1, 3, 1, 1, 1, 1, 4, 5, 4, 6, 0, 0, ...   \n",
       "1  [7, 8, 9, 9, 10, 1, 7, 1, 6, 1, 11, 1, 9, 1, 1...   \n",
       "2  [25, 26, 27, 28, 27, 1, 1, 29, 30, 31, 1, 1, 3...   \n",
       "3  [40, 1, 41, 42, 43, 44, 45, 46, 1, 14, 19, 9, ...   \n",
       "4  [1, 1, 7, 2, 1, 2, 1, 1, 1, 17, 1, 52, 1, 1, 2...   \n",
       "\n",
       "                                    product_category  \\\n",
       "0  [1, 1, 2, 1, 2, 3, 1, 1, 3, 2, 2, 2, 2, 0, 0, ...   \n",
       "1  [2, 2, 2, 2, 2, 3, 2, 3, 2, 3, 2, 3, 2, 3, 3, ...   \n",
       "2  [5, 5, 2, 5, 2, 3, 3, 2, 2, 2, 3, 6, 2, 2, 3, ...   \n",
       "3  [2, 3, 2, 5, 5, 5, 5, 7, 3, 2, 2, 2, 2, 2, 2, ...   \n",
       "4  [1, 4, 2, 2, 3, 2, 1, 3, 3, 2, 3, 2, 1, 1, 2, ...   \n",
       "\n",
       "                                            industry  age  gender  \n",
       "0  [1, 2, 3, 2, 4, 2, 5, 6, 7, 8, 9, 8, 3, 0, 0, ...    4       1  \n",
       "1  [10, 9, 3, 3, 11, 12, 10, 12, 3, 12, 13, 3, 3,...   10       1  \n",
       "2  [4, 4, 17, 4, 17, 3, 23, 3, 17, 17, 24, 25, 17...    7       2  \n",
       "3  [9, 27, 28, 4, 4, 4, 4, 4, 29, 16, 9, 3, 16, 9...    5       1  \n",
       "4  [31, 4, 10, 3, 17, 3, 32, 17, 16, 9, 17, 17, 3...    4       1  "
      ]
     },
     "execution_count": 53,
     "metadata": {},
     "output_type": "execute_result"
    }
   ],
   "source": [
    "merge_df.head()"
   ]
  },
  {
   "cell_type": "code",
   "execution_count": 54,
   "metadata": {},
   "outputs": [],
   "source": [
    "merge_df.to_csv('/DATA/zhouyongyu/taac/pad_merge_df_7_input.csv', index=0)"
   ]
  },
  {
   "cell_type": "code",
   "execution_count": 58,
   "metadata": {},
   "outputs": [],
   "source": [
    "from sklearn.utils import shuffle\n",
    "merge_df = shuffle(merge_df)"
   ]
  },
  {
   "cell_type": "code",
   "execution_count": 59,
   "metadata": {},
   "outputs": [
    {
     "data": {
      "text/html": [
       "<div>\n",
       "<style scoped>\n",
       "    .dataframe tbody tr th:only-of-type {\n",
       "        vertical-align: middle;\n",
       "    }\n",
       "\n",
       "    .dataframe tbody tr th {\n",
       "        vertical-align: top;\n",
       "    }\n",
       "\n",
       "    .dataframe thead th {\n",
       "        text-align: right;\n",
       "    }\n",
       "</style>\n",
       "<table border=\"1\" class=\"dataframe\">\n",
       "  <thead>\n",
       "    <tr style=\"text-align: right;\">\n",
       "      <th></th>\n",
       "      <th>creative_id</th>\n",
       "      <th>ad_id</th>\n",
       "      <th>advertiser_id</th>\n",
       "      <th>click_times</th>\n",
       "      <th>product_id</th>\n",
       "      <th>product_category</th>\n",
       "      <th>industry</th>\n",
       "      <th>gender</th>\n",
       "      <th>age</th>\n",
       "    </tr>\n",
       "  </thead>\n",
       "  <tbody>\n",
       "    <tr>\n",
       "      <th>718653</th>\n",
       "      <td>[44686, 403879, 17, 3744, 27160, 85685, 35265,...</td>\n",
       "      <td>[44056, 19721, 17, 3720, 26850, 84191, 34818, ...</td>\n",
       "      <td>[277, 125, 17, 140, 4877, 1254, 548, 1186, 363...</td>\n",
       "      <td>[1, 1, 1, 1, 1, 1, 1, 1, 1, 1, 1, 1, 1, 1, 1, ...</td>\n",
       "      <td>[6, 1, 10, 1, 62, 148, 1, 1, 35, 17, 1, 1010, ...</td>\n",
       "      <td>[2, 3, 2, 3, 2, 2, 3, 3, 2, 2, 3, 9, 3, 2, 2, ...</td>\n",
       "      <td>[3, 16, 11, 23, 19, 9, 26, 16, 17, 13, 16, 26,...</td>\n",
       "      <td>1</td>\n",
       "      <td>4</td>\n",
       "    </tr>\n",
       "    <tr>\n",
       "      <th>652559</th>\n",
       "      <td>[642194, 66653, 450, 7503, 290876, 2028319, 31...</td>\n",
       "      <td>[617765, 65587, 449, 7448, 283127, 1090949, 30...</td>\n",
       "      <td>[33, 411, 327, 411, 468, 3705, 2782, 297, 358,...</td>\n",
       "      <td>[1, 1, 1, 1, 1, 1, 1, 1, 1, 1, 1, 1, 1, 1, 1, ...</td>\n",
       "      <td>[1, 6, 6, 6, 3, 53, 1, 6, 138, 6, 6, 1, 1, 53,...</td>\n",
       "      <td>[3, 2, 2, 2, 2, 2, 3, 2, 2, 2, 2, 3, 3, 2, 2, ...</td>\n",
       "      <td>[15, 3, 3, 3, 11, 13, 23, 3, 26, 3, 3, 3, 26, ...</td>\n",
       "      <td>1</td>\n",
       "      <td>1</td>\n",
       "    </tr>\n",
       "    <tr>\n",
       "      <th>584047</th>\n",
       "      <td>[97007, 1378, 6126, 4242, 54193, 6705, 56931, ...</td>\n",
       "      <td>[95249, 1374, 6087, 4218, 53389, 6660, 56072, ...</td>\n",
       "      <td>[2232, 6, 1007, 6, 2585, 812, 3654, 812, 812, ...</td>\n",
       "      <td>[1, 1, 1, 1, 1, 1, 1, 1, 1, 1, 1, 1, 1, 1, 1, ...</td>\n",
       "      <td>[1, 1, 1, 1, 525, 14, 1, 14, 14, 6, 1, 27, 1, ...</td>\n",
       "      <td>[3, 3, 3, 3, 2, 2, 3, 2, 2, 2, 1, 2, 1, 2, 2, ...</td>\n",
       "      <td>[15, 31, 17, 57, 101, 16, 86, 16, 16, 3, 18, 1...</td>\n",
       "      <td>1</td>\n",
       "      <td>3</td>\n",
       "    </tr>\n",
       "    <tr>\n",
       "      <th>305808</th>\n",
       "      <td>[911113, 3242, 18357, 47216, 4186, 86394, 807,...</td>\n",
       "      <td>[869402, 3222, 18172, 3468, 4162, 84881, 805, ...</td>\n",
       "      <td>[2799, 1174, 1764, 140, 6, 955, 140, 485, 153,...</td>\n",
       "      <td>[1, 1, 2, 1, 1, 1, 1, 1, 1, 1, 2, 2, 1, 1, 1, ...</td>\n",
       "      <td>[1, 1, 1, 1, 1, 203, 1, 1, 1, 421, 1, 1, 1, 1,...</td>\n",
       "      <td>[3, 6, 1, 3, 3, 5, 6, 6, 6, 2, 6, 6, 3, 6, 7, ...</td>\n",
       "      <td>[96, 23, 18, 23, 31, 4, 23, 23, 57, 28, 3, 23,...</td>\n",
       "      <td>1</td>\n",
       "      <td>6</td>\n",
       "    </tr>\n",
       "    <tr>\n",
       "      <th>79155</th>\n",
       "      <td>[1310, 23696, 233095, 613248, 301907, 103575, ...</td>\n",
       "      <td>[1306, 23437, 227433, 590418, 293776, 101667, ...</td>\n",
       "      <td>[468, 2963, 1476, 1141, 218, 70, 11934, 1237, ...</td>\n",
       "      <td>[1, 1, 1, 1, 1, 1, 1, 1, 1, 1, 1, 1, 1, 1, 1, ...</td>\n",
       "      <td>[3, 998, 62, 415, 97, 36, 4280, 441, 170, 298,...</td>\n",
       "      <td>[2, 10, 2, 2, 2, 2, 10, 2, 2, 2, 2, 4, 2, 3, 2...</td>\n",
       "      <td>[11, 26, 19, 17, 58, 17, 26, 17, 90, 21, 58, 1...</td>\n",
       "      <td>1</td>\n",
       "      <td>6</td>\n",
       "    </tr>\n",
       "  </tbody>\n",
       "</table>\n",
       "</div>"
      ],
      "text/plain": [
       "                                              creative_id  \\\n",
       "718653  [44686, 403879, 17, 3744, 27160, 85685, 35265,...   \n",
       "652559  [642194, 66653, 450, 7503, 290876, 2028319, 31...   \n",
       "584047  [97007, 1378, 6126, 4242, 54193, 6705, 56931, ...   \n",
       "305808  [911113, 3242, 18357, 47216, 4186, 86394, 807,...   \n",
       "79155   [1310, 23696, 233095, 613248, 301907, 103575, ...   \n",
       "\n",
       "                                                    ad_id  \\\n",
       "718653  [44056, 19721, 17, 3720, 26850, 84191, 34818, ...   \n",
       "652559  [617765, 65587, 449, 7448, 283127, 1090949, 30...   \n",
       "584047  [95249, 1374, 6087, 4218, 53389, 6660, 56072, ...   \n",
       "305808  [869402, 3222, 18172, 3468, 4162, 84881, 805, ...   \n",
       "79155   [1306, 23437, 227433, 590418, 293776, 101667, ...   \n",
       "\n",
       "                                            advertiser_id  \\\n",
       "718653  [277, 125, 17, 140, 4877, 1254, 548, 1186, 363...   \n",
       "652559  [33, 411, 327, 411, 468, 3705, 2782, 297, 358,...   \n",
       "584047  [2232, 6, 1007, 6, 2585, 812, 3654, 812, 812, ...   \n",
       "305808  [2799, 1174, 1764, 140, 6, 955, 140, 485, 153,...   \n",
       "79155   [468, 2963, 1476, 1141, 218, 70, 11934, 1237, ...   \n",
       "\n",
       "                                              click_times  \\\n",
       "718653  [1, 1, 1, 1, 1, 1, 1, 1, 1, 1, 1, 1, 1, 1, 1, ...   \n",
       "652559  [1, 1, 1, 1, 1, 1, 1, 1, 1, 1, 1, 1, 1, 1, 1, ...   \n",
       "584047  [1, 1, 1, 1, 1, 1, 1, 1, 1, 1, 1, 1, 1, 1, 1, ...   \n",
       "305808  [1, 1, 2, 1, 1, 1, 1, 1, 1, 1, 2, 2, 1, 1, 1, ...   \n",
       "79155   [1, 1, 1, 1, 1, 1, 1, 1, 1, 1, 1, 1, 1, 1, 1, ...   \n",
       "\n",
       "                                               product_id  \\\n",
       "718653  [6, 1, 10, 1, 62, 148, 1, 1, 35, 17, 1, 1010, ...   \n",
       "652559  [1, 6, 6, 6, 3, 53, 1, 6, 138, 6, 6, 1, 1, 53,...   \n",
       "584047  [1, 1, 1, 1, 525, 14, 1, 14, 14, 6, 1, 27, 1, ...   \n",
       "305808  [1, 1, 1, 1, 1, 203, 1, 1, 1, 421, 1, 1, 1, 1,...   \n",
       "79155   [3, 998, 62, 415, 97, 36, 4280, 441, 170, 298,...   \n",
       "\n",
       "                                         product_category  \\\n",
       "718653  [2, 3, 2, 3, 2, 2, 3, 3, 2, 2, 3, 9, 3, 2, 2, ...   \n",
       "652559  [3, 2, 2, 2, 2, 2, 3, 2, 2, 2, 2, 3, 3, 2, 2, ...   \n",
       "584047  [3, 3, 3, 3, 2, 2, 3, 2, 2, 2, 1, 2, 1, 2, 2, ...   \n",
       "305808  [3, 6, 1, 3, 3, 5, 6, 6, 6, 2, 6, 6, 3, 6, 7, ...   \n",
       "79155   [2, 10, 2, 2, 2, 2, 10, 2, 2, 2, 2, 4, 2, 3, 2...   \n",
       "\n",
       "                                                 industry  gender  age  \n",
       "718653  [3, 16, 11, 23, 19, 9, 26, 16, 17, 13, 16, 26,...       1    4  \n",
       "652559  [15, 3, 3, 3, 11, 13, 23, 3, 26, 3, 3, 3, 26, ...       1    1  \n",
       "584047  [15, 31, 17, 57, 101, 16, 86, 16, 16, 3, 18, 1...       1    3  \n",
       "305808  [96, 23, 18, 23, 31, 4, 23, 23, 57, 28, 3, 23,...       1    6  \n",
       "79155   [11, 26, 19, 17, 58, 17, 26, 17, 90, 21, 58, 1...       1    6  "
      ]
     },
     "execution_count": 59,
     "metadata": {},
     "output_type": "execute_result"
    }
   ],
   "source": [
    "col_n = ['creative_id', 'ad_id', 'advertiser_id', 'click_times', 'product_id', 'product_category', 'industry', 'gender', 'age']\n",
    "col_df = pd.DataFrame(merge_df,columns = col_n)\n",
    "col_df.head()"
   ]
  },
  {
   "cell_type": "code",
   "execution_count": 60,
   "metadata": {},
   "outputs": [],
   "source": [
    "import math\n",
    "n_train = int(math.ceil(len(col_df) * (1. - 0.05)))"
   ]
  },
  {
   "cell_type": "code",
   "execution_count": 61,
   "metadata": {},
   "outputs": [],
   "source": [
    "train_df = col_df[:n_train]\n",
    "test_df = col_df[n_train:]"
   ]
  },
  {
   "cell_type": "code",
   "execution_count": 62,
   "metadata": {},
   "outputs": [
    {
     "name": "stderr",
     "output_type": "stream",
     "text": [
      "100%|██████████| 855000/855000 [00:00<00:00, 1594030.35it/s]\n",
      "100%|██████████| 45000/45000 [00:00<00:00, 1819479.25it/s]\n"
     ]
    }
   ],
   "source": [
    "train_creative_str = train_df['creative_id'].tolist()\n",
    "train_creative = []\n",
    "from ast import literal_eval\n",
    "from tqdm import tqdm\n",
    "for item in tqdm(train_creative_str):\n",
    "#     train_creative.append(literal_eval(item))\n",
    "    train_creative.append(item)\n",
    "\n",
    "test_creative_str = test_df['creative_id'].tolist()\n",
    "test_creative = []\n",
    "from ast import literal_eval\n",
    "from tqdm import tqdm\n",
    "for item in tqdm(test_creative_str):\n",
    "#     test_creative.append(literal_eval(item))\n",
    "    test_creative.append(item)"
   ]
  },
  {
   "cell_type": "code",
   "execution_count": 63,
   "metadata": {},
   "outputs": [
    {
     "name": "stderr",
     "output_type": "stream",
     "text": [
      "100%|██████████| 855000/855000 [00:00<00:00, 1582452.41it/s]\n",
      "100%|██████████| 45000/45000 [00:00<00:00, 1823628.05it/s]\n"
     ]
    }
   ],
   "source": [
    "train_creative_str = train_df['ad_id'].tolist()\n",
    "train_ad = []\n",
    "from ast import literal_eval\n",
    "from tqdm import tqdm\n",
    "for item in tqdm(train_creative_str):\n",
    "#     train_creative.append(literal_eval(item))\n",
    "    train_ad.append(item)\n",
    "\n",
    "test_creative_str = test_df['ad_id'].tolist()\n",
    "test_ad = []\n",
    "from ast import literal_eval\n",
    "from tqdm import tqdm\n",
    "for item in tqdm(test_creative_str):\n",
    "#     test_creative.append(literal_eval(item))\n",
    "    test_ad.append(item)"
   ]
  },
  {
   "cell_type": "code",
   "execution_count": 64,
   "metadata": {},
   "outputs": [
    {
     "name": "stderr",
     "output_type": "stream",
     "text": [
      "100%|██████████| 855000/855000 [00:00<00:00, 1554042.37it/s]\n",
      "100%|██████████| 45000/45000 [00:00<00:00, 1882223.04it/s]\n"
     ]
    }
   ],
   "source": [
    "train_creative_str = train_df['advertiser_id'].tolist()\n",
    "train_advertiser = []\n",
    "from ast import literal_eval\n",
    "from tqdm import tqdm\n",
    "for item in tqdm(train_creative_str):\n",
    "#     train_creative.append(literal_eval(item))\n",
    "    train_advertiser.append(item)\n",
    "\n",
    "test_creative_str = test_df['advertiser_id'].tolist()\n",
    "test_advertiser = []\n",
    "from ast import literal_eval\n",
    "from tqdm import tqdm\n",
    "for item in tqdm(test_creative_str):\n",
    "#     test_creative.append(literal_eval(item))\n",
    "    test_advertiser.append(item)"
   ]
  },
  {
   "cell_type": "code",
   "execution_count": 65,
   "metadata": {},
   "outputs": [
    {
     "name": "stderr",
     "output_type": "stream",
     "text": [
      "100%|██████████| 855000/855000 [00:00<00:00, 1592868.47it/s]\n",
      "100%|██████████| 45000/45000 [00:00<00:00, 1713561.69it/s]\n"
     ]
    }
   ],
   "source": [
    "train_creative_str = train_df['click_times'].tolist()\n",
    "train_times = []\n",
    "from ast import literal_eval\n",
    "from tqdm import tqdm\n",
    "for item in tqdm(train_creative_str):\n",
    "#     train_creative.append(literal_eval(item))\n",
    "    train_times.append(item)\n",
    "\n",
    "test_creative_str = test_df['click_times'].tolist()\n",
    "test_times = []\n",
    "from ast import literal_eval\n",
    "from tqdm import tqdm\n",
    "for item in tqdm(test_creative_str):\n",
    "#     test_creative.append(literal_eval(item))\n",
    "    test_times.append(item)"
   ]
  },
  {
   "cell_type": "code",
   "execution_count": 72,
   "metadata": {},
   "outputs": [
    {
     "name": "stderr",
     "output_type": "stream",
     "text": [
      "100%|██████████| 855000/855000 [00:00<00:00, 1721629.39it/s]\n",
      "100%|██████████| 45000/45000 [00:00<00:00, 1809657.71it/s]\n"
     ]
    }
   ],
   "source": [
    "train_creative_str = train_df['product_id'].tolist()\n",
    "train_product = []\n",
    "from ast import literal_eval\n",
    "from tqdm import tqdm\n",
    "for item in tqdm(train_creative_str):\n",
    "#     train_creative.append(literal_eval(item))\n",
    "    train_product.append(item)\n",
    "\n",
    "test_creative_str = test_df['product_id'].tolist()\n",
    "test_product = []\n",
    "from ast import literal_eval\n",
    "from tqdm import tqdm\n",
    "for item in tqdm(test_creative_str):\n",
    "#     test_creative.append(literal_eval(item))\n",
    "    test_product.append(item)"
   ]
  },
  {
   "cell_type": "code",
   "execution_count": 67,
   "metadata": {},
   "outputs": [
    {
     "name": "stderr",
     "output_type": "stream",
     "text": [
      "100%|██████████| 855000/855000 [00:00<00:00, 1596636.38it/s]\n",
      "100%|██████████| 45000/45000 [00:00<00:00, 1816187.75it/s]\n"
     ]
    }
   ],
   "source": [
    "train_creative_str = train_df['product_category'].tolist()\n",
    "train_category = []\n",
    "from ast import literal_eval\n",
    "from tqdm import tqdm\n",
    "for item in tqdm(train_creative_str):\n",
    "#     train_creative.append(literal_eval(item))\n",
    "    train_category.append(item)\n",
    "\n",
    "test_creative_str = test_df['product_category'].tolist()\n",
    "test_category = []\n",
    "from ast import literal_eval\n",
    "from tqdm import tqdm\n",
    "for item in tqdm(test_creative_str):\n",
    "#     test_creative.append(literal_eval(item))\n",
    "    test_category.append(item)"
   ]
  },
  {
   "cell_type": "code",
   "execution_count": 68,
   "metadata": {},
   "outputs": [
    {
     "name": "stderr",
     "output_type": "stream",
     "text": [
      "100%|██████████| 855000/855000 [00:00<00:00, 1004252.92it/s]\n",
      "100%|██████████| 45000/45000 [00:00<00:00, 1143298.26it/s]\n"
     ]
    }
   ],
   "source": [
    "train_creative_str = train_df['industry'].tolist()\n",
    "train_industry = []\n",
    "from ast import literal_eval\n",
    "from tqdm import tqdm\n",
    "for item in tqdm(train_creative_str):\n",
    "#     train_creative.append(literal_eval(item))\n",
    "    train_industry.append(item)\n",
    "\n",
    "test_creative_str = test_df['industry'].tolist()\n",
    "test_industry = []\n",
    "from ast import literal_eval\n",
    "from tqdm import tqdm\n",
    "for item in tqdm(test_creative_str):\n",
    "#     test_creative.append(literal_eval(item))\n",
    "    test_industry.append(item)"
   ]
  },
  {
   "cell_type": "code",
   "execution_count": 69,
   "metadata": {},
   "outputs": [],
   "source": [
    "train_gender = train_df['gender'].tolist()\n",
    "train_age = train_df['age'].tolist()\n",
    "test_gender = test_df['gender'].tolist()\n",
    "test_age = test_df['age'].tolist()"
   ]
  },
  {
   "cell_type": "code",
   "execution_count": 114,
   "metadata": {},
   "outputs": [
    {
     "name": "stderr",
     "output_type": "stream",
     "text": [
      "100%|██████████| 855000/855000 [00:06<00:00, 127533.86it/s]\n",
      "100%|██████████| 45000/45000 [00:00<00:00, 129123.49it/s]\n"
     ]
    }
   ],
   "source": [
    "train_mask = []\n",
    "for input in tqdm(train_creative):\n",
    "    train_mask.append([1 if item != 0 else 0 for item in input])\n",
    "    \n",
    "test_mask = []\n",
    "for input in tqdm(test_creative):\n",
    "    test_mask.append([1 if item != 0 else 0 for item in input])"
   ]
  },
  {
   "cell_type": "code",
   "execution_count": 115,
   "metadata": {},
   "outputs": [],
   "source": [
    "pickle.dump((train_creative, train_ad, train_advertiser, train_times, train_product, train_category, train_industry, train_mask, train_gender, train_age), open('/DATA/zhouyongyu/taac/train_95_7_input.txt', 'wb'))\n",
    "pickle.dump((test_creative, test_ad, test_advertiser, test_times, test_product, test_category, test_industry, test_mask, test_gender, test_age), open('/DATA/zhouyongyu/taac/test_95_7_input.txt', 'wb'))"
   ]
  },
  {
   "cell_type": "markdown",
   "metadata": {},
   "source": [
    "# 转换预训练word2vec向量"
   ]
  },
  {
   "cell_type": "code",
   "execution_count": 75,
   "metadata": {},
   "outputs": [],
   "source": [
    "import gensim"
   ]
  },
  {
   "cell_type": "markdown",
   "metadata": {},
   "source": [
    "## creative"
   ]
  },
  {
   "cell_type": "code",
   "execution_count": 124,
   "metadata": {},
   "outputs": [
    {
     "name": "stdout",
     "output_type": "stream",
     "text": [
      "Word2Vec(vocab=3412772, size=300, alpha=0.025)\n"
     ]
    }
   ],
   "source": [
    "creative_model = gensim.models.Word2Vec.load('/DATA/zhouyongyu/model_save/w2v_model/creative_300_w150') # 读取词向量\n",
    "print(creative_model)"
   ]
  },
  {
   "cell_type": "code",
   "execution_count": 125,
   "metadata": {},
   "outputs": [],
   "source": [
    "inverse_creative_dict = {v: k for k, v in creative_dict.items()}"
   ]
  },
  {
   "cell_type": "code",
   "execution_count": 126,
   "metadata": {},
   "outputs": [
    {
     "name": "stderr",
     "output_type": "stream",
     "text": [
      "  0%|          | 0/3257690 [00:00<?, ?it/s]/DATA/jipengfei/anaconda3/envs/zyy/lib/python3.6/site-packages/ipykernel_launcher.py:14: DeprecationWarning: Call to deprecated `__getitem__` (Method will be removed in 4.0.0, use self.wv.__getitem__() instead).\n",
      "  \n",
      "100%|██████████| 3257690/3257690 [01:09<00:00, 46774.27it/s]\n"
     ]
    }
   ],
   "source": [
    "import torch\n",
    "vocab_size = len(inverse_creative_dict)\n",
    "embed_size = 300\n",
    "weight = torch.zeros(vocab_size, embed_size)\n",
    "\n",
    "from tqdm import tqdm\n",
    "\n",
    "count = 0\n",
    "for key in tqdm(inverse_creative_dict):\n",
    "    count += 1\n",
    "#     if count>=10:\n",
    "#         break\n",
    "    try:\n",
    "        emb = creative_model[str(inverse_creative_dict[key])]\n",
    "#         print(emb)\n",
    "        weight[key,:] = torch.from_numpy(emb)\n",
    "    except:\n",
    "        pass"
   ]
  },
  {
   "cell_type": "code",
   "execution_count": 127,
   "metadata": {},
   "outputs": [],
   "source": [
    "pickle.dump(weight, open('/DATA/zhouyongyu/taac/weight_tensor_creative300.txt', 'wb'))"
   ]
  },
  {
   "cell_type": "code",
   "execution_count": null,
   "metadata": {},
   "outputs": [],
   "source": []
  },
  {
   "cell_type": "markdown",
   "metadata": {},
   "source": [
    "## ad"
   ]
  },
  {
   "cell_type": "code",
   "execution_count": 128,
   "metadata": {},
   "outputs": [
    {
     "name": "stdout",
     "output_type": "stream",
     "text": [
      "Word2Vec(vocab=3027360, size=300, alpha=0.025)\n"
     ]
    }
   ],
   "source": [
    "ad_model = gensim.models.Word2Vec.load('/DATA/zhouyongyu/model_save/w2v_model/ad_300') # 读取词向量\n",
    "print(ad_model)"
   ]
  },
  {
   "cell_type": "code",
   "execution_count": 129,
   "metadata": {},
   "outputs": [],
   "source": [
    "inverse_ad_dict = {v: k for k, v in ad_dict.items()}"
   ]
  },
  {
   "cell_type": "code",
   "execution_count": 130,
   "metadata": {},
   "outputs": [
    {
     "name": "stderr",
     "output_type": "stream",
     "text": [
      "  0%|          | 0/2900020 [00:00<?, ?it/s]/DATA/jipengfei/anaconda3/envs/zyy/lib/python3.6/site-packages/ipykernel_launcher.py:14: DeprecationWarning: Call to deprecated `__getitem__` (Method will be removed in 4.0.0, use self.wv.__getitem__() instead).\n",
      "  \n",
      "100%|██████████| 2900020/2900020 [01:03<00:00, 45708.47it/s]\n"
     ]
    }
   ],
   "source": [
    "import torch\n",
    "vocab_size = len(inverse_ad_dict)\n",
    "embed_size = 300\n",
    "weight = torch.zeros(vocab_size, embed_size)\n",
    "\n",
    "from tqdm import tqdm\n",
    "\n",
    "count = 0\n",
    "for key in tqdm(inverse_ad_dict):\n",
    "    count += 1\n",
    "#     if count>=10:\n",
    "#         break\n",
    "    try:\n",
    "        emb = ad_model[str(inverse_ad_dict[key])]\n",
    "#         print(emb)\n",
    "        weight[key,:] = torch.from_numpy(emb)\n",
    "    except:\n",
    "        pass"
   ]
  },
  {
   "cell_type": "code",
   "execution_count": 131,
   "metadata": {},
   "outputs": [],
   "source": [
    "pickle.dump(weight, open('/DATA/zhouyongyu/taac/weight_tensor_ad300.txt', 'wb'))"
   ]
  },
  {
   "cell_type": "code",
   "execution_count": null,
   "metadata": {},
   "outputs": [],
   "source": []
  },
  {
   "cell_type": "markdown",
   "metadata": {},
   "source": [
    "## advertiser"
   ]
  },
  {
   "cell_type": "code",
   "execution_count": 132,
   "metadata": {},
   "outputs": [
    {
     "name": "stdout",
     "output_type": "stream",
     "text": [
      "Word2Vec(vocab=57870, size=300, alpha=0.025)\n"
     ]
    }
   ],
   "source": [
    "advertiser_model = gensim.models.Word2Vec.load('/DATA/zhouyongyu/model_save/w2v_model/advertiser_300') # 读取词向量\n",
    "print(advertiser_model)"
   ]
  },
  {
   "cell_type": "code",
   "execution_count": 133,
   "metadata": {},
   "outputs": [],
   "source": [
    "inverse_advertiser_dict = {v: k for k, v in advertiser_dict.items()}"
   ]
  },
  {
   "cell_type": "code",
   "execution_count": 134,
   "metadata": {},
   "outputs": [
    {
     "name": "stderr",
     "output_type": "stream",
     "text": [
      "  0%|          | 0/56986 [00:00<?, ?it/s]/DATA/jipengfei/anaconda3/envs/zyy/lib/python3.6/site-packages/ipykernel_launcher.py:14: DeprecationWarning: Call to deprecated `__getitem__` (Method will be removed in 4.0.0, use self.wv.__getitem__() instead).\n",
      "  \n",
      "100%|██████████| 56986/56986 [00:01<00:00, 47904.56it/s]\n"
     ]
    }
   ],
   "source": [
    "import torch\n",
    "vocab_size = len(inverse_advertiser_dict)\n",
    "embed_size = 300\n",
    "weight = torch.zeros(vocab_size, embed_size)\n",
    "\n",
    "from tqdm import tqdm\n",
    "\n",
    "count = 0\n",
    "for key in tqdm(inverse_advertiser_dict):\n",
    "    count += 1\n",
    "#     if count>=10:\n",
    "#         break\n",
    "    try:\n",
    "        emb = advertiser_model[str(inverse_advertiser_dict[key])]\n",
    "#         print(emb)\n",
    "        weight[key,:] = torch.from_numpy(emb)\n",
    "    except:\n",
    "        pass"
   ]
  },
  {
   "cell_type": "code",
   "execution_count": 135,
   "metadata": {},
   "outputs": [],
   "source": [
    "pickle.dump(weight, open('/DATA/zhouyongyu/taac/weight_tensor_advertiser300.txt', 'wb'))"
   ]
  },
  {
   "cell_type": "code",
   "execution_count": null,
   "metadata": {},
   "outputs": [],
   "source": []
  },
  {
   "cell_type": "markdown",
   "metadata": {},
   "source": [
    "## click_times"
   ]
  },
  {
   "cell_type": "code",
   "execution_count": 76,
   "metadata": {},
   "outputs": [
    {
     "name": "stdout",
     "output_type": "stream",
     "text": [
      "Word2Vec(vocab=94, size=300, alpha=0.025)\n"
     ]
    }
   ],
   "source": [
    "advertiser_model = gensim.models.Word2Vec.load('/DATA/zhouyongyu/model_save/w2v_model/times_300') # 读取词向量\n",
    "print(advertiser_model)"
   ]
  },
  {
   "cell_type": "code",
   "execution_count": 77,
   "metadata": {},
   "outputs": [],
   "source": [
    "inverse_advertiser_dict = {v: k for k, v in times_dict.items()}"
   ]
  },
  {
   "cell_type": "code",
   "execution_count": 78,
   "metadata": {},
   "outputs": [
    {
     "name": "stderr",
     "output_type": "stream",
     "text": [
      "  0%|          | 0/47 [00:00<?, ?it/s]/DATA/jipengfei/anaconda3/envs/zyy/lib/python3.6/site-packages/ipykernel_launcher.py:14: DeprecationWarning: Call to deprecated `__getitem__` (Method will be removed in 4.0.0, use self.wv.__getitem__() instead).\n",
      "  \n",
      "100%|██████████| 47/47 [00:00<00:00, 3156.89it/s]\n"
     ]
    }
   ],
   "source": [
    "import torch\n",
    "vocab_size = len(inverse_advertiser_dict)\n",
    "embed_size = 300\n",
    "weight = torch.zeros(vocab_size, embed_size)\n",
    "\n",
    "from tqdm import tqdm\n",
    "\n",
    "count = 0\n",
    "for key in tqdm(inverse_advertiser_dict):\n",
    "    count += 1\n",
    "#     if count>=10:\n",
    "#         break\n",
    "    try:\n",
    "        emb = advertiser_model[str(inverse_advertiser_dict[key])]\n",
    "#         print(emb)\n",
    "        weight[key,:] = torch.from_numpy(emb)\n",
    "    except:\n",
    "        pass"
   ]
  },
  {
   "cell_type": "code",
   "execution_count": 79,
   "metadata": {},
   "outputs": [],
   "source": [
    "pickle.dump(weight, open('/DATA/zhouyongyu/taac/weight_tensor_times300.txt', 'wb'))"
   ]
  },
  {
   "cell_type": "code",
   "execution_count": null,
   "metadata": {},
   "outputs": [],
   "source": []
  },
  {
   "cell_type": "markdown",
   "metadata": {},
   "source": [
    "## product"
   ]
  },
  {
   "cell_type": "code",
   "execution_count": 106,
   "metadata": {},
   "outputs": [
    {
     "name": "stdout",
     "output_type": "stream",
     "text": [
      "Word2Vec(vocab=39057, size=300, alpha=0.025)\n"
     ]
    }
   ],
   "source": [
    "advertiser_model = gensim.models.Word2Vec.load('/DATA/zhouyongyu/model_save/w2v_model/product_300') # 读取词向量\n",
    "print(advertiser_model)"
   ]
  },
  {
   "cell_type": "code",
   "execution_count": 107,
   "metadata": {},
   "outputs": [],
   "source": [
    "inverse_advertiser_dict = {v: k for k, v in product_dict.items()}"
   ]
  },
  {
   "cell_type": "code",
   "execution_count": 108,
   "metadata": {},
   "outputs": [
    {
     "name": "stderr",
     "output_type": "stream",
     "text": [
      "  0%|          | 0/38131 [00:00<?, ?it/s]/DATA/jipengfei/anaconda3/envs/zyy/lib/python3.6/site-packages/ipykernel_launcher.py:14: DeprecationWarning: Call to deprecated `__getitem__` (Method will be removed in 4.0.0, use self.wv.__getitem__() instead).\n",
      "  \n",
      "100%|██████████| 38131/38131 [00:01<00:00, 36553.68it/s]\n"
     ]
    }
   ],
   "source": [
    "import torch\n",
    "vocab_size = len(inverse_advertiser_dict)\n",
    "embed_size = 300\n",
    "weight = torch.zeros(vocab_size, embed_size)\n",
    "\n",
    "from tqdm import tqdm\n",
    "\n",
    "count = 0\n",
    "for key in tqdm(inverse_advertiser_dict):\n",
    "    count += 1\n",
    "#     if count>=10:\n",
    "#         break\n",
    "    try:\n",
    "        emb = advertiser_model[str(inverse_advertiser_dict[key])]\n",
    "#         print(emb)\n",
    "        weight[key,:] = torch.from_numpy(emb)\n",
    "    except:\n",
    "        pass"
   ]
  },
  {
   "cell_type": "code",
   "execution_count": 109,
   "metadata": {},
   "outputs": [],
   "source": [
    "pickle.dump(weight, open('/DATA/zhouyongyu/taac/weight_tensor_product300.txt', 'wb'))"
   ]
  },
  {
   "cell_type": "code",
   "execution_count": null,
   "metadata": {},
   "outputs": [],
   "source": []
  },
  {
   "cell_type": "markdown",
   "metadata": {},
   "source": [
    "## category"
   ]
  },
  {
   "cell_type": "code",
   "execution_count": 80,
   "metadata": {},
   "outputs": [
    {
     "name": "stdout",
     "output_type": "stream",
     "text": [
      "Word2Vec(vocab=18, size=300, alpha=0.025)\n"
     ]
    }
   ],
   "source": [
    "advertiser_model = gensim.models.Word2Vec.load('/DATA/zhouyongyu/model_save/w2v_model/category_300') # 读取词向量\n",
    "print(advertiser_model)"
   ]
  },
  {
   "cell_type": "code",
   "execution_count": 81,
   "metadata": {},
   "outputs": [],
   "source": [
    "inverse_advertiser_dict = {v: k for k, v in category_dict.items()}"
   ]
  },
  {
   "cell_type": "code",
   "execution_count": 82,
   "metadata": {},
   "outputs": [
    {
     "name": "stderr",
     "output_type": "stream",
     "text": [
      "  0%|          | 0/19 [00:00<?, ?it/s]/DATA/jipengfei/anaconda3/envs/zyy/lib/python3.6/site-packages/ipykernel_launcher.py:14: DeprecationWarning: Call to deprecated `__getitem__` (Method will be removed in 4.0.0, use self.wv.__getitem__() instead).\n",
      "  \n",
      "100%|██████████| 19/19 [00:00<00:00, 9802.19it/s]\n"
     ]
    }
   ],
   "source": [
    "import torch\n",
    "vocab_size = len(inverse_advertiser_dict)\n",
    "embed_size = 300\n",
    "weight = torch.zeros(vocab_size, embed_size)\n",
    "\n",
    "from tqdm import tqdm\n",
    "\n",
    "count = 0\n",
    "for key in tqdm(inverse_advertiser_dict):\n",
    "    count += 1\n",
    "#     if count>=10:\n",
    "#         break\n",
    "    try:\n",
    "        emb = advertiser_model[str(inverse_advertiser_dict[key])]\n",
    "#         print(emb)\n",
    "        weight[key,:] = torch.from_numpy(emb)\n",
    "    except:\n",
    "        pass"
   ]
  },
  {
   "cell_type": "code",
   "execution_count": 83,
   "metadata": {},
   "outputs": [],
   "source": [
    "pickle.dump(weight, open('/DATA/zhouyongyu/taac/weight_tensor_category300.txt', 'wb'))"
   ]
  },
  {
   "cell_type": "code",
   "execution_count": null,
   "metadata": {},
   "outputs": [],
   "source": []
  },
  {
   "cell_type": "markdown",
   "metadata": {},
   "source": [
    "## industry"
   ]
  },
  {
   "cell_type": "code",
   "execution_count": 110,
   "metadata": {},
   "outputs": [
    {
     "name": "stdout",
     "output_type": "stream",
     "text": [
      "Word2Vec(vocab=332, size=300, alpha=0.025)\n"
     ]
    }
   ],
   "source": [
    "advertiser_model = gensim.models.Word2Vec.load('/DATA/zhouyongyu/model_save/w2v_model/industry_300') # 读取词向量\n",
    "print(advertiser_model)"
   ]
  },
  {
   "cell_type": "code",
   "execution_count": 111,
   "metadata": {},
   "outputs": [],
   "source": [
    "inverse_advertiser_dict = {v: k for k, v in industry_dict.items()}"
   ]
  },
  {
   "cell_type": "code",
   "execution_count": 112,
   "metadata": {},
   "outputs": [
    {
     "name": "stderr",
     "output_type": "stream",
     "text": [
      "  0%|          | 0/333 [00:00<?, ?it/s]/DATA/jipengfei/anaconda3/envs/zyy/lib/python3.6/site-packages/ipykernel_launcher.py:14: DeprecationWarning: Call to deprecated `__getitem__` (Method will be removed in 4.0.0, use self.wv.__getitem__() instead).\n",
      "  \n",
      "100%|██████████| 333/333 [00:00<00:00, 18053.89it/s]\n"
     ]
    }
   ],
   "source": [
    "import torch\n",
    "vocab_size = len(inverse_advertiser_dict)\n",
    "embed_size = 300\n",
    "weight = torch.zeros(vocab_size, embed_size)\n",
    "\n",
    "from tqdm import tqdm\n",
    "\n",
    "count = 0\n",
    "for key in tqdm(inverse_advertiser_dict):\n",
    "    count += 1\n",
    "#     if count>=10:\n",
    "#         break\n",
    "    try:\n",
    "        emb = advertiser_model[str(inverse_advertiser_dict[key])]\n",
    "#         print(emb)\n",
    "        weight[key,:] = torch.from_numpy(emb)\n",
    "    except:\n",
    "        pass"
   ]
  },
  {
   "cell_type": "code",
   "execution_count": 113,
   "metadata": {},
   "outputs": [],
   "source": [
    "pickle.dump(weight, open('/DATA/zhouyongyu/taac/weight_tensor_industry300.txt', 'wb'))"
   ]
  },
  {
   "cell_type": "code",
   "execution_count": null,
   "metadata": {},
   "outputs": [],
   "source": []
  },
  {
   "cell_type": "markdown",
   "metadata": {},
   "source": [
    "# 构建预测数据"
   ]
  },
  {
   "cell_type": "code",
   "execution_count": 84,
   "metadata": {},
   "outputs": [],
   "source": [
    "import pandas as pd"
   ]
  },
  {
   "cell_type": "code",
   "execution_count": 85,
   "metadata": {},
   "outputs": [],
   "source": [
    "test_creative_seq = pd.read_csv('/DATA/zhouyongyu/taac/test_creative_seq.csv')"
   ]
  },
  {
   "cell_type": "code",
   "execution_count": 86,
   "metadata": {},
   "outputs": [],
   "source": [
    "test_ad_seq = pd.read_csv('/DATA/zhouyongyu/taac/test_ad_seq.csv')\n",
    "test_advertiser_seq = pd.read_csv('/DATA/zhouyongyu/taac/test_advertiser_seq.csv')\n",
    "test_times_seq = pd.read_csv('/DATA/zhouyongyu/taac/test_times_seq.csv')\n",
    "test_product_seq = pd.read_csv('/DATA/zhouyongyu/taac/test_product_seq.csv')\n",
    "test_category_seq = pd.read_csv('/DATA/zhouyongyu/taac/test_category_seq.csv')\n",
    "test_industry_seq = pd.read_csv('/DATA/zhouyongyu/taac/test_industry_seq.csv')"
   ]
  },
  {
   "cell_type": "code",
   "execution_count": 89,
   "metadata": {},
   "outputs": [],
   "source": [
    "predict_merge_df = pd.merge(test_creative_seq, test_ad_seq, how='left', on=['user_id'])\n",
    "predict_merge_df = pd.merge(predict_merge_df, test_advertiser_seq, how='left', on=['user_id'])\n",
    "predict_merge_df = pd.merge(predict_merge_df, test_times_seq, how='left', on=['user_id'])\n",
    "predict_merge_df = pd.merge(predict_merge_df, test_product_seq, how='left', on=['user_id'])\n",
    "predict_merge_df = pd.merge(predict_merge_df, test_category_seq, how='left', on=['user_id'])\n",
    "predict_merge_df = pd.merge(predict_merge_df, test_industry_seq, how='left', on=['user_id'])"
   ]
  },
  {
   "cell_type": "code",
   "execution_count": 90,
   "metadata": {},
   "outputs": [
    {
     "data": {
      "text/html": [
       "<div>\n",
       "<style scoped>\n",
       "    .dataframe tbody tr th:only-of-type {\n",
       "        vertical-align: middle;\n",
       "    }\n",
       "\n",
       "    .dataframe tbody tr th {\n",
       "        vertical-align: top;\n",
       "    }\n",
       "\n",
       "    .dataframe thead th {\n",
       "        text-align: right;\n",
       "    }\n",
       "</style>\n",
       "<table border=\"1\" class=\"dataframe\">\n",
       "  <thead>\n",
       "    <tr style=\"text-align: right;\">\n",
       "      <th></th>\n",
       "      <th>user_id</th>\n",
       "      <th>creative_id</th>\n",
       "      <th>ad_id</th>\n",
       "      <th>advertiser_id</th>\n",
       "      <th>click_times</th>\n",
       "      <th>product_id</th>\n",
       "      <th>product_category</th>\n",
       "      <th>industry</th>\n",
       "    </tr>\n",
       "  </thead>\n",
       "  <tbody>\n",
       "    <tr>\n",
       "      <th>0</th>\n",
       "      <td>3000001</td>\n",
       "      <td>[351878, 665090, 103064, 593698, 1508864, 1711...</td>\n",
       "      <td>[315858, 589862, 93662, 527764, 1312021, 14823...</td>\n",
       "      <td>[7579, 7000, 13084, 9950, 39179, 32735, 17963,...</td>\n",
       "      <td>[1, 1, 1, 1, 1, 1, 1, 1, 1, 1, 1]</td>\n",
       "      <td>['\\\\N', '1701', '1794', '8938', '\\\\N', '27031'...</td>\n",
       "      <td>[18, 2, 2, 3, 18, 3, 3, 18, 18, 5, 18]</td>\n",
       "      <td>['322', '247', '248', '247', '322', '317', '32...</td>\n",
       "    </tr>\n",
       "    <tr>\n",
       "      <th>1</th>\n",
       "      <td>3000002</td>\n",
       "      <td>[152519, 151984, 12838, 176984, 72773, 64667, ...</td>\n",
       "      <td>[136730, 136259, 14271, 158762, 67139, 59874, ...</td>\n",
       "      <td>[12993, 27800, 10690, 24661, 10334, 10334, 132...</td>\n",
       "      <td>[1, 2, 1, 1, 1, 1, 1, 1, 1, 1, 2, 1, 1, 1, 1, ...</td>\n",
       "      <td>['1674', '\\\\N', '140', '1687', '1377', '1377',...</td>\n",
       "      <td>[2, 18, 2, 2, 2, 2, 2, 2, 2, 2, 8, 2, 5, 8, 2,...</td>\n",
       "      <td>['322', '24', '317', '5', '5', '5', '317', '31...</td>\n",
       "    </tr>\n",
       "    <tr>\n",
       "      <th>2</th>\n",
       "      <td>3000003</td>\n",
       "      <td>[161840, 73137, 115761, 36634, 367084, 150407,...</td>\n",
       "      <td>[145199, 67477, 104623, 35431, 331464, 134931,...</td>\n",
       "      <td>[22367, 22367, 25260, 22338, 40491, 18479, 146...</td>\n",
       "      <td>[1, 1, 1, 1, 1, 1, 1, 1, 1, 1, 1, 1, 1, 1, 1, ...</td>\n",
       "      <td>['82', '82', '\\\\N', '2065', '34504', '\\\\N', '\\...</td>\n",
       "      <td>[2, 2, 18, 2, 5, 18, 18, 2, 2, 5, 18, 18, 2, 1...</td>\n",
       "      <td>['319', '319', '47', '238', '202', '25', '326'...</td>\n",
       "    </tr>\n",
       "    <tr>\n",
       "      <th>3</th>\n",
       "      <td>3000004</td>\n",
       "      <td>[108656, 849706, 678427, 9870, 157180, 94025, ...</td>\n",
       "      <td>[98506, 748945, 601456, 11324, 140916, 85594, ...</td>\n",
       "      <td>[8520, 28323, 2286, 818, 2302, 8520, 8371, 230...</td>\n",
       "      <td>[1, 1, 1, 1, 1, 1, 1, 1, 1, 1, 1, 1, 1, 1, 1, ...</td>\n",
       "      <td>['1036', '\\\\N', '\\\\N', '1323', '1268', '1036',...</td>\n",
       "      <td>[2, 18, 18, 2, 2, 2, 18, 2, 2, 18, 18, 2, 2, 5...</td>\n",
       "      <td>['319', '40', '54', '319', '5', '319', '54', '...</td>\n",
       "    </tr>\n",
       "    <tr>\n",
       "      <th>4</th>\n",
       "      <td>3000005</td>\n",
       "      <td>[123860, 183003, 40625, 26793, 71219, 259607, ...</td>\n",
       "      <td>[111593, 164114, 38229, 27193, 65782, 233585, ...</td>\n",
       "      <td>[30710, 29243, 23746, 22388, 6763, 21001, 2654...</td>\n",
       "      <td>[1, 1, 1, 1, 1, 1, 2, 1, 1, 1, 1, 1, 1, 1, 1, ...</td>\n",
       "      <td>['1896', '1987', '129', '\\\\N', '\\\\N', '1538', ...</td>\n",
       "      <td>[2, 2, 2, 18, 18, 2, 2, 2, 2, 18, 18, 2, 2, 2,...</td>\n",
       "      <td>['238', '26', '6', '25', '28', '6', '319', '6'...</td>\n",
       "    </tr>\n",
       "  </tbody>\n",
       "</table>\n",
       "</div>"
      ],
      "text/plain": [
       "   user_id                                        creative_id  \\\n",
       "0  3000001  [351878, 665090, 103064, 593698, 1508864, 1711...   \n",
       "1  3000002  [152519, 151984, 12838, 176984, 72773, 64667, ...   \n",
       "2  3000003  [161840, 73137, 115761, 36634, 367084, 150407,...   \n",
       "3  3000004  [108656, 849706, 678427, 9870, 157180, 94025, ...   \n",
       "4  3000005  [123860, 183003, 40625, 26793, 71219, 259607, ...   \n",
       "\n",
       "                                               ad_id  \\\n",
       "0  [315858, 589862, 93662, 527764, 1312021, 14823...   \n",
       "1  [136730, 136259, 14271, 158762, 67139, 59874, ...   \n",
       "2  [145199, 67477, 104623, 35431, 331464, 134931,...   \n",
       "3  [98506, 748945, 601456, 11324, 140916, 85594, ...   \n",
       "4  [111593, 164114, 38229, 27193, 65782, 233585, ...   \n",
       "\n",
       "                                       advertiser_id  \\\n",
       "0  [7579, 7000, 13084, 9950, 39179, 32735, 17963,...   \n",
       "1  [12993, 27800, 10690, 24661, 10334, 10334, 132...   \n",
       "2  [22367, 22367, 25260, 22338, 40491, 18479, 146...   \n",
       "3  [8520, 28323, 2286, 818, 2302, 8520, 8371, 230...   \n",
       "4  [30710, 29243, 23746, 22388, 6763, 21001, 2654...   \n",
       "\n",
       "                                         click_times  \\\n",
       "0                  [1, 1, 1, 1, 1, 1, 1, 1, 1, 1, 1]   \n",
       "1  [1, 2, 1, 1, 1, 1, 1, 1, 1, 1, 2, 1, 1, 1, 1, ...   \n",
       "2  [1, 1, 1, 1, 1, 1, 1, 1, 1, 1, 1, 1, 1, 1, 1, ...   \n",
       "3  [1, 1, 1, 1, 1, 1, 1, 1, 1, 1, 1, 1, 1, 1, 1, ...   \n",
       "4  [1, 1, 1, 1, 1, 1, 2, 1, 1, 1, 1, 1, 1, 1, 1, ...   \n",
       "\n",
       "                                          product_id  \\\n",
       "0  ['\\\\N', '1701', '1794', '8938', '\\\\N', '27031'...   \n",
       "1  ['1674', '\\\\N', '140', '1687', '1377', '1377',...   \n",
       "2  ['82', '82', '\\\\N', '2065', '34504', '\\\\N', '\\...   \n",
       "3  ['1036', '\\\\N', '\\\\N', '1323', '1268', '1036',...   \n",
       "4  ['1896', '1987', '129', '\\\\N', '\\\\N', '1538', ...   \n",
       "\n",
       "                                    product_category  \\\n",
       "0             [18, 2, 2, 3, 18, 3, 3, 18, 18, 5, 18]   \n",
       "1  [2, 18, 2, 2, 2, 2, 2, 2, 2, 2, 8, 2, 5, 8, 2,...   \n",
       "2  [2, 2, 18, 2, 5, 18, 18, 2, 2, 5, 18, 18, 2, 1...   \n",
       "3  [2, 18, 18, 2, 2, 2, 18, 2, 2, 18, 18, 2, 2, 5...   \n",
       "4  [2, 2, 2, 18, 18, 2, 2, 2, 2, 18, 18, 2, 2, 2,...   \n",
       "\n",
       "                                            industry  \n",
       "0  ['322', '247', '248', '247', '322', '317', '32...  \n",
       "1  ['322', '24', '317', '5', '5', '5', '317', '31...  \n",
       "2  ['319', '319', '47', '238', '202', '25', '326'...  \n",
       "3  ['319', '40', '54', '319', '5', '319', '54', '...  \n",
       "4  ['238', '26', '6', '25', '28', '6', '319', '6'...  "
      ]
     },
     "execution_count": 90,
     "metadata": {},
     "output_type": "execute_result"
    }
   ],
   "source": [
    "predict_merge_df.head()"
   ]
  },
  {
   "cell_type": "code",
   "execution_count": 92,
   "metadata": {},
   "outputs": [],
   "source": [
    "from ast import literal_eval\n",
    "def hh(q, item_dict, length):\n",
    "    q = literal_eval(q)\n",
    "#     print(q)\n",
    "    if len(q) < length:\n",
    "        return [item_dict[x] for x in q] + [0]*(length-len(q))\n",
    "    else:\n",
    "        return [item_dict[x] for x in q[-length:]]"
   ]
  },
  {
   "cell_type": "code",
   "execution_count": 93,
   "metadata": {},
   "outputs": [],
   "source": [
    "predict_merge_df[\"creative_id\"]=predict_merge_df[\"creative_id\"].apply(hh, args = (creative_dict,89,))\n",
    "predict_merge_df[\"ad_id\"]=predict_merge_df[\"ad_id\"].apply(hh, args = (ad_dict,89,))\n",
    "predict_merge_df[\"advertiser_id\"]=predict_merge_df[\"advertiser_id\"].apply(hh, args = (advertiser_dict,89,))"
   ]
  },
  {
   "cell_type": "code",
   "execution_count": 94,
   "metadata": {},
   "outputs": [],
   "source": [
    "predict_merge_df[\"click_times\"]=predict_merge_df[\"click_times\"].apply(hh, args = (times_dict,89,))\n",
    "predict_merge_df[\"product_id\"]=predict_merge_df[\"product_id\"].apply(hh, args = (product_dict,89,))\n",
    "predict_merge_df[\"product_category\"]=predict_merge_df[\"product_category\"].apply(hh, args = (category_dict,89,))\n",
    "predict_merge_df[\"industry\"]=predict_merge_df[\"industry\"].apply(hh, args = (industry_dict,89,))"
   ]
  },
  {
   "cell_type": "code",
   "execution_count": 95,
   "metadata": {},
   "outputs": [
    {
     "data": {
      "text/html": [
       "<div>\n",
       "<style scoped>\n",
       "    .dataframe tbody tr th:only-of-type {\n",
       "        vertical-align: middle;\n",
       "    }\n",
       "\n",
       "    .dataframe tbody tr th {\n",
       "        vertical-align: top;\n",
       "    }\n",
       "\n",
       "    .dataframe thead th {\n",
       "        text-align: right;\n",
       "    }\n",
       "</style>\n",
       "<table border=\"1\" class=\"dataframe\">\n",
       "  <thead>\n",
       "    <tr style=\"text-align: right;\">\n",
       "      <th></th>\n",
       "      <th>user_id</th>\n",
       "      <th>creative_id</th>\n",
       "      <th>ad_id</th>\n",
       "      <th>advertiser_id</th>\n",
       "      <th>click_times</th>\n",
       "      <th>product_id</th>\n",
       "      <th>product_category</th>\n",
       "      <th>industry</th>\n",
       "    </tr>\n",
       "  </thead>\n",
       "  <tbody>\n",
       "    <tr>\n",
       "      <th>0</th>\n",
       "      <td>3000001</td>\n",
       "      <td>[682852, 66840, 6632, 39833, 29629, 26034, 499...</td>\n",
       "      <td>[656077, 65771, 6588, 39305, 29287, 25739, 491...</td>\n",
       "      <td>[3294, 1165, 77, 8398, 1023, 529, 2135, 1023, ...</td>\n",
       "      <td>[1, 1, 1, 1, 1, 1, 1, 1, 1, 1, 1, 0, 0, 0, 0, ...</td>\n",
       "      <td>[1, 637, 421, 2881, 1, 200, 594, 1, 1, 3600, 1...</td>\n",
       "      <td>[3, 2, 2, 9, 3, 9, 9, 3, 3, 1, 3, 0, 0, 0, 0, ...</td>\n",
       "      <td>[17, 26, 28, 26, 17, 11, 17, 17, 17, 32, 17, 0...</td>\n",
       "    </tr>\n",
       "    <tr>\n",
       "      <th>1</th>\n",
       "      <td>3000002</td>\n",
       "      <td>[16307, 283417, 1281, 9890, 447, 1277, 1414, 5...</td>\n",
       "      <td>[16144, 275963, 1277, 9806, 446, 1273, 1410, 5...</td>\n",
       "      <td>[900, 5201, 777, 699, 325, 325, 768, 13, 777, ...</td>\n",
       "      <td>[1, 2, 1, 1, 1, 1, 1, 1, 1, 1, 2, 1, 1, 1, 1, ...</td>\n",
       "      <td>[27, 1, 286, 256, 126, 126, 123, 7, 286, 126, ...</td>\n",
       "      <td>[2, 3, 2, 2, 2, 2, 2, 2, 2, 2, 4, 2, 1, 4, 2, ...</td>\n",
       "      <td>[17, 62, 11, 14, 14, 14, 11, 10, 11, 14, 22, 1...</td>\n",
       "    </tr>\n",
       "    <tr>\n",
       "      <th>2</th>\n",
       "      <td>3000003</td>\n",
       "      <td>[105697, 24040, 9562, 8816, 452070, 467673, 78...</td>\n",
       "      <td>[103739, 23776, 9485, 8748, 437465, 452353, 75...</td>\n",
       "      <td>[387, 387, 26, 3286, 9864, 5359, 6, 1275, 15, ...</td>\n",
       "      <td>[1, 1, 1, 1, 1, 1, 1, 1, 1, 1, 1, 1, 1, 1, 1, ...</td>\n",
       "      <td>[150, 150, 1, 19, 3436, 1, 1, 454, 9, 1, 1, 1,...</td>\n",
       "      <td>[2, 2, 3, 2, 1, 3, 3, 2, 2, 1, 3, 3, 2, 3, 3, ...</td>\n",
       "      <td>[16, 16, 12, 9, 53, 27, 2, 9, 3, 161, 35, 37, ...</td>\n",
       "    </tr>\n",
       "    <tr>\n",
       "      <th>3</th>\n",
       "      <td>3000004</td>\n",
       "      <td>[3727, 650376, 96551, 15307, 29, 80097, 75217,...</td>\n",
       "      <td>[3703, 625495, 94806, 15156, 29, 2524, 73957, ...</td>\n",
       "      <td>[123, 1142, 1425, 44, 28, 123, 54, 28, 2390, 2...</td>\n",
       "      <td>[1, 1, 1, 1, 1, 1, 1, 1, 1, 1, 1, 1, 1, 1, 1, ...</td>\n",
       "      <td>[54, 1, 1, 22, 12, 54, 1, 12, 66, 1, 1, 95, 88...</td>\n",
       "      <td>[2, 3, 3, 2, 2, 2, 3, 2, 2, 3, 3, 2, 2, 1, 3, ...</td>\n",
       "      <td>[16, 80, 23, 16, 14, 16, 23, 14, 49, 12, 12, 1...</td>\n",
       "    </tr>\n",
       "    <tr>\n",
       "      <th>4</th>\n",
       "      <td>3000005</td>\n",
       "      <td>[43718, 458791, 384, 179624, 263779, 3525, 317...</td>\n",
       "      <td>[43101, 443876, 383, 175650, 257087, 3501, 308...</td>\n",
       "      <td>[420, 6984, 286, 3907, 595, 1668, 1690, 10707,...</td>\n",
       "      <td>[1, 1, 1, 1, 1, 1, 2, 1, 1, 1, 1, 1, 1, 1, 1, ...</td>\n",
       "      <td>[160, 1526, 9, 1, 1, 497, 33, 96, 96, 1, 1, 16...</td>\n",
       "      <td>[2, 2, 2, 3, 3, 2, 2, 2, 2, 3, 3, 2, 2, 2, 2, ...</td>\n",
       "      <td>[9, 58, 3, 27, 37, 3, 16, 3, 3, 61, 27, 26, 26...</td>\n",
       "    </tr>\n",
       "  </tbody>\n",
       "</table>\n",
       "</div>"
      ],
      "text/plain": [
       "   user_id                                        creative_id  \\\n",
       "0  3000001  [682852, 66840, 6632, 39833, 29629, 26034, 499...   \n",
       "1  3000002  [16307, 283417, 1281, 9890, 447, 1277, 1414, 5...   \n",
       "2  3000003  [105697, 24040, 9562, 8816, 452070, 467673, 78...   \n",
       "3  3000004  [3727, 650376, 96551, 15307, 29, 80097, 75217,...   \n",
       "4  3000005  [43718, 458791, 384, 179624, 263779, 3525, 317...   \n",
       "\n",
       "                                               ad_id  \\\n",
       "0  [656077, 65771, 6588, 39305, 29287, 25739, 491...   \n",
       "1  [16144, 275963, 1277, 9806, 446, 1273, 1410, 5...   \n",
       "2  [103739, 23776, 9485, 8748, 437465, 452353, 75...   \n",
       "3  [3703, 625495, 94806, 15156, 29, 2524, 73957, ...   \n",
       "4  [43101, 443876, 383, 175650, 257087, 3501, 308...   \n",
       "\n",
       "                                       advertiser_id  \\\n",
       "0  [3294, 1165, 77, 8398, 1023, 529, 2135, 1023, ...   \n",
       "1  [900, 5201, 777, 699, 325, 325, 768, 13, 777, ...   \n",
       "2  [387, 387, 26, 3286, 9864, 5359, 6, 1275, 15, ...   \n",
       "3  [123, 1142, 1425, 44, 28, 123, 54, 28, 2390, 2...   \n",
       "4  [420, 6984, 286, 3907, 595, 1668, 1690, 10707,...   \n",
       "\n",
       "                                         click_times  \\\n",
       "0  [1, 1, 1, 1, 1, 1, 1, 1, 1, 1, 1, 0, 0, 0, 0, ...   \n",
       "1  [1, 2, 1, 1, 1, 1, 1, 1, 1, 1, 2, 1, 1, 1, 1, ...   \n",
       "2  [1, 1, 1, 1, 1, 1, 1, 1, 1, 1, 1, 1, 1, 1, 1, ...   \n",
       "3  [1, 1, 1, 1, 1, 1, 1, 1, 1, 1, 1, 1, 1, 1, 1, ...   \n",
       "4  [1, 1, 1, 1, 1, 1, 2, 1, 1, 1, 1, 1, 1, 1, 1, ...   \n",
       "\n",
       "                                          product_id  \\\n",
       "0  [1, 637, 421, 2881, 1, 200, 594, 1, 1, 3600, 1...   \n",
       "1  [27, 1, 286, 256, 126, 126, 123, 7, 286, 126, ...   \n",
       "2  [150, 150, 1, 19, 3436, 1, 1, 454, 9, 1, 1, 1,...   \n",
       "3  [54, 1, 1, 22, 12, 54, 1, 12, 66, 1, 1, 95, 88...   \n",
       "4  [160, 1526, 9, 1, 1, 497, 33, 96, 96, 1, 1, 16...   \n",
       "\n",
       "                                    product_category  \\\n",
       "0  [3, 2, 2, 9, 3, 9, 9, 3, 3, 1, 3, 0, 0, 0, 0, ...   \n",
       "1  [2, 3, 2, 2, 2, 2, 2, 2, 2, 2, 4, 2, 1, 4, 2, ...   \n",
       "2  [2, 2, 3, 2, 1, 3, 3, 2, 2, 1, 3, 3, 2, 3, 3, ...   \n",
       "3  [2, 3, 3, 2, 2, 2, 3, 2, 2, 3, 3, 2, 2, 1, 3, ...   \n",
       "4  [2, 2, 2, 3, 3, 2, 2, 2, 2, 3, 3, 2, 2, 2, 2, ...   \n",
       "\n",
       "                                            industry  \n",
       "0  [17, 26, 28, 26, 17, 11, 17, 17, 17, 32, 17, 0...  \n",
       "1  [17, 62, 11, 14, 14, 14, 11, 10, 11, 14, 22, 1...  \n",
       "2  [16, 16, 12, 9, 53, 27, 2, 9, 3, 161, 35, 37, ...  \n",
       "3  [16, 80, 23, 16, 14, 16, 23, 14, 49, 12, 12, 1...  \n",
       "4  [9, 58, 3, 27, 37, 3, 16, 3, 3, 61, 27, 26, 26...  "
      ]
     },
     "execution_count": 95,
     "metadata": {},
     "output_type": "execute_result"
    }
   ],
   "source": [
    "predict_merge_df.head()"
   ]
  },
  {
   "cell_type": "code",
   "execution_count": 96,
   "metadata": {},
   "outputs": [
    {
     "name": "stderr",
     "output_type": "stream",
     "text": [
      "100%|██████████| 1000000/1000000 [00:00<00:00, 1926305.11it/s]\n"
     ]
    }
   ],
   "source": [
    "predict_creative_str = predict_merge_df['creative_id'].tolist()\n",
    "# print(test_input_str[:5])\n",
    "predict_creative = []\n",
    "from ast import literal_eval\n",
    "from tqdm import tqdm\n",
    "for item in tqdm(predict_creative_str):\n",
    "    predict_creative.append(item)"
   ]
  },
  {
   "cell_type": "code",
   "execution_count": 97,
   "metadata": {},
   "outputs": [
    {
     "name": "stderr",
     "output_type": "stream",
     "text": [
      "100%|██████████| 1000000/1000000 [00:00<00:00, 1916217.04it/s]\n"
     ]
    }
   ],
   "source": [
    "predict_ad_str = predict_merge_df['ad_id'].tolist()\n",
    "# print(test_input_str[:5])\n",
    "predict_ad = []\n",
    "from ast import literal_eval\n",
    "from tqdm import tqdm\n",
    "for item in tqdm(predict_ad_str):\n",
    "    predict_ad.append(item)"
   ]
  },
  {
   "cell_type": "code",
   "execution_count": 98,
   "metadata": {},
   "outputs": [
    {
     "name": "stderr",
     "output_type": "stream",
     "text": [
      "100%|██████████| 1000000/1000000 [00:00<00:00, 1901953.56it/s]\n"
     ]
    }
   ],
   "source": [
    "predict_advertiser_str = predict_merge_df['advertiser_id'].tolist()\n",
    "# print(test_input_str[:5])\n",
    "predict_advertiser = []\n",
    "from ast import literal_eval\n",
    "from tqdm import tqdm\n",
    "for item in tqdm(predict_advertiser_str):\n",
    "    predict_advertiser.append(item)"
   ]
  },
  {
   "cell_type": "code",
   "execution_count": 99,
   "metadata": {},
   "outputs": [
    {
     "name": "stderr",
     "output_type": "stream",
     "text": [
      "100%|██████████| 1000000/1000000 [00:00<00:00, 1926341.38it/s]\n"
     ]
    }
   ],
   "source": [
    "predict_advertiser_str = predict_merge_df['click_times'].tolist()\n",
    "# print(test_input_str[:5])\n",
    "predict_times = []\n",
    "from ast import literal_eval\n",
    "from tqdm import tqdm\n",
    "for item in tqdm(predict_advertiser_str):\n",
    "    predict_times.append(item)"
   ]
  },
  {
   "cell_type": "code",
   "execution_count": 100,
   "metadata": {},
   "outputs": [
    {
     "name": "stderr",
     "output_type": "stream",
     "text": [
      "100%|██████████| 1000000/1000000 [00:00<00:00, 1921960.50it/s]\n"
     ]
    }
   ],
   "source": [
    "predict_advertiser_str = predict_merge_df['product_id'].tolist()\n",
    "# print(test_input_str[:5])\n",
    "predict_product = []\n",
    "from ast import literal_eval\n",
    "from tqdm import tqdm\n",
    "for item in tqdm(predict_advertiser_str):\n",
    "    predict_product.append(item)"
   ]
  },
  {
   "cell_type": "code",
   "execution_count": 101,
   "metadata": {},
   "outputs": [
    {
     "name": "stderr",
     "output_type": "stream",
     "text": [
      "100%|██████████| 1000000/1000000 [00:00<00:00, 1919040.13it/s]\n"
     ]
    }
   ],
   "source": [
    "predict_advertiser_str = predict_merge_df['product_category'].tolist()\n",
    "# print(test_input_str[:5])\n",
    "predict_category = []\n",
    "from ast import literal_eval\n",
    "from tqdm import tqdm\n",
    "for item in tqdm(predict_advertiser_str):\n",
    "    predict_category.append(item)"
   ]
  },
  {
   "cell_type": "code",
   "execution_count": 102,
   "metadata": {},
   "outputs": [
    {
     "name": "stderr",
     "output_type": "stream",
     "text": [
      "100%|██████████| 1000000/1000000 [00:00<00:00, 1896697.62it/s]\n"
     ]
    }
   ],
   "source": [
    "predict_advertiser_str = predict_merge_df['industry'].tolist()\n",
    "# print(test_input_str[:5])\n",
    "predict_industry = []\n",
    "from ast import literal_eval\n",
    "from tqdm import tqdm\n",
    "for item in tqdm(predict_advertiser_str):\n",
    "    predict_industry.append(item)"
   ]
  },
  {
   "cell_type": "code",
   "execution_count": 103,
   "metadata": {},
   "outputs": [
    {
     "name": "stderr",
     "output_type": "stream",
     "text": [
      "100%|██████████| 1000000/1000000 [00:08<00:00, 111216.43it/s]\n"
     ]
    }
   ],
   "source": [
    "predict_mask = []\n",
    "for input in tqdm(predict_creative):\n",
    "    predict_mask.append([1 if item != 0 else 0 for item in input])"
   ]
  },
  {
   "cell_type": "code",
   "execution_count": 104,
   "metadata": {},
   "outputs": [],
   "source": [
    "predict_user = predict_merge_df['user_id'].tolist()"
   ]
  },
  {
   "cell_type": "code",
   "execution_count": 105,
   "metadata": {},
   "outputs": [],
   "source": [
    "pickle.dump((predict_creative, predict_ad, predict_advertiser, predict_times, predict_product, predict_category, predict_industry, predict_mask,  predict_user), open('/DATA/zhouyongyu/taac/predict_7_input.txt', 'wb'))"
   ]
  },
  {
   "cell_type": "code",
   "execution_count": null,
   "metadata": {},
   "outputs": [],
   "source": []
  }
 ],
 "metadata": {
  "kernelspec": {
   "display_name": "Python [conda env:zyy] *",
   "language": "python",
   "name": "conda-env-zyy-py"
  },
  "language_info": {
   "codemirror_mode": {
    "name": "ipython",
    "version": 3
   },
   "file_extension": ".py",
   "mimetype": "text/x-python",
   "name": "python",
   "nbconvert_exporter": "python",
   "pygments_lexer": "ipython3",
   "version": "3.6.10"
  }
 },
 "nbformat": 4,
 "nbformat_minor": 4
}
